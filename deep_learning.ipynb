{
 "cells": [
  {
   "cell_type": "markdown",
   "metadata": {},
   "source": [
    "<b> Final Project </b>\n",
    "==="
   ]
  },
  {
   "cell_type": "markdown",
   "metadata": {},
   "source": [
    "Introduction\n",
    "==="
   ]
  },
  {
   "cell_type": "code",
   "execution_count": 1,
   "metadata": {},
   "outputs": [
    {
     "data": {
      "text/plain": [
       "'\\n=================================================\\nFinal Project\\n\\nNama  : Sam & Edo aka 2 survivors\\nBatch : BSD-10\\n\\nThis program will prepare, process, and make predictions on apartment rental prices.\\n=================================================\\n'"
      ]
     },
     "execution_count": 1,
     "metadata": {},
     "output_type": "execute_result"
    }
   ],
   "source": [
    "'''\n",
    "=================================================\n",
    "Final Project\n",
    "\n",
    "Nama  : Sam & Edo aka 2 survivors\n",
    "Batch : BSD-10\n",
    "\n",
    "This program will prepare, process, and make predictions on apartment rental prices.\n",
    "=================================================\n",
    "'''"
   ]
  },
  {
   "cell_type": "markdown",
   "metadata": {},
   "source": [
    "## Background\n",
    "\n",
    "In the rapidly growing e-commerce industry, on-time delivery is a critical factor in customer satisfaction and business success. Delays in shipping can lead to negative reviews, increased return rates, and loss of customer trust, ultimately impacting revenue and brand reputation. By analyzing historical shipping data with machine learning, we can predict delays before they happen and take corrective actions and identify key factors such as shipping mode, warehouse block, etc that's contributing to delays. This project aims to leverage data science to minimize delivery delays, enhancing both customer satisfaction and operational efficiency in e-commerce."
   ]
  },
  {
   "cell_type": "markdown",
   "metadata": {},
   "source": [
    "## Problem Statement\n",
    "\n",
    "Within the next two weeks, we will build a classification model that, on a 20% test split of 10,999 shipping transactions, can detect at least 85% of all delayed shipments (delay-class recall ≥ 85%) with accuracy ≥ 85%, using the available features (product cost, weight, customer service calls, prior purchases, discounts, etc.), supported by data quality validation (Great Expectations) and a pipeline that can be saved and deployed\n"
   ]
  },
  {
   "cell_type": "markdown",
   "metadata": {},
   "source": [
    "## Problem Exploratory Questions\n",
    "\n",
    "1. How big is the baseline delay (class balance)?\n",
    "2. Which warehouse is most at risk of delays?\n",
    "3. Which mode represents the highest risk, and how large is the risk differential to warrant prioritizing it for SLA/vendor negotiation or rerouting?\n",
    "4. Of all late deliveries, what proportion is contributed by each shipping mode (Flight/Road/Ship), and which mode contributes the largest portion of delay incidents?\n",
    "5. Which product importance segment is most vulnerable (High/Medium/Low) to delays?\n",
    "6. Does package weight affect delays?\n",
    "7. How does the discount affect the late rate?\n",
    "8. Does the number of calls to CS correlate with delays?"
   ]
  },
  {
   "cell_type": "markdown",
   "metadata": {},
   "source": [
    "Preparation\n",
    "==="
   ]
  },
  {
   "cell_type": "markdown",
   "metadata": {},
   "source": [
    "## Import Libraries"
   ]
  },
  {
   "cell_type": "code",
   "execution_count": 2,
   "metadata": {},
   "outputs": [],
   "source": [
    "# data manipulation and mathematics operation\n",
    "import pandas as pd\n",
    "import numpy as np\n",
    "\n",
    "# stats library\n",
    "from scipy import stats\n",
    "\n",
    "# data visualization\n",
    "import matplotlib.pyplot as plt\n",
    "import matplotlib.cm as cm\n",
    "import seaborn as sns\n",
    "from datetime import datetime, timedelta\n",
    "\n",
    "# stats library\n",
    "from scipy import stats\n",
    "from scipy.stats import zscore\n",
    "from scipy.stats import skew\n",
    "from scipy.stats import pearsonr\n",
    "\n",
    "# data preprocessing\n",
    "from sklearn.model_selection import train_test_split, cross_val_score\n",
    "from feature_engine.outliers import Winsorizer\n",
    "\n",
    "# pipeline\n",
    "from sklearn.pipeline import Pipeline\n",
    "from sklearn.compose import ColumnTransformer\n",
    "from sklearn.preprocessing import StandardScaler, OrdinalEncoder\n",
    "\n",
    "# model\n",
    "from sklearn.linear_model import LogisticRegression\n",
    "from sklearn.ensemble import RandomForestClassifier\n",
    "from xgboost import XGBClassifier\n",
    "from sklearn.svm import SVC\n",
    "\n",
    "# learn\n",
    "from sklearn.model_selection import GridSearchCV\n",
    "\n",
    "# model evaluation\n",
    "from sklearn.metrics import recall_score, precision_score, roc_auc_score, confusion_matrix, classification_report, RocCurveDisplay\n",
    "\n",
    "# warning\n",
    "import warnings\n",
    "warnings.filterwarnings('ignore') #turn off warning\n",
    "\n",
    "# counter\n",
    "from collections import Counter\n",
    "\n",
    "# model saving\n",
    "import pickle\n",
    "\n",
    "# great expectations\n",
    "import great_expectations as ge\n",
    "from great_expectations.data_context import FileDataContext\n",
    "\n",
    "from tensorflow.keras.models import Sequential\n",
    "from tensorflow.keras.layers import Dense, Dropout, BatchNormalization\n",
    "from tensorflow.keras import regularizers\n",
    "from tensorflow.keras.callbacks import EarlyStopping\n",
    "from tensorflow.keras.optimizers import Adam\n",
    "\n",
    "import tensorflow as tf"
   ]
  },
  {
   "cell_type": "markdown",
   "metadata": {},
   "source": [
    "## Data Introduction"
   ]
  },
  {
   "cell_type": "markdown",
   "metadata": {},
   "source": [
    "We are going to use a dataset from Kaggle.com\n",
    "\n",
    "Here are some information below,\n",
    "\n",
    "Description: The dataset raw_data.csv contains information about E-Commerce Shipping Data\n",
    "\n",
    "| Columns' names | Dtype | Description |\n",
    "|-----|------|--------|\n",
    "| id | int |  ID Number of Customers|\n",
    "| warehouse_block | str | The Company have big Warehouse which is divided in to block in alphabets|\n",
    "| mode_of_shipment | str | The Company Ships the products in multiple way such as Ship, Flight and Road|\n",
    "| customer_care_calls | int |  The number of calls made from enquiry for enquiry of the shipment|\n",
    "| customer_rating | int | The company has rated from every customer. 1 is the lowest (Worst), 5 is the highest (Best).|\n",
    "| cost_of_the_product | int | Cost of the Product in US Dollars|\n",
    "| prior_purchases | int | The Number of Prior Purchase|\n",
    "| product_importance | str | The company has categorized the product in the various parameter such as low, medium, high|\n",
    "| gender | str | Male and Female|\n",
    "| discount_offered | int | Discount offered on that specific product|\n",
    "| weight_in_gms  | int | It is the weight in grams|\n",
    "| reached_on_time | int | It is the target variable, where 1 Indicates that the product has NOT reached on time and 0 indicates it has reached on time|\n",
    "\n"
   ]
  },
  {
   "cell_type": "code",
   "execution_count": 3,
   "metadata": {},
   "outputs": [
    {
     "name": "stdout",
     "output_type": "stream",
     "text": [
      "<class 'pandas.core.frame.DataFrame'>\n",
      "RangeIndex: 10999 entries, 0 to 10998\n",
      "Data columns (total 12 columns):\n",
      " #   Column               Non-Null Count  Dtype \n",
      "---  ------               --------------  ----- \n",
      " 0   ID                   10999 non-null  int64 \n",
      " 1   Warehouse_block      10999 non-null  object\n",
      " 2   Mode_of_Shipment     10999 non-null  object\n",
      " 3   Customer_care_calls  10999 non-null  int64 \n",
      " 4   Customer_rating      10999 non-null  int64 \n",
      " 5   Cost_of_the_Product  10999 non-null  int64 \n",
      " 6   Prior_purchases      10999 non-null  int64 \n",
      " 7   Product_importance   10999 non-null  object\n",
      " 8   Gender               10999 non-null  object\n",
      " 9   Discount_offered     10999 non-null  int64 \n",
      " 10  Weight_in_gms        10999 non-null  int64 \n",
      " 11  Reached.on.Time_Y.N  10999 non-null  int64 \n",
      "dtypes: int64(8), object(4)\n",
      "memory usage: 1.0+ MB\n"
     ]
    },
    {
     "data": {
      "text/html": [
       "<div>\n",
       "<style scoped>\n",
       "    .dataframe tbody tr th:only-of-type {\n",
       "        vertical-align: middle;\n",
       "    }\n",
       "\n",
       "    .dataframe tbody tr th {\n",
       "        vertical-align: top;\n",
       "    }\n",
       "\n",
       "    .dataframe thead th {\n",
       "        text-align: right;\n",
       "    }\n",
       "</style>\n",
       "<table border=\"1\" class=\"dataframe\">\n",
       "  <thead>\n",
       "    <tr style=\"text-align: right;\">\n",
       "      <th></th>\n",
       "      <th>ID</th>\n",
       "      <th>Warehouse_block</th>\n",
       "      <th>Mode_of_Shipment</th>\n",
       "      <th>Customer_care_calls</th>\n",
       "      <th>Customer_rating</th>\n",
       "      <th>Cost_of_the_Product</th>\n",
       "      <th>Prior_purchases</th>\n",
       "      <th>Product_importance</th>\n",
       "      <th>Gender</th>\n",
       "      <th>Discount_offered</th>\n",
       "      <th>Weight_in_gms</th>\n",
       "      <th>Reached.on.Time_Y.N</th>\n",
       "    </tr>\n",
       "  </thead>\n",
       "  <tbody>\n",
       "    <tr>\n",
       "      <th>0</th>\n",
       "      <td>1</td>\n",
       "      <td>D</td>\n",
       "      <td>Flight</td>\n",
       "      <td>4</td>\n",
       "      <td>2</td>\n",
       "      <td>177</td>\n",
       "      <td>3</td>\n",
       "      <td>low</td>\n",
       "      <td>F</td>\n",
       "      <td>44</td>\n",
       "      <td>1233</td>\n",
       "      <td>1</td>\n",
       "    </tr>\n",
       "    <tr>\n",
       "      <th>1</th>\n",
       "      <td>2</td>\n",
       "      <td>F</td>\n",
       "      <td>Flight</td>\n",
       "      <td>4</td>\n",
       "      <td>5</td>\n",
       "      <td>216</td>\n",
       "      <td>2</td>\n",
       "      <td>low</td>\n",
       "      <td>M</td>\n",
       "      <td>59</td>\n",
       "      <td>3088</td>\n",
       "      <td>1</td>\n",
       "    </tr>\n",
       "    <tr>\n",
       "      <th>2</th>\n",
       "      <td>3</td>\n",
       "      <td>A</td>\n",
       "      <td>Flight</td>\n",
       "      <td>2</td>\n",
       "      <td>2</td>\n",
       "      <td>183</td>\n",
       "      <td>4</td>\n",
       "      <td>low</td>\n",
       "      <td>M</td>\n",
       "      <td>48</td>\n",
       "      <td>3374</td>\n",
       "      <td>1</td>\n",
       "    </tr>\n",
       "  </tbody>\n",
       "</table>\n",
       "</div>"
      ],
      "text/plain": [
       "   ID Warehouse_block Mode_of_Shipment  Customer_care_calls  Customer_rating  \\\n",
       "0   1               D           Flight                    4                2   \n",
       "1   2               F           Flight                    4                5   \n",
       "2   3               A           Flight                    2                2   \n",
       "\n",
       "   Cost_of_the_Product  Prior_purchases Product_importance Gender  \\\n",
       "0                  177                3                low      F   \n",
       "1                  216                2                low      M   \n",
       "2                  183                4                low      M   \n",
       "\n",
       "   Discount_offered  Weight_in_gms  Reached.on.Time_Y.N  \n",
       "0                44           1233                    1  \n",
       "1                59           3088                    1  \n",
       "2                48           3374                    1  "
      ]
     },
     "execution_count": 3,
     "metadata": {},
     "output_type": "execute_result"
    }
   ],
   "source": [
    "# display max\n",
    "pd.set_option('display.max_columns', None)\n",
    "\n",
    "# load data\n",
    "rw = pd.read_csv('raw_data.csv')\n",
    "\n",
    "# data info\n",
    "rw.info()\n",
    "\n",
    "# show the first 3 rows\n",
    "rw.head(3)"
   ]
  },
  {
   "cell_type": "markdown",
   "metadata": {},
   "source": [
    "### Confusion Matrix Definition\n",
    "\n",
    "Target Variable / y / Actual Labels:\n",
    "- Positive Class (1): Shipment is delayed.\n",
    "\n",
    "- Negative Class (0): Shipment is on-time.\n",
    "\n",
    "Model Prediction / x / Predicted Labels:\n",
    "- Positive Prediction (1): The model predicts the shipment will be delayed.\n",
    "\n",
    "- Negative Prediction (0): The model predicts the shipment will be on-time.\n",
    "\n",
    "Matrix:\n",
    "\n",
    "- True Positives (TP): Shipments correctly predicted as delayed.\n",
    "\n",
    "- False Positives (FP): Shipments incorrectly flagged as delayed (actually: on-time).\n",
    "\n",
    "- True Negatives (TN): Shipments correctly predicted as on-time.\n",
    "\n",
    "- False Negatives (FN): Shipments incorrectly predicted as on-time (actually: delayed).\n",
    "\n",
    "The key goal is to minimize false negatives (failing to predict delays that actually occur). This is because missing a delay (high false negatives) is more costly than falsely predicting a delay (false positives)."
   ]
  },
  {
   "cell_type": "markdown",
   "metadata": {},
   "source": [
    "### Summary\n",
    "\n",
    "Details for the dataset:\n",
    "\n",
    "The dataset has 10999 entries with 12 columns. There are 6 categoricals,\n",
    "\n",
    "- **Categorical Nominal,**\n",
    " \n",
    "  These columns have categories without any inherent order or ranking:\n",
    "\n",
    "    - warehouse_block: A-F, with no specific order.\n",
    "\n",
    "    - mode_of_shipment: Ship, Road, and Flight.\n",
    "\n",
    "    - gender: Male and Female.\n",
    "\n",
    "- **Categorical Ordinal,**\n",
    "\n",
    "  These columns have categories that inherent order or ranking:\n",
    "\n",
    "    - product_importance: low, medium, and high, which represents a clear order of importance.\n",
    "\n",
    "    - customer_rating: An ordinal scale from 1 to 5, 1 as very bad and 5 as excellent.\n",
    "\n",
    "    - reached_on_time: A binary outcome (0 or 1), 0: no & 1: yes.\n",
    "\n",
    "and 6 numerical data,\n",
    "\n",
    "- Numerical Discrete,\n",
    "\n",
    "  These columns represent countable whole numbers or specific counts:\n",
    "\n",
    "    - id: A unique identifier for each entry.\n",
    "\n",
    "    - customer_care_calls: The count of calls made by the customer.\n",
    "\n",
    "    - prior_purchases: The count of prior purchases made by the customer.\n",
    "\n",
    "    - discount_offered: The integer percentage discount offered.\n",
    "\n",
    "- Numerical Continuous,\n",
    "  \n",
    "  These columns represent measurements that can take any value within a range:\n",
    "\n",
    "    - cost_of_the_product: A measurement of the cost of the product.\n",
    "\n",
    "    - weight_in_gms: A measurement of the weight in grams.\n",
    "\n",
    "Overall, it has 6 categoricals Dtype and 6 numericals Dtype with 4 strings and 8 integers"
   ]
  },
  {
   "cell_type": "markdown",
   "metadata": {},
   "source": [
    "## Data Awareness\n",
    "\n",
    "Here we want to look into the data to observe what are we going to work with, does it has duplicates?, how many missing values?, is there any unique missing values?, etc.\n"
   ]
  },
  {
   "cell_type": "markdown",
   "metadata": {},
   "source": [
    "### Evaluate Duplicates"
   ]
  },
  {
   "cell_type": "code",
   "execution_count": 4,
   "metadata": {},
   "outputs": [
    {
     "name": "stdout",
     "output_type": "stream",
     "text": [
      "Number of duplicates: 0\n"
     ]
    }
   ],
   "source": [
    "# check for duplicates\n",
    "print(f'Number of duplicates: {rw.duplicated().sum()}')"
   ]
  },
  {
   "cell_type": "markdown",
   "metadata": {},
   "source": [
    "### Evaluate Missing Values"
   ]
  },
  {
   "cell_type": "code",
   "execution_count": 5,
   "metadata": {},
   "outputs": [
    {
     "name": "stdout",
     "output_type": "stream",
     "text": [
      "Number of NaN values per column:\n",
      "ID                     0\n",
      "Warehouse_block        0\n",
      "Mode_of_Shipment       0\n",
      "Customer_care_calls    0\n",
      "Customer_rating        0\n",
      "Cost_of_the_Product    0\n",
      "Prior_purchases        0\n",
      "Product_importance     0\n",
      "Gender                 0\n",
      "Discount_offered       0\n",
      "Weight_in_gms          0\n",
      "Reached.on.Time_Y.N    0\n",
      "dtype: int64\n"
     ]
    }
   ],
   "source": [
    "# check for NaN values in each columns\n",
    "nan_count = rw.isnull().sum()\n",
    "\n",
    "print(\"Number of NaN values per column:\")\n",
    "print(nan_count)"
   ]
  },
  {
   "cell_type": "markdown",
   "metadata": {},
   "source": [
    "### Evaluate specific value of string \"NaN\""
   ]
  },
  {
   "cell_type": "code",
   "execution_count": 6,
   "metadata": {},
   "outputs": [
    {
     "name": "stdout",
     "output_type": "stream",
     "text": [
      "No columns contain the string 'NaN'.\n"
     ]
    }
   ],
   "source": [
    "# check for the string 'NaN' in each column\n",
    "nan_in_string_counts = {}\n",
    "for col in rw.columns:\n",
    "    if rw[col].dtype == 'object':\n",
    "        count = rw[col].astype(str).str.contains('NaN', na=False).sum()\n",
    "        if count > 0:\n",
    "            nan_in_string_counts[col] = count\n",
    "            \n",
    "if nan_in_string_counts:\n",
    "    print(\"Columns with 'NaN' as a string:\")\n",
    "    for col, count in nan_in_string_counts.items():\n",
    "        print(f\"Column '{col}': {count} occurrences\")\n",
    "else:\n",
    "    print(\"No columns contain the string 'NaN'.\")"
   ]
  },
  {
   "cell_type": "markdown",
   "metadata": {},
   "source": [
    "### Evaluate the count of '0' on 'Reached_on.Time_Y.N' column"
   ]
  },
  {
   "cell_type": "code",
   "execution_count": 7,
   "metadata": {},
   "outputs": [
    {
     "name": "stdout",
     "output_type": "stream",
     "text": [
      "The value '0' appears 4436 times in the 'Reached.on.Time_Y.N' column.\n"
     ]
    }
   ],
   "source": [
    "# evaluate the count of '0'\n",
    "zero_count = rw[rw['Reached.on.Time_Y.N'] == 0].shape[0]\n",
    "\n",
    "print(f\"The value '0' appears {zero_count} times in the 'Reached.on.Time_Y.N' column.\")"
   ]
  },
  {
   "cell_type": "markdown",
   "metadata": {},
   "source": [
    "### Summary\n",
    "\n",
    "It seems that there are no duplicates and missing values that needs to work on in the making of the airflow. But the names of each column, it doesn't aligned with the standardization of names in the column. We will work on this with the query through PostgreSQL via Docker."
   ]
  },
  {
   "cell_type": "markdown",
   "metadata": {},
   "source": [
    "Data Engineering\n",
    "==="
   ]
  },
  {
   "cell_type": "markdown",
   "metadata": {},
   "source": [
    "## Query on PostgreSQL"
   ]
  },
  {
   "cell_type": "markdown",
   "metadata": {},
   "source": [
    "### DDL & DML"
   ]
  },
  {
   "cell_type": "markdown",
   "metadata": {},
   "source": [
    "CREATE TABLE IF NOT EXISTS raw_data (\n",
    "  id INTEGER,\n",
    "  warehouse_block VARCHAR(255),\n",
    "  mode_of_shipment VARCHAR(255),\n",
    "  customer_care_calls INTEGER,\n",
    "  customer_rating INTEGER,\n",
    "  cost_of_the_product INTEGER,\n",
    "  prior_purchases INTEGER,\n",
    "  product_importance VARCHAR(255),\n",
    "  gender VARCHAR(255),\n",
    "  discount_offered INTEGER,\n",
    "  weight_in_gms INTEGER,\n",
    "  reached_on_time INTEGER\n",
    ");\n",
    "\n",
    "/*\n",
    "NOTE: Here we make all the column names align with the rules.\n",
    "*/\n",
    "\n",
    "/*\n",
    "DML for inserting data\n",
    "*/\n",
    "COPY raw_data(id, warehouse_block, mode_of_shipment, customer_care_calls, customer_rating, cost_of_the_product, prior_purchases, product_importance, gender, discount_offered, weight_in_gms, reached_on_time)\n",
    "FROM '/mnt/data/raw_data.csv'\n",
    "DELIMITER ','\n",
    "CSV HEADER;"
   ]
  },
  {
   "cell_type": "markdown",
   "metadata": {},
   "source": [
    "## Airflow\n",
    "\n",
    "We are making it on final_project_DAG.py which generates cleaned_data.csv"
   ]
  },
  {
   "cell_type": "markdown",
   "metadata": {},
   "source": [
    "### Summary\n",
    "\n",
    "All 8 Expectations are met. Now we move to Exploratory Data Analysis (EDA)"
   ]
  },
  {
   "cell_type": "markdown",
   "metadata": {},
   "source": [
    "Load the Data for Data Analyst and Data Scientist\n",
    "==="
   ]
  },
  {
   "cell_type": "code",
   "execution_count": 8,
   "metadata": {},
   "outputs": [
    {
     "name": "stdout",
     "output_type": "stream",
     "text": [
      "<class 'pandas.core.frame.DataFrame'>\n",
      "RangeIndex: 10999 entries, 0 to 10998\n",
      "Data columns (total 12 columns):\n",
      " #   Column               Non-Null Count  Dtype \n",
      "---  ------               --------------  ----- \n",
      " 0   id                   10999 non-null  int64 \n",
      " 1   warehouse_block      10999 non-null  object\n",
      " 2   mode_of_shipment     10999 non-null  object\n",
      " 3   customer_care_calls  10999 non-null  int64 \n",
      " 4   customer_rating      10999 non-null  int64 \n",
      " 5   cost_of_the_product  10999 non-null  int64 \n",
      " 6   prior_purchases      10999 non-null  int64 \n",
      " 7   product_importance   10999 non-null  object\n",
      " 8   gender               10999 non-null  object\n",
      " 9   discount_offered     10999 non-null  int64 \n",
      " 10  weight_in_gms        10999 non-null  int64 \n",
      " 11  reached_on_time      10999 non-null  int64 \n",
      "dtypes: int64(8), object(4)\n",
      "memory usage: 1.0+ MB\n"
     ]
    },
    {
     "data": {
      "text/html": [
       "<div>\n",
       "<style scoped>\n",
       "    .dataframe tbody tr th:only-of-type {\n",
       "        vertical-align: middle;\n",
       "    }\n",
       "\n",
       "    .dataframe tbody tr th {\n",
       "        vertical-align: top;\n",
       "    }\n",
       "\n",
       "    .dataframe thead th {\n",
       "        text-align: right;\n",
       "    }\n",
       "</style>\n",
       "<table border=\"1\" class=\"dataframe\">\n",
       "  <thead>\n",
       "    <tr style=\"text-align: right;\">\n",
       "      <th></th>\n",
       "      <th>id</th>\n",
       "      <th>warehouse_block</th>\n",
       "      <th>mode_of_shipment</th>\n",
       "      <th>customer_care_calls</th>\n",
       "      <th>customer_rating</th>\n",
       "      <th>cost_of_the_product</th>\n",
       "      <th>prior_purchases</th>\n",
       "      <th>product_importance</th>\n",
       "      <th>gender</th>\n",
       "      <th>discount_offered</th>\n",
       "      <th>weight_in_gms</th>\n",
       "      <th>reached_on_time</th>\n",
       "    </tr>\n",
       "  </thead>\n",
       "  <tbody>\n",
       "    <tr>\n",
       "      <th>0</th>\n",
       "      <td>1</td>\n",
       "      <td>D</td>\n",
       "      <td>Flight</td>\n",
       "      <td>4</td>\n",
       "      <td>2</td>\n",
       "      <td>177</td>\n",
       "      <td>3</td>\n",
       "      <td>low</td>\n",
       "      <td>F</td>\n",
       "      <td>44</td>\n",
       "      <td>1233</td>\n",
       "      <td>1</td>\n",
       "    </tr>\n",
       "    <tr>\n",
       "      <th>1</th>\n",
       "      <td>2</td>\n",
       "      <td>F</td>\n",
       "      <td>Flight</td>\n",
       "      <td>4</td>\n",
       "      <td>5</td>\n",
       "      <td>216</td>\n",
       "      <td>2</td>\n",
       "      <td>low</td>\n",
       "      <td>M</td>\n",
       "      <td>59</td>\n",
       "      <td>3088</td>\n",
       "      <td>1</td>\n",
       "    </tr>\n",
       "    <tr>\n",
       "      <th>2</th>\n",
       "      <td>3</td>\n",
       "      <td>A</td>\n",
       "      <td>Flight</td>\n",
       "      <td>2</td>\n",
       "      <td>2</td>\n",
       "      <td>183</td>\n",
       "      <td>4</td>\n",
       "      <td>low</td>\n",
       "      <td>M</td>\n",
       "      <td>48</td>\n",
       "      <td>3374</td>\n",
       "      <td>1</td>\n",
       "    </tr>\n",
       "  </tbody>\n",
       "</table>\n",
       "</div>"
      ],
      "text/plain": [
       "   id warehouse_block mode_of_shipment  customer_care_calls  customer_rating  \\\n",
       "0   1               D           Flight                    4                2   \n",
       "1   2               F           Flight                    4                5   \n",
       "2   3               A           Flight                    2                2   \n",
       "\n",
       "   cost_of_the_product  prior_purchases product_importance gender  \\\n",
       "0                  177                3                low      F   \n",
       "1                  216                2                low      M   \n",
       "2                  183                4                low      M   \n",
       "\n",
       "   discount_offered  weight_in_gms  reached_on_time  \n",
       "0                44           1233                1  \n",
       "1                59           3088                1  \n",
       "2                48           3374                1  "
      ]
     },
     "execution_count": 8,
     "metadata": {},
     "output_type": "execute_result"
    }
   ],
   "source": [
    "# display max\n",
    "pd.set_option('display.max_columns', None)\n",
    "\n",
    "# load data\n",
    "df = pd.read_csv('cleaned_data.csv')\n",
    "\n",
    "# data info\n",
    "df.info()\n",
    "\n",
    "# show the first 3 rows\n",
    "df.head(3)"
   ]
  },
  {
   "cell_type": "markdown",
   "metadata": {},
   "source": [
    "Data Analyst\n",
    "==="
   ]
  },
  {
   "cell_type": "markdown",
   "metadata": {},
   "source": [
    "## Analyzation"
   ]
  },
  {
   "cell_type": "markdown",
   "metadata": {},
   "source": [
    "### Exploratory Data Analysis (EDA)"
   ]
  },
  {
   "cell_type": "code",
   "execution_count": 9,
   "metadata": {},
   "outputs": [],
   "source": [
    "# Make sure the target column exists\n",
    "assert \"reached_on_time\" in df.columns, \"column 'reached_on_time' not found.\"\n",
    "\n",
    "# Target normalization: 1 = Late (late), 0 = On Time (on time)\n",
    "# Original dataset: 1 = on-time, 0 = late\n",
    "df[\"Late\"] = 1 - df[\"reached_on_time\"]\n",
    "\n",
    "# Safe casting for numeric columns to be binned\n",
    "for col in [\"weight_in_gms\", \"discount_offered\", \"customer_care_calls\"]: \n",
    "    if col in df.columns: \n",
    "        df[col] = pd.to_numeric(df[col], errors=\"coerce\")\n",
    "\n",
    "# Helper: rate function\n",
    "def late_rate_by(col): \n",
    "    g = (df \n",
    "        .groupby(col, dropna=False)[\"Late\"] \n",
    "        .agg([\"size\", \"mean\"]) \n",
    "        .reset_index() \n",
    "        .rename(columns={\"size\": \"records\", \"mean\": \"late_rate\"}))\n",
    "    return g"
   ]
  },
  {
   "cell_type": "markdown",
   "metadata": {},
   "source": [
    "#### 1. How big is the baseline delay (class balance)?"
   ]
  },
  {
   "cell_type": "markdown",
   "metadata": {},
   "source": [
    "##### Bar Chart"
   ]
  },
  {
   "cell_type": "code",
   "execution_count": 10,
   "metadata": {},
   "outputs": [
    {
     "data": {
      "image/png": "[encoded data removed]",
      "text/plain": [
       "<Figure size 600x400 with 1 Axes>"
      ]
     },
     "metadata": {},
     "output_type": "display_data"
    },
    {
     "name": "stdout",
     "output_type": "stream",
     "text": [
      "Overall Late Rate: 0.4033\n"
     ]
    }
   ],
   "source": [
    "# 1) Class Balance: On-Time vs Late\n",
    "counts = df[\"Late\"].map({0: \"On-Time\", 1: \"Late\"}).value_counts().reindex([\"On-Time\", \"Late\"])\n",
    "plt.figure(figsize=(6,4))\n",
    "counts.plot(kind=\"bar\")\n",
    "plt.title(\"Class Balance: On-Time vs Late\")\n",
    "plt.ylabel(\"Count\")\n",
    "plt.xticks(rotation=0)\n",
    "plt.tight_layout()\n",
    "plt.show()\n",
    "\n",
    "overall_late_rate = df[\"Late\"].mean()\n",
    "print(f\"Overall Late Rate: {overall_late_rate:.4f}\")"
   ]
  },
  {
   "cell_type": "markdown",
   "metadata": {},
   "source": [
    "##### Summary\n",
    "\n",
    "The overall late rate is around 40.33%, meaning nearly 4 out of 10 shipments are in SLA violation, significant enough to warrant immediate prioritization. The impact: potentially high compensation, complaint, and return costs. Initial recommendation: set a reduction target (e.g., -10% in a quarter) and establish weekly monitoring to quickly identify trends."
   ]
  },
  {
   "cell_type": "markdown",
   "metadata": {},
   "source": [
    "#### 2. Which warehouse is most at risk of delays?"
   ]
  },
  {
   "cell_type": "markdown",
   "metadata": {},
   "source": [
    "##### Horizontal Bar Plot"
   ]
  },
  {
   "cell_type": "code",
   "execution_count": 11,
   "metadata": {},
   "outputs": [
    {
     "data": {
      "image/png": "[encoded data removed]",
      "text/plain": [
       "<Figure size 800x500 with 1 Axes>"
      ]
     },
     "metadata": {},
     "output_type": "display_data"
    },
    {
     "data": {
      "text/html": [
       "<div>\n",
       "<style scoped>\n",
       "    .dataframe tbody tr th:only-of-type {\n",
       "        vertical-align: middle;\n",
       "    }\n",
       "\n",
       "    .dataframe tbody tr th {\n",
       "        vertical-align: top;\n",
       "    }\n",
       "\n",
       "    .dataframe thead th {\n",
       "        text-align: right;\n",
       "    }\n",
       "</style>\n",
       "<table border=\"1\" class=\"dataframe\">\n",
       "  <thead>\n",
       "    <tr style=\"text-align: right;\">\n",
       "      <th></th>\n",
       "      <th>warehouse_block</th>\n",
       "      <th>records</th>\n",
       "      <th>late_rate</th>\n",
       "    </tr>\n",
       "  </thead>\n",
       "  <tbody>\n",
       "    <tr>\n",
       "      <th>0</th>\n",
       "      <td>A</td>\n",
       "      <td>1833</td>\n",
       "      <td>0.413530</td>\n",
       "    </tr>\n",
       "    <tr>\n",
       "      <th>2</th>\n",
       "      <td>C</td>\n",
       "      <td>1833</td>\n",
       "      <td>0.403164</td>\n",
       "    </tr>\n",
       "    <tr>\n",
       "      <th>3</th>\n",
       "      <td>D</td>\n",
       "      <td>1834</td>\n",
       "      <td>0.402399</td>\n",
       "    </tr>\n",
       "    <tr>\n",
       "      <th>4</th>\n",
       "      <td>F</td>\n",
       "      <td>3666</td>\n",
       "      <td>0.401528</td>\n",
       "    </tr>\n",
       "    <tr>\n",
       "      <th>1</th>\n",
       "      <td>B</td>\n",
       "      <td>1833</td>\n",
       "      <td>0.397709</td>\n",
       "    </tr>\n",
       "  </tbody>\n",
       "</table>\n",
       "</div>"
      ],
      "text/plain": [
       "  warehouse_block  records  late_rate\n",
       "0               A     1833   0.413530\n",
       "2               C     1833   0.403164\n",
       "3               D     1834   0.402399\n",
       "4               F     3666   0.401528\n",
       "1               B     1833   0.397709"
      ]
     },
     "execution_count": 11,
     "metadata": {},
     "output_type": "execute_result"
    }
   ],
   "source": [
    "# 2) Late Rate by Warehouse (Horizontal Bar)\n",
    "assert \"warehouse_block\" in df.columns, \"Column 'warehouse_block' not found.\"\n",
    "wh = late_rate_by(\"warehouse_block\").sort_values(\"late_rate\", ascending=False)\n",
    "\n",
    "plt.figure(figsize=(8,5))\n",
    "plt.barh(wh[\"warehouse_block\"].astype(str), wh[\"late_rate\"])\n",
    "plt.gca().invert_yaxis()\n",
    "plt.title(\"Late Rate by Warehouse Block\")\n",
    "plt.xlabel(\"Late Rate\")\n",
    "plt.tight_layout()\n",
    "plt.show()\n",
    "\n",
    "wh.head(10)"
   ]
  },
  {
   "cell_type": "markdown",
   "metadata": {},
   "source": [
    "##### Summary\n",
    "\n",
    "Warehouses A (41.35%) and C (40.32%) exhibit the highest risk compared to F (40.15%) and B (39.77%). This indicates potential capacity, cut-off scheduling, or handling issues at certain outbound points. Improvement areas include auditing the A/C process, adding sorting/pick-pack slots during peak hours, and testing load reallocation to more stable-performing warehouses."
   ]
  },
  {
   "cell_type": "markdown",
   "metadata": {},
   "source": [
    "#### 3. Which mode represents the highest risk, and how large is the risk differential to warrant prioritizing it for SLA/vendor negotiation or rerouting?"
   ]
  },
  {
   "cell_type": "markdown",
   "metadata": {},
   "source": [
    "##### Bar Chart"
   ]
  },
  {
   "cell_type": "code",
   "execution_count": 12,
   "metadata": {},
   "outputs": [
    {
     "data": {
      "image/png": "[encoded data removed]",
      "text/plain": [
       "<Figure size 600x400 with 1 Axes>"
      ]
     },
     "metadata": {},
     "output_type": "display_data"
    },
    {
     "data": {
      "text/html": [
       "<div>\n",
       "<style scoped>\n",
       "    .dataframe tbody tr th:only-of-type {\n",
       "        vertical-align: middle;\n",
       "    }\n",
       "\n",
       "    .dataframe tbody tr th {\n",
       "        vertical-align: top;\n",
       "    }\n",
       "\n",
       "    .dataframe thead th {\n",
       "        text-align: right;\n",
       "    }\n",
       "</style>\n",
       "<table border=\"1\" class=\"dataframe\">\n",
       "  <thead>\n",
       "    <tr style=\"text-align: right;\">\n",
       "      <th></th>\n",
       "      <th>mode_of_shipment</th>\n",
       "      <th>records</th>\n",
       "      <th>late_rate</th>\n",
       "    </tr>\n",
       "  </thead>\n",
       "  <tbody>\n",
       "    <tr>\n",
       "      <th>1</th>\n",
       "      <td>Road</td>\n",
       "      <td>1760</td>\n",
       "      <td>0.411932</td>\n",
       "    </tr>\n",
       "    <tr>\n",
       "      <th>2</th>\n",
       "      <td>Ship</td>\n",
       "      <td>7462</td>\n",
       "      <td>0.402439</td>\n",
       "    </tr>\n",
       "    <tr>\n",
       "      <th>0</th>\n",
       "      <td>Flight</td>\n",
       "      <td>1777</td>\n",
       "      <td>0.398424</td>\n",
       "    </tr>\n",
       "  </tbody>\n",
       "</table>\n",
       "</div>"
      ],
      "text/plain": [
       "  mode_of_shipment  records  late_rate\n",
       "1             Road     1760   0.411932\n",
       "2             Ship     7462   0.402439\n",
       "0           Flight     1777   0.398424"
      ]
     },
     "execution_count": 12,
     "metadata": {},
     "output_type": "execute_result"
    }
   ],
   "source": [
    "# 3) Late Rate by Mode of Shipment (Vertical Bar)\n",
    "assert \"mode_of_shipment\" in df.columns, \"Column 'mode_of_shipment' not found.\"\n",
    "mode = late_rate_by(\"mode_of_shipment\").sort_values(\"late_rate\", ascending=False)\n",
    "\n",
    "plt.figure(figsize=(6,4))\n",
    "plt.bar(mode[\"mode_of_shipment\"].astype(str), mode[\"late_rate\"])\n",
    "plt.title(\"Late Rate by Mode of Shipment\")\n",
    "plt.ylabel(\"Late Rate\")\n",
    "plt.xticks(rotation=0)\n",
    "plt.tight_layout()\n",
    "plt.show()\n",
    "\n",
    "mode"
   ]
  },
  {
   "cell_type": "markdown",
   "metadata": {},
   "source": [
    "##### Summary\n",
    "\n",
    "Road has the highest risk (41.19%), while Flight has the lowest (39.84%), indicating differences in SLA meeting capabilities between modes/vendors. Route risky routes or prioritize shipments to historically more reliable modes, and negotiate Road SLAs/vendors (time buffers, carrier capacity, or alternative routes)."
   ]
  },
  {
   "cell_type": "markdown",
   "metadata": {},
   "source": [
    "#### 4. Of all late deliveries, what proportion is contributed by each shipping mode (Flight/Road/Ship), and which mode contributes the largest portion of delay incidents?"
   ]
  },
  {
   "cell_type": "markdown",
   "metadata": {},
   "source": [
    "##### Pie Chart"
   ]
  },
  {
   "cell_type": "code",
   "execution_count": 13,
   "metadata": {},
   "outputs": [
    {
     "name": "stdout",
     "output_type": "stream",
     "text": [
      "  mode_of_shipment  late_count  share_pct\n",
      "2             Ship        3003      67.70\n",
      "1             Road         725      16.34\n",
      "0           Flight         708      15.96\n"
     ]
    },
    {
     "data": {
      "image/png": "[encoded data removed]",
      "text/plain": [
       "<Figure size 600x600 with 1 Axes>"
      ]
     },
     "metadata": {},
     "output_type": "display_data"
    }
   ],
   "source": [
    "# Normalize target: 1 = late\n",
    "df[\"Late\"] = 1 - df[\"reached_on_time\"]\n",
    "\n",
    "# Composition dimensions\n",
    "dim = \"mode_of_shipment\"\n",
    "\n",
    "# Subset only latecomers\n",
    "late_df = df[df[\"Late\"] == 1].copy()\n",
    "\n",
    "# Composition aggregation\n",
    "comp = (late_df.groupby(dim)[\"Late\"] \n",
    "    .size() \n",
    "    .reset_index(name=\"late_count\") \n",
    "    .sort_values(\"late_count\", ascending=False))\n",
    "comp[\"share_pct\"] = (comp[\"late_count\"] / comp[\"late_count\"].sum() * 100).round(2)\n",
    "print(comp)\n",
    "\n",
    "# Pie plots\n",
    "plt.figure(figsize=(6,6))\n",
    "plt.pie(comp[\"late_count\"], labels=comp[dim].astype(str), autopct=\"%1.1f%%\", startangle=90)\n",
    "plt.title(f\"Share of Late Shipments by {dim}\")\n",
    "plt.axis(\"equal\")\n",
    "plt.tight_layout()\n",
    "plt.show()"
   ]
  },
  {
   "cell_type": "markdown",
   "metadata": {},
   "source": [
    "##### Summary\n",
    "\n",
    "Of all late shipments, the largest portion came from Ship, at 67.7%, followed by Road at 16.3% and Flight at 16.0%. This means that nearly two-thirds of late incidents occurred in the Ship mode. This shows that while Road has the highest relative late rate, the combination of volume and risk makes Ship the primary contributor to the number of late cases. For the fastest impact on reducing total delays, prioritize improvements in Ship lanes: audit carrier performance, optimize linehaul/port schedules, increase capacity buffers, and revise the cut-off for warehouses supplying Ship; then, implement targeted improvements in Road as the second step."
   ]
  },
  {
   "cell_type": "markdown",
   "metadata": {},
   "source": [
    "#### 5. Which product importance segment is most vulnerable (High/Medium/Low) to delays?"
   ]
  },
  {
   "cell_type": "markdown",
   "metadata": {},
   "source": [
    "##### Bar Chart"
   ]
  },
  {
   "cell_type": "code",
   "execution_count": 14,
   "metadata": {},
   "outputs": [
    {
     "data": {
      "image/png": "[encoded data removed]",
      "text/plain": [
       "<Figure size 600x400 with 1 Axes>"
      ]
     },
     "metadata": {},
     "output_type": "display_data"
    },
    {
     "data": {
      "text/html": [
       "<div>\n",
       "<style scoped>\n",
       "    .dataframe tbody tr th:only-of-type {\n",
       "        vertical-align: middle;\n",
       "    }\n",
       "\n",
       "    .dataframe tbody tr th {\n",
       "        vertical-align: top;\n",
       "    }\n",
       "\n",
       "    .dataframe thead th {\n",
       "        text-align: right;\n",
       "    }\n",
       "</style>\n",
       "<table border=\"1\" class=\"dataframe\">\n",
       "  <thead>\n",
       "    <tr style=\"text-align: right;\">\n",
       "      <th></th>\n",
       "      <th>product_importance</th>\n",
       "      <th>records</th>\n",
       "      <th>late_rate</th>\n",
       "      <th>late_rate_pct</th>\n",
       "    </tr>\n",
       "  </thead>\n",
       "  <tbody>\n",
       "    <tr>\n",
       "      <th>0</th>\n",
       "      <td>high</td>\n",
       "      <td>948</td>\n",
       "      <td>0.350211</td>\n",
       "      <td>35.02</td>\n",
       "    </tr>\n",
       "    <tr>\n",
       "      <th>1</th>\n",
       "      <td>medium</td>\n",
       "      <td>4754</td>\n",
       "      <td>0.409550</td>\n",
       "      <td>40.95</td>\n",
       "    </tr>\n",
       "    <tr>\n",
       "      <th>2</th>\n",
       "      <td>low</td>\n",
       "      <td>5297</td>\n",
       "      <td>0.407212</td>\n",
       "      <td>40.72</td>\n",
       "    </tr>\n",
       "  </tbody>\n",
       "</table>\n",
       "</div>"
      ],
      "text/plain": [
       "  product_importance  records  late_rate  late_rate_pct\n",
       "0               high      948   0.350211          35.02\n",
       "1             medium     4754   0.409550          40.95\n",
       "2                low     5297   0.407212          40.72"
      ]
     },
     "execution_count": 14,
     "metadata": {},
     "output_type": "execute_result"
    }
   ],
   "source": [
    "# 5) Late Rate by Product Importance (Bar, urut: High > Medium > Low bila tersedia)\n",
    "assert \"product_importance\" in df.columns, \"Column 'product_importance' not found.\"\n",
    "imp = late_rate_by(\"product_importance\")\n",
    "\n",
    "# Paksa urutan bila label tersedia\n",
    "order = [\"high\", \"medium\", \"low\", \"High\", \"Medium\", \"Low\"]\n",
    "present = [o for o in order if o in imp[\"product_importance\"].astype(str).tolist()]\n",
    "if present:\n",
    "    imp = imp.set_index(\"product_importance\").loc[present].reset_index()\n",
    "\n",
    "plt.figure(figsize=(6,4))\n",
    "plt.bar(imp[\"product_importance\"].astype(str), imp[\"late_rate\"])\n",
    "plt.title(\"Late Rate by Product Importance\")\n",
    "plt.ylabel(\"Late Rate\")\n",
    "plt.xticks(rotation=0)\n",
    "plt.tight_layout()\n",
    "plt.show()\n",
    "\n",
    "imp.assign(late_rate_pct=(imp[\"late_rate\"]*100).round(2))"
   ]
  },
  {
   "cell_type": "markdown",
   "metadata": {},
   "source": [
    "##### Summary\n",
    "\n",
    "The Medium (40.95%) and Low (40.72%) segments performed worse than High (35.02%), suggesting that prioritization mechanisms (fast lanes, earlier cutoff) are already working well for High. Extending similar policies to Medium/Low (e.g., limited priority lanes during peak traffic) has the potential to reduce delays while maintaining customer experience."
   ]
  },
  {
   "cell_type": "markdown",
   "metadata": {},
   "source": [
    "#### 6. Does package weight affect delays?"
   ]
  },
  {
   "cell_type": "markdown",
   "metadata": {},
   "source": [
    "##### Line Chart"
   ]
  },
  {
   "cell_type": "code",
   "execution_count": 15,
   "metadata": {},
   "outputs": [
    {
     "data": {
      "image/png": "[encoded data removed]",
      "text/plain": [
       "<Figure size 700x400 with 1 Axes>"
      ]
     },
     "metadata": {},
     "output_type": "display_data"
    },
    {
     "name": "stdout",
     "output_type": "stream",
     "text": [
      "Slope (late vs weight): -0.000014\n"
     ]
    },
    {
     "data": {
      "text/html": [
       "<div>\n",
       "<style scoped>\n",
       "    .dataframe tbody tr th:only-of-type {\n",
       "        vertical-align: middle;\n",
       "    }\n",
       "\n",
       "    .dataframe tbody tr th {\n",
       "        vertical-align: top;\n",
       "    }\n",
       "\n",
       "    .dataframe thead th {\n",
       "        text-align: right;\n",
       "    }\n",
       "</style>\n",
       "<table border=\"1\" class=\"dataframe\">\n",
       "  <thead>\n",
       "    <tr style=\"text-align: right;\">\n",
       "      <th></th>\n",
       "      <th>weight_bin</th>\n",
       "      <th>records</th>\n",
       "      <th>late_rate</th>\n",
       "    </tr>\n",
       "  </thead>\n",
       "  <tbody>\n",
       "    <tr>\n",
       "      <th>0</th>\n",
       "      <td>(999.999, 1500.0]</td>\n",
       "      <td>1633</td>\n",
       "      <td>0.320882</td>\n",
       "    </tr>\n",
       "    <tr>\n",
       "      <th>1</th>\n",
       "      <td>(1500.0, 2000.0]</td>\n",
       "      <td>1612</td>\n",
       "      <td>0.323821</td>\n",
       "    </tr>\n",
       "    <tr>\n",
       "      <th>2</th>\n",
       "      <td>(2000.0, 2500.0]</td>\n",
       "      <td>453</td>\n",
       "      <td>0.000000</td>\n",
       "    </tr>\n",
       "    <tr>\n",
       "      <th>3</th>\n",
       "      <td>(2500.0, 3000.0]</td>\n",
       "      <td>446</td>\n",
       "      <td>0.000000</td>\n",
       "    </tr>\n",
       "    <tr>\n",
       "      <th>4</th>\n",
       "      <td>(3000.0, 3500.0]</td>\n",
       "      <td>428</td>\n",
       "      <td>0.000000</td>\n",
       "    </tr>\n",
       "  </tbody>\n",
       "</table>\n",
       "</div>"
      ],
      "text/plain": [
       "          weight_bin  records  late_rate\n",
       "0  (999.999, 1500.0]     1633   0.320882\n",
       "1   (1500.0, 2000.0]     1612   0.323821\n",
       "2   (2000.0, 2500.0]      453   0.000000\n",
       "3   (2500.0, 3000.0]      446   0.000000\n",
       "4   (3000.0, 3500.0]      428   0.000000"
      ]
     },
     "execution_count": 15,
     "metadata": {},
     "output_type": "execute_result"
    }
   ],
   "source": [
    "# 6) Late Rate vs Weight (Line, bins of 500g)\n",
    "assert \"weight_in_gms\" in df.columns, \"Column 'weight_in_gms' not found.\"\n",
    "bin_size = 500\n",
    "w = df.dropna(subset=[\"weight_in_gms\"]).copy()\n",
    "# Buat bins bertahap 500g\n",
    "start = np.floor(w[\"weight_in_gms\"].min() / bin_size) * bin_size\n",
    "end   = np.ceil(w[\"weight_in_gms\"].max() / bin_size) * bin_size\n",
    "bins  = np.arange(start, end + bin_size, bin_size)\n",
    "\n",
    "w[\"weight_bin\"] = pd.cut(w[\"weight_in_gms\"], bins=bins, include_lowest=True)\n",
    "tmp = (w.groupby(\"weight_bin\")[\"Late\"]\n",
    "         .agg([\"size\",\"mean\"])\n",
    "         .reset_index()\n",
    "         .rename(columns={\"size\":\"records\",\"mean\":\"late_rate\"}))\n",
    "\n",
    "# Midpoint untuk sumbu X\n",
    "mid = tmp[\"weight_bin\"].apply(lambda b: (b.left + b.right)/2 if pd.notna(b) else np.nan)\n",
    "\n",
    "plt.figure(figsize=(7,4))\n",
    "plt.plot(mid, tmp[\"late_rate\"], marker=\"o\")\n",
    "plt.title(\"Late Rate by Weight (500g bins)\")\n",
    "plt.xlabel(\"Weight (g) - bin midpoints\")\n",
    "plt.ylabel(\"Late Rate\")\n",
    "plt.tight_layout()\n",
    "plt.show()\n",
    "\n",
    "# Hitung slope tren linear (opsional)\n",
    "x = mid.values\n",
    "y = tmp[\"late_rate\"].values\n",
    "A = np.vstack([x, np.ones(len(x))]).T\n",
    "m, c = np.linalg.lstsq(A, y, rcond=None)[0]\n",
    "print(f\"Slope (late vs weight): {m:.6f}\")\n",
    "tmp.head()"
   ]
  },
  {
   "cell_type": "markdown",
   "metadata": {},
   "source": [
    "##### Summary\n",
    "\n",
    "The relationship between weight and delay is nearly flat (slope of −0.000014 per gram-bin), so there's no apparent \"heavier, later\" effect in this data. This means weight isn't the primary driver. More effective improvements would be focused on warehouses, modes, and product prioritization. Policies like split shipments should only be considered in extreme/optional cases."
   ]
  },
  {
   "cell_type": "markdown",
   "metadata": {},
   "source": [
    "#### 7. How does the discount affect the late rate?"
   ]
  },
  {
   "cell_type": "markdown",
   "metadata": {},
   "source": [
    "##### Line Chart"
   ]
  },
  {
   "cell_type": "code",
   "execution_count": 16,
   "metadata": {},
   "outputs": [
    {
     "data": {
      "image/png": "[encoded data removed]",
      "text/plain": [
       "<Figure size 700x400 with 1 Axes>"
      ]
     },
     "metadata": {},
     "output_type": "display_data"
    },
    {
     "name": "stdout",
     "output_type": "stream",
     "text": [
      "Slope (late vs discount): -0.006414\n"
     ]
    },
    {
     "data": {
      "text/html": [
       "<div>\n",
       "<style scoped>\n",
       "    .dataframe tbody tr th:only-of-type {\n",
       "        vertical-align: middle;\n",
       "    }\n",
       "\n",
       "    .dataframe tbody tr th {\n",
       "        vertical-align: top;\n",
       "    }\n",
       "\n",
       "    .dataframe thead th {\n",
       "        text-align: right;\n",
       "    }\n",
       "</style>\n",
       "<table border=\"1\" class=\"dataframe\">\n",
       "  <thead>\n",
       "    <tr style=\"text-align: right;\">\n",
       "      <th></th>\n",
       "      <th>discount_bin</th>\n",
       "      <th>records</th>\n",
       "      <th>late_rate</th>\n",
       "    </tr>\n",
       "  </thead>\n",
       "  <tbody>\n",
       "    <tr>\n",
       "      <th>0</th>\n",
       "      <td>(-0.001, 5.0]</td>\n",
       "      <td>4157</td>\n",
       "      <td>0.525860</td>\n",
       "    </tr>\n",
       "    <tr>\n",
       "      <th>1</th>\n",
       "      <td>(5.0, 10.0]</td>\n",
       "      <td>4195</td>\n",
       "      <td>0.536353</td>\n",
       "    </tr>\n",
       "    <tr>\n",
       "      <th>2</th>\n",
       "      <td>(10.0, 15.0]</td>\n",
       "      <td>252</td>\n",
       "      <td>0.000000</td>\n",
       "    </tr>\n",
       "    <tr>\n",
       "      <th>3</th>\n",
       "      <td>(15.0, 20.0]</td>\n",
       "      <td>244</td>\n",
       "      <td>0.000000</td>\n",
       "    </tr>\n",
       "    <tr>\n",
       "      <th>4</th>\n",
       "      <td>(20.0, 25.0]</td>\n",
       "      <td>230</td>\n",
       "      <td>0.000000</td>\n",
       "    </tr>\n",
       "  </tbody>\n",
       "</table>\n",
       "</div>"
      ],
      "text/plain": [
       "    discount_bin  records  late_rate\n",
       "0  (-0.001, 5.0]     4157   0.525860\n",
       "1    (5.0, 10.0]     4195   0.536353\n",
       "2   (10.0, 15.0]      252   0.000000\n",
       "3   (15.0, 20.0]      244   0.000000\n",
       "4   (20.0, 25.0]      230   0.000000"
      ]
     },
     "execution_count": 16,
     "metadata": {},
     "output_type": "execute_result"
    }
   ],
   "source": [
    "# 7) Late Rate vs Discount (Line, bins of 5)\n",
    "assert \"discount_offered\" in df.columns, \"Column 'discount_offered' not found.\"\n",
    "d = df.dropna(subset=[\"discount_offered\"]).copy()\n",
    "bin_size = 5\n",
    "start = np.floor(d[\"discount_offered\"].min() / bin_size) * bin_size\n",
    "end   = np.ceil(d[\"discount_offered\"].max() / bin_size) * bin_size\n",
    "bins  = np.arange(start, end + bin_size, bin_size)\n",
    "\n",
    "d[\"discount_bin\"] = pd.cut(d[\"discount_offered\"], bins=bins, include_lowest=True)\n",
    "tmp2 = (d.groupby(\"discount_bin\")[\"Late\"]\n",
    "          .agg([\"size\",\"mean\"])\n",
    "          .reset_index()\n",
    "          .rename(columns={\"size\":\"records\",\"mean\":\"late_rate\"}))\n",
    "\n",
    "mid2 = tmp2[\"discount_bin\"].apply(lambda b: (b.left + b.right)/2 if pd.notna(b) else np.nan)\n",
    "\n",
    "plt.figure(figsize=(7,4))\n",
    "plt.plot(mid2, tmp2[\"late_rate\"], marker=\"o\")\n",
    "plt.title(\"Late Rate by Discount (bin size = 5)\")\n",
    "plt.xlabel(\"Discount - bin midpoints\")\n",
    "plt.ylabel(\"Late Rate\")\n",
    "plt.tight_layout()\n",
    "plt.show()\n",
    "\n",
    "A = np.vstack([mid2.values, np.ones(len(mid2))]).T\n",
    "m2, c2 = np.linalg.lstsq(A, tmp2[\"late_rate\"].values, rcond=None)[0]\n",
    "print(f\"Slope (late vs discount): {m2:.6f}\")\n",
    "tmp2.head()"
   ]
  },
  {
   "cell_type": "markdown",
   "metadata": {},
   "source": [
    "##### Summary\n",
    "\n",
    "There is an indication of a downward trend (slope of -0.0064 per bin), so discounted orders do not exacerbate delays and may slightly accelerate them. Product/mode mix effects during promotions likely play a role; conduct further validation with variable controls (product, mode, warehouse). Recommendation: Synchronize the promotion calendar with last-mile capacity to ensure peak volumes remain on time."
   ]
  },
  {
   "cell_type": "markdown",
   "metadata": {},
   "source": [
    "#### 8. Does the number of calls to CS correlate with delays?"
   ]
  },
  {
   "cell_type": "markdown",
   "metadata": {},
   "source": [
    "##### Line Chart"
   ]
  },
  {
   "cell_type": "code",
   "execution_count": 17,
   "metadata": {},
   "outputs": [
    {
     "data": {
      "image/png": "[encoded data removed]",
      "text/plain": [
       "<Figure size 700x400 with 1 Axes>"
      ]
     },
     "metadata": {},
     "output_type": "display_data"
    },
    {
     "name": "stdout",
     "output_type": "stream",
     "text": [
      "Slope (late vs calls): 0.029111\n"
     ]
    },
    {
     "data": {
      "text/html": [
       "<div>\n",
       "<style scoped>\n",
       "    .dataframe tbody tr th:only-of-type {\n",
       "        vertical-align: middle;\n",
       "    }\n",
       "\n",
       "    .dataframe tbody tr th {\n",
       "        vertical-align: top;\n",
       "    }\n",
       "\n",
       "    .dataframe thead th {\n",
       "        text-align: right;\n",
       "    }\n",
       "</style>\n",
       "<table border=\"1\" class=\"dataframe\">\n",
       "  <thead>\n",
       "    <tr style=\"text-align: right;\">\n",
       "      <th></th>\n",
       "      <th>customer_care_calls</th>\n",
       "      <th>records</th>\n",
       "      <th>late_rate</th>\n",
       "    </tr>\n",
       "  </thead>\n",
       "  <tbody>\n",
       "    <tr>\n",
       "      <th>0</th>\n",
       "      <td>2</td>\n",
       "      <td>638</td>\n",
       "      <td>0.347962</td>\n",
       "    </tr>\n",
       "    <tr>\n",
       "      <th>1</th>\n",
       "      <td>3</td>\n",
       "      <td>3217</td>\n",
       "      <td>0.374883</td>\n",
       "    </tr>\n",
       "    <tr>\n",
       "      <th>2</th>\n",
       "      <td>4</td>\n",
       "      <td>3557</td>\n",
       "      <td>0.402305</td>\n",
       "    </tr>\n",
       "    <tr>\n",
       "      <th>3</th>\n",
       "      <td>5</td>\n",
       "      <td>2328</td>\n",
       "      <td>0.415808</td>\n",
       "    </tr>\n",
       "    <tr>\n",
       "      <th>4</th>\n",
       "      <td>6</td>\n",
       "      <td>1013</td>\n",
       "      <td>0.483712</td>\n",
       "    </tr>\n",
       "    <tr>\n",
       "      <th>5</th>\n",
       "      <td>7</td>\n",
       "      <td>246</td>\n",
       "      <td>0.483740</td>\n",
       "    </tr>\n",
       "  </tbody>\n",
       "</table>\n",
       "</div>"
      ],
      "text/plain": [
       "   customer_care_calls  records  late_rate\n",
       "0                    2      638   0.347962\n",
       "1                    3     3217   0.374883\n",
       "2                    4     3557   0.402305\n",
       "3                    5     2328   0.415808\n",
       "4                    6     1013   0.483712\n",
       "5                    7      246   0.483740"
      ]
     },
     "execution_count": 17,
     "metadata": {},
     "output_type": "execute_result"
    }
   ],
   "source": [
    "# 8) Late Rate vs Customer Care Calls (Line per hitungan integer)\n",
    "assert \"customer_care_calls\" in df.columns, \"Column 'customer_care_calls' not found.\"\n",
    "calls = late_rate_by(\"customer_care_calls\").sort_values(\"customer_care_calls\")\n",
    "\n",
    "plt.figure(figsize=(7,4))\n",
    "plt.plot(calls[\"customer_care_calls\"], calls[\"late_rate\"], marker=\"o\")\n",
    "plt.title(\"Late Rate by Number of Customer Care Calls\")\n",
    "plt.xlabel(\"Customer Care Calls\")\n",
    "plt.ylabel(\"Late Rate\")\n",
    "plt.tight_layout()\n",
    "plt.show()\n",
    "\n",
    "# Slope tren (opsional)\n",
    "A = np.vstack([calls[\"customer_care_calls\"].values, np.ones(len(calls))]).T\n",
    "m3, c3 = np.linalg.lstsq(A, calls[\"late_rate\"].values, rcond=None)[0]\n",
    "print(f\"Slope (late vs calls): {m3:.6f}\")\n",
    "calls"
   ]
  },
  {
   "cell_type": "markdown",
   "metadata": {},
   "source": [
    "##### Summary\n",
    "\n",
    "The number of calls to customer service is positively correlated with delays (a slope of 0.0291 per additional call), making it a good leading indicator. Implement early warning: tickets with ≥2 calls are prioritized for intervention (status check, mode redirection, or rescheduling). This helps reduce late cases (FN) and improves the customer experience."
   ]
  },
  {
   "cell_type": "markdown",
   "metadata": {},
   "source": [
    "Data Scientist\n",
    "==="
   ]
  },
  {
   "cell_type": "markdown",
   "metadata": {},
   "source": [
    "## Feature Engineering"
   ]
  },
  {
   "cell_type": "markdown",
   "metadata": {},
   "source": [
    "### Feature Creation"
   ]
  },
  {
   "cell_type": "markdown",
   "metadata": {},
   "source": [
    "#### Data spliting\n",
    "Split dataset into train set (learning process) & test set (testing/examining)"
   ]
  },
  {
   "cell_type": "code",
   "execution_count": 18,
   "metadata": {},
   "outputs": [],
   "source": [
    "# Define X (attribute/feature) and y (target/label)\n",
    "X = df.drop(columns=['reached_on_time']) # Drop y\n",
    "y = df['reached_on_time']\n",
    "\n",
    "# Splitting data into train and test sets\n",
    "X_train, X_test, y_train, y_test = train_test_split(\n",
    "    X,\n",
    "    y,\n",
    "    test_size=0.2,\n",
    "    random_state=20\n",
    ")"
   ]
  },
  {
   "cell_type": "code",
   "execution_count": 19,
   "metadata": {},
   "outputs": [
    {
     "name": "stdout",
     "output_type": "stream",
     "text": [
      "(8799, 12)\n",
      "(2200, 12)\n"
     ]
    }
   ],
   "source": [
    "# Size\n",
    "print(X_train.shape)\n",
    "print(X_test.shape)"
   ]
  },
  {
   "cell_type": "markdown",
   "metadata": {},
   "source": [
    "#### Cardinality Check"
   ]
  },
  {
   "cell_type": "code",
   "execution_count": 20,
   "metadata": {},
   "outputs": [],
   "source": [
    "# function cardinality checker\n",
    "def cardinality_check(X_train, cols):\n",
    "  # code to check unique values\n",
    "  raw_unique = []\n",
    "\n",
    "  for col in cols:\n",
    "    row = [col, X_train[col].nunique(), X_train[col].unique()]\n",
    "\n",
    "    raw_unique.append(row)\n",
    "\n",
    "  result = pd.DataFrame(raw_unique, columns=['column name', 'number of unique values', 'unique values'])\n",
    "\n",
    "  # show data\n",
    "  return result"
   ]
  },
  {
   "cell_type": "code",
   "execution_count": 21,
   "metadata": {},
   "outputs": [
    {
     "data": {
      "text/html": [
       "<div>\n",
       "<style scoped>\n",
       "    .dataframe tbody tr th:only-of-type {\n",
       "        vertical-align: middle;\n",
       "    }\n",
       "\n",
       "    .dataframe tbody tr th {\n",
       "        vertical-align: top;\n",
       "    }\n",
       "\n",
       "    .dataframe thead th {\n",
       "        text-align: right;\n",
       "    }\n",
       "</style>\n",
       "<table border=\"1\" class=\"dataframe\">\n",
       "  <thead>\n",
       "    <tr style=\"text-align: right;\">\n",
       "      <th></th>\n",
       "      <th>column name</th>\n",
       "      <th>number of unique values</th>\n",
       "      <th>unique values</th>\n",
       "    </tr>\n",
       "  </thead>\n",
       "  <tbody>\n",
       "    <tr>\n",
       "      <th>0</th>\n",
       "      <td>id</td>\n",
       "      <td>8799</td>\n",
       "      <td>[7426, 10521, 5129, 7307, 6902, 2620, 7259, 3059, 4486, 9603, 1302, 4866, 1973, 7713, 950, 10800, 5595, 9752, 6359, 7756, 5807, 9620, 30, 4757, 5596, 2678, 4128, 1000, 6323, 575, 9340, 8935, 1176, 1204, 7704, 3656, 7272, 33, 2612, 9357, 388, 6857, 1161, 6080, 2879, 2852, 4688, 9406, 8713, 5273, 3701, 6889, 6415, 3298, 6181, 7072, 6045, 976, 5855, 1215, 514, 4524, 5249, 4787, 6827, 9361, 6194, 4894, 9289, 8759, 6838, 10511, 10200, 190, 4291, 9820, 9127, 4631, 8306, 4424, 7412, 3395, 10708, 9614, 1842, 5465, 5118, 8205, 10153, 5324, 3868, 6117, 9195, 1893, 1467, 6636, 6707, 2904, 748, 665, ...]</td>\n",
       "    </tr>\n",
       "    <tr>\n",
       "      <th>1</th>\n",
       "      <td>warehouse_block</td>\n",
       "      <td>5</td>\n",
       "      <td>[B, A, C, F, D]</td>\n",
       "    </tr>\n",
       "    <tr>\n",
       "      <th>2</th>\n",
       "      <td>mode_of_shipment</td>\n",
       "      <td>3</td>\n",
       "      <td>[Ship, Flight, Road]</td>\n",
       "    </tr>\n",
       "    <tr>\n",
       "      <th>3</th>\n",
       "      <td>customer_care_calls</td>\n",
       "      <td>6</td>\n",
       "      <td>[3, 4, 6, 5, 2, 7]</td>\n",
       "    </tr>\n",
       "    <tr>\n",
       "      <th>4</th>\n",
       "      <td>customer_rating</td>\n",
       "      <td>5</td>\n",
       "      <td>[2, 4, 3, 5, 1]</td>\n",
       "    </tr>\n",
       "    <tr>\n",
       "      <th>5</th>\n",
       "      <td>cost_of_the_product</td>\n",
       "      <td>215</td>\n",
       "      <td>[214, 184, 271, 181, 266, 151, 252, 147, 215, 155, 247, 261, 243, 269, 258, 245, 220, 212, 272, 250, 208, 117, 183, 265, 113, 168, 176, 276, 175, 268, 263, 257, 191, 223, 221, 287, 173, 127, 167, 224, 207, 236, 309, 133, 286, 205, 235, 198, 249, 270, 170, 229, 248, 244, 241, 141, 195, 134, 211, 109, 140, 230, 254, 262, 256, 136, 283, 163, 274, 238, 218, 192, 186, 182, 177, 197, 185, 281, 255, 130, 189, 231, 233, 190, 304, 219, 111, 144, 148, 301, 138, 158, 260, 143, 179, 237, 194, 153, 169, 222, ...]</td>\n",
       "    </tr>\n",
       "    <tr>\n",
       "      <th>6</th>\n",
       "      <td>prior_purchases</td>\n",
       "      <td>8</td>\n",
       "      <td>[2, 3, 4, 6, 7, 5, 8, 10]</td>\n",
       "    </tr>\n",
       "    <tr>\n",
       "      <th>7</th>\n",
       "      <td>product_importance</td>\n",
       "      <td>3</td>\n",
       "      <td>[medium, high, low]</td>\n",
       "    </tr>\n",
       "    <tr>\n",
       "      <th>8</th>\n",
       "      <td>gender</td>\n",
       "      <td>2</td>\n",
       "      <td>[M, F]</td>\n",
       "    </tr>\n",
       "    <tr>\n",
       "      <th>9</th>\n",
       "      <td>discount_offered</td>\n",
       "      <td>65</td>\n",
       "      <td>[7, 9, 3, 4, 6, 30, 2, 18, 5, 55, 19, 53, 1, 36, 50, 15, 54, 25, 47, 22, 14, 8, 39, 63, 10, 12, 42, 57, 34, 11, 64, 61, 29, 60, 33, 13, 56, 43, 52, 20, 16, 65, 59, 62, 51, 38, 41, 35, 48, 32, 17, 37, 27, 23, 26, 44, 24, 28, 31, 46, 58, 49, 21, 40, 45]</td>\n",
       "    </tr>\n",
       "    <tr>\n",
       "      <th>10</th>\n",
       "      <td>weight_in_gms</td>\n",
       "      <td>3755</td>\n",
       "      <td>[1693, 4500, 4006, 5966, 1201, 1377, 4888, 1613, 5915, 5718, 2361, 5920, 2829, 1665, 2428, 1727, 5572, 4518, 4363, 1618, 4983, 5529, 3819, 1404, 5509, 1486, 4893, 3542, 5168, 3706, 5861, 1061, 3689, 1308, 1630, 5335, 5864, 3795, 2932, 1141, 1855, 4692, 1411, 4605, 2085, 3242, 5724, 1930, 4879, 1418, 5959, 1290, 5225, 4989, 5289, 4940, 1590, 3558, 4972, 2397, 2722, 4454, 5378, 4254, 1471, 1477, 5296, 4047, 4030, 4289, 5322, 4669, 1789, 1415, 4747, 4308, 5437, 4483, 1850, 5524, 1839, 4351, 1774, 5399, 1056, 1578, 4690, 5088, 4724, 4414, 5324, 1878, 2377, 3460, 4403, 5760, 2944, 1112, 3784, 5069, ...]</td>\n",
       "    </tr>\n",
       "    <tr>\n",
       "      <th>11</th>\n",
       "      <td>Late</td>\n",
       "      <td>2</td>\n",
       "      <td>[1, 0]</td>\n",
       "    </tr>\n",
       "  </tbody>\n",
       "</table>\n",
       "</div>"
      ],
      "text/plain": [
       "            column name  number of unique values  \\\n",
       "0                    id                     8799   \n",
       "1       warehouse_block                        5   \n",
       "2      mode_of_shipment                        3   \n",
       "3   customer_care_calls                        6   \n",
       "4       customer_rating                        5   \n",
       "5   cost_of_the_product                      215   \n",
       "6       prior_purchases                        8   \n",
       "7    product_importance                        3   \n",
       "8                gender                        2   \n",
       "9      discount_offered                       65   \n",
       "10        weight_in_gms                     3755   \n",
       "11                 Late                        2   \n",
       "\n",
       "                                                                                                                                                                                                                                                                                                                                                                                                                                                                                                                                                                                                                    unique values  \n",
       "0         [7426, 10521, 5129, 7307, 6902, 2620, 7259, 3059, 4486, 9603, 1302, 4866, 1973, 7713, 950, 10800, 5595, 9752, 6359, 7756, 5807, 9620, 30, 4757, 5596, 2678, 4128, 1000, 6323, 575, 9340, 8935, 1176, 1204, 7704, 3656, 7272, 33, 2612, 9357, 388, 6857, 1161, 6080, 2879, 2852, 4688, 9406, 8713, 5273, 3701, 6889, 6415, 3298, 6181, 7072, 6045, 976, 5855, 1215, 514, 4524, 5249, 4787, 6827, 9361, 6194, 4894, 9289, 8759, 6838, 10511, 10200, 190, 4291, 9820, 9127, 4631, 8306, 4424, 7412, 3395, 10708, 9614, 1842, 5465, 5118, 8205, 10153, 5324, 3868, 6117, 9195, 1893, 1467, 6636, 6707, 2904, 748, 665, ...]  \n",
       "1                                                                                                                                                                                                                                                                                                                                                                                                                                                                                                                                                                                                                 [B, A, C, F, D]  \n",
       "2                                                                                                                                                                                                                                                                                                                                                                                                                                                                                                                                                                                                            [Ship, Flight, Road]  \n",
       "3                                                                                                                                                                                                                                                                                                                                                                                                                                                                                                                                                                                                              [3, 4, 6, 5, 2, 7]  \n",
       "4                                                                                                                                                                                                                                                                                                                                                                                                                                                                                                                                                                                                                 [2, 4, 3, 5, 1]  \n",
       "5                                                                                                       [214, 184, 271, 181, 266, 151, 252, 147, 215, 155, 247, 261, 243, 269, 258, 245, 220, 212, 272, 250, 208, 117, 183, 265, 113, 168, 176, 276, 175, 268, 263, 257, 191, 223, 221, 287, 173, 127, 167, 224, 207, 236, 309, 133, 286, 205, 235, 198, 249, 270, 170, 229, 248, 244, 241, 141, 195, 134, 211, 109, 140, 230, 254, 262, 256, 136, 283, 163, 274, 238, 218, 192, 186, 182, 177, 197, 185, 281, 255, 130, 189, 231, 233, 190, 304, 219, 111, 144, 148, 301, 138, 158, 260, 143, 179, 237, 194, 153, 169, 222, ...]  \n",
       "6                                                                                                                                                                                                                                                                                                                                                                                                                                                                                                                                                                                                       [2, 3, 4, 6, 7, 5, 8, 10]  \n",
       "7                                                                                                                                                                                                                                                                                                                                                                                                                                                                                                                                                                                                             [medium, high, low]  \n",
       "8                                                                                                                                                                                                                                                                                                                                                                                                                                                                                                                                                                                                                          [M, F]  \n",
       "9                                                                                                                                                                                                                                                                                                                                                                     [7, 9, 3, 4, 6, 30, 2, 18, 5, 55, 19, 53, 1, 36, 50, 15, 54, 25, 47, 22, 14, 8, 39, 63, 10, 12, 42, 57, 34, 11, 64, 61, 29, 60, 33, 13, 56, 43, 52, 20, 16, 65, 59, 62, 51, 38, 41, 35, 48, 32, 17, 37, 27, 23, 26, 44, 24, 28, 31, 46, 58, 49, 21, 40, 45]  \n",
       "10  [1693, 4500, 4006, 5966, 1201, 1377, 4888, 1613, 5915, 5718, 2361, 5920, 2829, 1665, 2428, 1727, 5572, 4518, 4363, 1618, 4983, 5529, 3819, 1404, 5509, 1486, 4893, 3542, 5168, 3706, 5861, 1061, 3689, 1308, 1630, 5335, 5864, 3795, 2932, 1141, 1855, 4692, 1411, 4605, 2085, 3242, 5724, 1930, 4879, 1418, 5959, 1290, 5225, 4989, 5289, 4940, 1590, 3558, 4972, 2397, 2722, 4454, 5378, 4254, 1471, 1477, 5296, 4047, 4030, 4289, 5322, 4669, 1789, 1415, 4747, 4308, 5437, 4483, 1850, 5524, 1839, 4351, 1774, 5399, 1056, 1578, 4690, 5088, 4724, 4414, 5324, 1878, 2377, 3460, 4403, 5760, 2944, 1112, 3784, 5069, ...]  \n",
       "11                                                                                                                                                                                                                                                                                                                                                                                                                                                                                                                                                                                                                         [1, 0]  "
      ]
     },
     "execution_count": 21,
     "metadata": {},
     "output_type": "execute_result"
    }
   ],
   "source": [
    "# setting display\n",
    "pd.set_option('max_colwidth', None)\n",
    "\n",
    "# list of columns to be checked\n",
    "list_col = X_train.columns\n",
    "\n",
    "# check\n",
    "cardinality_check(X_train, list_col)"
   ]
  },
  {
   "cell_type": "markdown",
   "metadata": {},
   "source": [
    "##### Display List of Columns from The Highest Cardinality"
   ]
  },
  {
   "cell_type": "code",
   "execution_count": 22,
   "metadata": {},
   "outputs": [
    {
     "name": "stdout",
     "output_type": "stream",
     "text": [
      "Top columns with highest cardinality:\n",
      "\n"
     ]
    },
    {
     "data": {
      "text/plain": [
       "id                     8799\n",
       "weight_in_gms          3755\n",
       "cost_of_the_product     215\n",
       "discount_offered         65\n",
       "prior_purchases           8\n",
       "customer_care_calls       6\n",
       "warehouse_block           5\n",
       "customer_rating           5\n",
       "mode_of_shipment          3\n",
       "product_importance        3\n",
       "gender                    2\n",
       "Late                      2\n",
       "dtype: int64"
      ]
     },
     "metadata": {},
     "output_type": "display_data"
    }
   ],
   "source": [
    "# calculate the number of unique values for each column\n",
    "unique_counts = X_train.nunique().sort_values(ascending=False)\n",
    "\n",
    "print(\"Top columns with highest cardinality:\\n\")\n",
    "display(unique_counts)"
   ]
  },
  {
   "cell_type": "markdown",
   "metadata": {},
   "source": [
    "##### Summary\n",
    "\n",
    "Insight:\n",
    "\n",
    "-  The 'id' column has the highest cardinality, with each row having a unique ID, which is expected. The 'weight_in_gms', 'cost_of_the_product', and 'discount_offered' columns also have very high cardinality, indicating diverse textual content.\n",
    "\n",
    "- The 'gender' column has only two unique values, suggesting that all gender are listed as Male and Female. Columns like 'mode_of_shipment' and 'product_importance' have very low cardinality, indicating they are categorical variables with limited options.\n",
    "\n",
    "Next move: \n",
    "\n",
    "- Drop columns\n",
    "    - We are going to drop a column that identify as identity first; 'id'. Next, We are going to drop a column that We are not going to use in our model; We don't need 'Late' since it is made for EDA.\n",
    "\n",
    "Note:\n",
    "\n",
    "- High Cardinality for Non-Informative Columns: Columns with a very high number of unique values (like id or body text) were dropped since they don't contribute meaningfully to the analysis.\n",
    "\n",
    "- Redundancy: When two or more columns convey similar or identical information, one or more can be dropped to avoid redundancy. This reduces multicollinearity in statistical models and simplifies the dataset. For instance, 'price' and 'price_display' both provide price information, and one is simply a formatted version of the other, one should dropped. Other examples: 'state', 'cityname', and 'address' all of them provide location information. The dataset already contains 'state', 'latitude', and 'longitude', which are precise geographical coordinates. These three columns provide a more granular and mathematically usable representation of location than cityname or address.\n",
    "\n",
    "- Data Quality Issues: Columns with a high percentage of missing values or significant inconsistencies might be dropped if imputation is not feasible or desirable, or if the data is unreliable.\n",
    "\n",
    "- Irrelevance: columns like 'has_photo' & 'time' don't provide any useful information for the analysis or modeling task at hand, it's best to remove it. Irrelevant columns can add noise and complexity without contributing to insights.        "
   ]
  },
  {
   "cell_type": "markdown",
   "metadata": {},
   "source": [
    "##### Drop Columns"
   ]
  },
  {
   "cell_type": "code",
   "execution_count": 23,
   "metadata": {},
   "outputs": [],
   "source": [
    "X_train = X_train.drop(columns=['id', 'Late'])\n",
    "X_test = X_test.drop(columns=['id', 'Late'])"
   ]
  },
  {
   "cell_type": "markdown",
   "metadata": {},
   "source": [
    "### Feature Transformation"
   ]
  },
  {
   "cell_type": "markdown",
   "metadata": {},
   "source": [
    "#### Handling Outlier\n",
    "- We are gonna handle Numerical Data only to see if we have any outliers and do we need to handle it"
   ]
  },
  {
   "cell_type": "markdown",
   "metadata": {},
   "source": [
    "##### Checking Outliers"
   ]
  },
  {
   "cell_type": "code",
   "execution_count": 24,
   "metadata": {},
   "outputs": [],
   "source": [
    "def outliers_checker(X_train, list_cols):\n",
    "  '''\n",
    "\n",
    "  Identify and analyze outliers in specified columns of a DataFrame.\n",
    "    \n",
    "  This function checks for outliers using different methods based on data distribution:\n",
    "\n",
    "  - For normal distributions: uses mean ± 3 standard deviations\n",
    "  - For skewed distributions: uses interquartile range (IQR) method\n",
    "  - For extremely skewed distributions: uses extended IQR method\n",
    "  - For super extremely skewed distributions: uses quantiles\n",
    "  \n",
    "  Parameters:\n",
    "  -----------\n",
    "  cl : pandas.DataFrame\n",
    "               The input DataFrame containing the data to analyze\n",
    "\n",
    "  list_cols : list\n",
    "                 List of column names to check for outliers\n",
    "\n",
    "  '''\n",
    "\n",
    "  # empty variable\n",
    "  result = []\n",
    "\n",
    "  for col in list_cols:\n",
    "    row = []\n",
    "\n",
    "    # add column name\n",
    "    row.append(col)\n",
    "\n",
    "    # check normality\n",
    "    if np.abs(X_train[col].skew()) > 1 :\n",
    "      row.append('extreme skew')\n",
    "    elif np.abs(X_train[col].skew()) > 0.5:\n",
    "      row.append('skew')\n",
    "    else:\n",
    "      row.append('normal')\n",
    "\n",
    "    # upper dan lower boundaries\n",
    "    if row[1] == 'normal':\n",
    "      upper = X_train[col].mean() + 3 * X_train[col].std()\n",
    "      lower = X_train[col].mean() - 3 * X_train[col].std()\n",
    "    elif row[1] == 'skew':\n",
    "      iqr = X_train[col].quantile(0.75) - X_train[col].quantile(0.25)\n",
    "      upper = X_train[col].quantile(0.75) + 1.5 * iqr\n",
    "      lower = X_train[col].quantile(0.25) - 1.5 * iqr\n",
    "    else:\n",
    "      iqr = X_train[col].quantile(0.75) - X_train[col].quantile(0.25)\n",
    "      upper = X_train[col].quantile(0.75) + 3 * iqr\n",
    "      lower = X_train[col].quantile(0.25) - 3 * iqr\n",
    "\n",
    "    # add upper and lower boundaries\n",
    "    row.append(round(upper, 2))\n",
    "    row.append(round(lower, 2))\n",
    "\n",
    "    # check outliers exists or not\n",
    "    if len(X_train.loc[(X_train[col]<lower) | (X_train[col]>upper)]) > 0:\n",
    "      row.append('has outliers')\n",
    "      row.append(round(len(X_train.loc[(X_train[col]<lower) | (X_train[col]>upper)]) / len(X_train) * 100,2))\n",
    "    else:\n",
    "      row.append('no outlier')\n",
    "      row.append(0.0)\n",
    "\n",
    "\n",
    "    result.append(row)\n",
    "\n",
    "  result = pd.DataFrame(result, columns=['column name', 'skewness', 'upper boundary',\n",
    "                                         'lower boundary', 'outliers status', 'outlier percentage (in %)'])\n",
    "  return result"
   ]
  },
  {
   "cell_type": "code",
   "execution_count": 25,
   "metadata": {},
   "outputs": [
    {
     "data": {
      "text/html": [
       "<div>\n",
       "<style scoped>\n",
       "    .dataframe tbody tr th:only-of-type {\n",
       "        vertical-align: middle;\n",
       "    }\n",
       "\n",
       "    .dataframe tbody tr th {\n",
       "        vertical-align: top;\n",
       "    }\n",
       "\n",
       "    .dataframe thead th {\n",
       "        text-align: right;\n",
       "    }\n",
       "</style>\n",
       "<table border=\"1\" class=\"dataframe\">\n",
       "  <thead>\n",
       "    <tr style=\"text-align: right;\">\n",
       "      <th></th>\n",
       "      <th>column name</th>\n",
       "      <th>skewness</th>\n",
       "      <th>upper boundary</th>\n",
       "      <th>lower boundary</th>\n",
       "      <th>outliers status</th>\n",
       "      <th>outlier percentage (in %)</th>\n",
       "    </tr>\n",
       "  </thead>\n",
       "  <tbody>\n",
       "    <tr>\n",
       "      <th>0</th>\n",
       "      <td>customer_care_calls</td>\n",
       "      <td>normal</td>\n",
       "      <td>7.46</td>\n",
       "      <td>0.65</td>\n",
       "      <td>no outlier</td>\n",
       "      <td>0.00</td>\n",
       "    </tr>\n",
       "    <tr>\n",
       "      <th>1</th>\n",
       "      <td>customer_rating</td>\n",
       "      <td>normal</td>\n",
       "      <td>7.24</td>\n",
       "      <td>-1.26</td>\n",
       "      <td>no outlier</td>\n",
       "      <td>0.00</td>\n",
       "    </tr>\n",
       "    <tr>\n",
       "      <th>2</th>\n",
       "      <td>cost_of_the_product</td>\n",
       "      <td>normal</td>\n",
       "      <td>354.06</td>\n",
       "      <td>66.64</td>\n",
       "      <td>no outlier</td>\n",
       "      <td>0.00</td>\n",
       "    </tr>\n",
       "    <tr>\n",
       "      <th>3</th>\n",
       "      <td>prior_purchases</td>\n",
       "      <td>extreme skew</td>\n",
       "      <td>7.00</td>\n",
       "      <td>0.00</td>\n",
       "      <td>has outliers</td>\n",
       "      <td>2.72</td>\n",
       "    </tr>\n",
       "    <tr>\n",
       "      <th>4</th>\n",
       "      <td>discount_offered</td>\n",
       "      <td>extreme skew</td>\n",
       "      <td>28.00</td>\n",
       "      <td>-14.00</td>\n",
       "      <td>has outliers</td>\n",
       "      <td>16.17</td>\n",
       "    </tr>\n",
       "    <tr>\n",
       "      <th>5</th>\n",
       "      <td>weight_in_gms</td>\n",
       "      <td>normal</td>\n",
       "      <td>8543.78</td>\n",
       "      <td>-1266.06</td>\n",
       "      <td>no outlier</td>\n",
       "      <td>0.00</td>\n",
       "    </tr>\n",
       "  </tbody>\n",
       "</table>\n",
       "</div>"
      ],
      "text/plain": [
       "           column name      skewness  upper boundary  lower boundary  \\\n",
       "0  customer_care_calls        normal            7.46            0.65   \n",
       "1      customer_rating        normal            7.24           -1.26   \n",
       "2  cost_of_the_product        normal          354.06           66.64   \n",
       "3      prior_purchases  extreme skew            7.00            0.00   \n",
       "4     discount_offered  extreme skew           28.00          -14.00   \n",
       "5        weight_in_gms        normal         8543.78        -1266.06   \n",
       "\n",
       "  outliers status  outlier percentage (in %)  \n",
       "0      no outlier                       0.00  \n",
       "1      no outlier                       0.00  \n",
       "2      no outlier                       0.00  \n",
       "3    has outliers                       2.72  \n",
       "4    has outliers                      16.17  \n",
       "5      no outlier                       0.00  "
      ]
     },
     "execution_count": 25,
     "metadata": {},
     "output_type": "execute_result"
    }
   ],
   "source": [
    "# checking distribution and upper, lower boundaries\n",
    "list_cols = ['customer_care_calls', 'customer_rating', 'cost_of_the_product', 'prior_purchases', 'discount_offered', 'weight_in_gms']\n",
    "\n",
    "# check\n",
    "outliers_checker(X_train, list_cols)"
   ]
  },
  {
   "cell_type": "markdown",
   "metadata": {},
   "source": [
    "##### Summary\n",
    "\n",
    "**Note: Analzying outliers**\n",
    "\n",
    "        skew = toqerul (1.5)\n",
    "        normal = Zscore = gaus = fold (3)\n",
    "        extreme = toqerul (3)\n",
    "\n",
    "**Note to handle outliers:**\n",
    "- if total 'outlier percentage' > 5% use capping\n",
    "    - must see the type of skewness\n",
    "        - if normal use gau\n",
    "        - if skew use IQR\n",
    "        - if cannot use IQR for the extreme skew, it means that it is too extreme. to handling the outlier, we are going to use quantiles.\n",
    "- if 'outlier percentage' < 5% use trimming\n",
    "\n",
    "Insight:\n",
    "\n",
    "- It looks like there are only 2 columns that have outliers. And all of them have a total percentage above 5%. Since the total outlier percentage > 5% for all numerical columns. To handle this, we are gonna use capping.\n",
    "\n",
    "Next Moves on to handle the outlier:\n",
    "\n",
    "- We will proceed in handling the outliers by capping all the numerical columns that have outliers."
   ]
  },
  {
   "cell_type": "markdown",
   "metadata": {},
   "source": [
    "##### Handling Outliers by Using Capping because Outlier Percentage above 5%"
   ]
  },
  {
   "cell_type": "markdown",
   "metadata": {},
   "source": [
    "##### Extreme Skew"
   ]
  },
  {
   "cell_type": "code",
   "execution_count": 26,
   "metadata": {},
   "outputs": [],
   "source": [
    "# Extreme skew using IQR\n",
    "winsoriser_iqr = Winsorizer(capping_method='iqr',\n",
    "                             tail='both',\n",
    "                             fold=3,\n",
    "                             variables=['prior_purchases', 'discount_offered'],\n",
    "                            missing_values='ignore')\n",
    "\n",
    "X_train = winsoriser_iqr.fit_transform(X_train)\n",
    "X_test = winsoriser_iqr.transform(X_test)"
   ]
  },
  {
   "cell_type": "markdown",
   "metadata": {},
   "source": [
    "##### Checking outliers if it is already handled"
   ]
  },
  {
   "cell_type": "code",
   "execution_count": 27,
   "metadata": {},
   "outputs": [
    {
     "data": {
      "text/html": [
       "<div>\n",
       "<style scoped>\n",
       "    .dataframe tbody tr th:only-of-type {\n",
       "        vertical-align: middle;\n",
       "    }\n",
       "\n",
       "    .dataframe tbody tr th {\n",
       "        vertical-align: top;\n",
       "    }\n",
       "\n",
       "    .dataframe thead th {\n",
       "        text-align: right;\n",
       "    }\n",
       "</style>\n",
       "<table border=\"1\" class=\"dataframe\">\n",
       "  <thead>\n",
       "    <tr style=\"text-align: right;\">\n",
       "      <th></th>\n",
       "      <th>column name</th>\n",
       "      <th>skewness</th>\n",
       "      <th>upper boundary</th>\n",
       "      <th>lower boundary</th>\n",
       "      <th>outliers status</th>\n",
       "      <th>outlier percentage (in %)</th>\n",
       "    </tr>\n",
       "  </thead>\n",
       "  <tbody>\n",
       "    <tr>\n",
       "      <th>0</th>\n",
       "      <td>customer_care_calls</td>\n",
       "      <td>normal</td>\n",
       "      <td>7.46</td>\n",
       "      <td>0.65</td>\n",
       "      <td>no outlier</td>\n",
       "      <td>0.00</td>\n",
       "    </tr>\n",
       "    <tr>\n",
       "      <th>1</th>\n",
       "      <td>customer_rating</td>\n",
       "      <td>normal</td>\n",
       "      <td>7.24</td>\n",
       "      <td>-1.26</td>\n",
       "      <td>no outlier</td>\n",
       "      <td>0.00</td>\n",
       "    </tr>\n",
       "    <tr>\n",
       "      <th>2</th>\n",
       "      <td>cost_of_the_product</td>\n",
       "      <td>normal</td>\n",
       "      <td>354.06</td>\n",
       "      <td>66.64</td>\n",
       "      <td>no outlier</td>\n",
       "      <td>0.00</td>\n",
       "    </tr>\n",
       "    <tr>\n",
       "      <th>3</th>\n",
       "      <td>prior_purchases</td>\n",
       "      <td>skew</td>\n",
       "      <td>5.50</td>\n",
       "      <td>1.50</td>\n",
       "      <td>has outliers</td>\n",
       "      <td>9.14</td>\n",
       "    </tr>\n",
       "    <tr>\n",
       "      <th>4</th>\n",
       "      <td>discount_offered</td>\n",
       "      <td>extreme skew</td>\n",
       "      <td>28.00</td>\n",
       "      <td>-14.00</td>\n",
       "      <td>no outlier</td>\n",
       "      <td>0.00</td>\n",
       "    </tr>\n",
       "    <tr>\n",
       "      <th>5</th>\n",
       "      <td>weight_in_gms</td>\n",
       "      <td>normal</td>\n",
       "      <td>8543.78</td>\n",
       "      <td>-1266.06</td>\n",
       "      <td>no outlier</td>\n",
       "      <td>0.00</td>\n",
       "    </tr>\n",
       "  </tbody>\n",
       "</table>\n",
       "</div>"
      ],
      "text/plain": [
       "           column name      skewness  upper boundary  lower boundary  \\\n",
       "0  customer_care_calls        normal            7.46            0.65   \n",
       "1      customer_rating        normal            7.24           -1.26   \n",
       "2  cost_of_the_product        normal          354.06           66.64   \n",
       "3      prior_purchases          skew            5.50            1.50   \n",
       "4     discount_offered  extreme skew           28.00          -14.00   \n",
       "5        weight_in_gms        normal         8543.78        -1266.06   \n",
       "\n",
       "  outliers status  outlier percentage (in %)  \n",
       "0      no outlier                       0.00  \n",
       "1      no outlier                       0.00  \n",
       "2      no outlier                       0.00  \n",
       "3    has outliers                       9.14  \n",
       "4      no outlier                       0.00  \n",
       "5      no outlier                       0.00  "
      ]
     },
     "execution_count": 27,
     "metadata": {},
     "output_type": "execute_result"
    }
   ],
   "source": [
    "# checking distribution and upper, lower boundaries\n",
    "list_cols = ['customer_care_calls', 'customer_rating', 'cost_of_the_product', 'prior_purchases', 'discount_offered', 'weight_in_gms']\n",
    "\n",
    "# check\n",
    "outliers_checker(X_train, list_cols)"
   ]
  },
  {
   "cell_type": "markdown",
   "metadata": {},
   "source": [
    "#### Handling Missing Value\n",
    "Evaluate missing values and drop them or fill them with (mean or median or mode or make new unique values) if needed"
   ]
  },
  {
   "cell_type": "markdown",
   "metadata": {},
   "source": [
    "##### Evaluate missing values"
   ]
  },
  {
   "cell_type": "markdown",
   "metadata": {},
   "source": [
    "X_train"
   ]
  },
  {
   "cell_type": "code",
   "execution_count": 28,
   "metadata": {},
   "outputs": [
    {
     "name": "stdout",
     "output_type": "stream",
     "text": [
      "Number of NaN values per column:\n"
     ]
    },
    {
     "data": {
      "text/plain": [
       "warehouse_block        0\n",
       "mode_of_shipment       0\n",
       "customer_care_calls    0\n",
       "customer_rating        0\n",
       "cost_of_the_product    0\n",
       "prior_purchases        0\n",
       "product_importance     0\n",
       "gender                 0\n",
       "discount_offered       0\n",
       "weight_in_gms          0\n",
       "dtype: int64"
      ]
     },
     "metadata": {},
     "output_type": "display_data"
    }
   ],
   "source": [
    "# check for NaN values in each columns\n",
    "nan_count = X_train.isnull().sum()\n",
    "\n",
    "print(\"Number of NaN values per column:\")\n",
    "display(nan_count)"
   ]
  },
  {
   "cell_type": "markdown",
   "metadata": {},
   "source": [
    "X_test"
   ]
  },
  {
   "cell_type": "code",
   "execution_count": 29,
   "metadata": {},
   "outputs": [
    {
     "name": "stdout",
     "output_type": "stream",
     "text": [
      "Number of NaN values per column:\n"
     ]
    },
    {
     "data": {
      "text/plain": [
       "warehouse_block        0\n",
       "mode_of_shipment       0\n",
       "customer_care_calls    0\n",
       "customer_rating        0\n",
       "cost_of_the_product    0\n",
       "prior_purchases        0\n",
       "product_importance     0\n",
       "gender                 0\n",
       "discount_offered       0\n",
       "weight_in_gms          0\n",
       "dtype: int64"
      ]
     },
     "metadata": {},
     "output_type": "display_data"
    }
   ],
   "source": [
    "# check for NaN values in each columns\n",
    "nan_count = X_test.isnull().sum()\n",
    "\n",
    "print(\"Number of NaN values per column:\")\n",
    "display(nan_count)"
   ]
  },
  {
   "cell_type": "markdown",
   "metadata": {},
   "source": [
    "y_train"
   ]
  },
  {
   "cell_type": "code",
   "execution_count": 30,
   "metadata": {},
   "outputs": [
    {
     "name": "stdout",
     "output_type": "stream",
     "text": [
      "Number of NaN values per column:\n"
     ]
    },
    {
     "data": {
      "text/plain": [
       "0"
      ]
     },
     "metadata": {},
     "output_type": "display_data"
    }
   ],
   "source": [
    "# check for NaN values in each columns\n",
    "nan_count = y_train.isnull().sum()\n",
    "\n",
    "print(\"Number of NaN values per column:\")\n",
    "display(nan_count)"
   ]
  },
  {
   "cell_type": "markdown",
   "metadata": {},
   "source": [
    "y_test"
   ]
  },
  {
   "cell_type": "code",
   "execution_count": 31,
   "metadata": {},
   "outputs": [
    {
     "name": "stdout",
     "output_type": "stream",
     "text": [
      "Number of NaN values per column:\n"
     ]
    },
    {
     "data": {
      "text/plain": [
       "0"
      ]
     },
     "metadata": {},
     "output_type": "display_data"
    }
   ],
   "source": [
    "# check for NaN values in each columns\n",
    "nan_count = y_test.isnull().sum()\n",
    "\n",
    "print(\"Number of NaN values per column:\")\n",
    "display(nan_count)"
   ]
  },
  {
   "cell_type": "markdown",
   "metadata": {},
   "source": [
    "##### Insight\n",
    "\n",
    "There are no missing values in X_train, X_test, y_train, and y_test"
   ]
  },
  {
   "cell_type": "markdown",
   "metadata": {},
   "source": [
    "#### Feature Selection\n",
    "- Here We are going to check the correlation between independent and dependent variables and see if all columns are needed and ready to go"
   ]
  },
  {
   "cell_type": "markdown",
   "metadata": {},
   "source": [
    "##### Numerical Discrete"
   ]
  },
  {
   "cell_type": "code",
   "execution_count": 32,
   "metadata": {},
   "outputs": [
    {
     "data": {
      "text/html": [
       "<div>\n",
       "<style scoped>\n",
       "    .dataframe tbody tr th:only-of-type {\n",
       "        vertical-align: middle;\n",
       "    }\n",
       "\n",
       "    .dataframe tbody tr th {\n",
       "        vertical-align: top;\n",
       "    }\n",
       "\n",
       "    .dataframe thead th {\n",
       "        text-align: right;\n",
       "    }\n",
       "</style>\n",
       "<table border=\"1\" class=\"dataframe\">\n",
       "  <thead>\n",
       "    <tr style=\"text-align: right;\">\n",
       "      <th></th>\n",
       "      <th>Column Name</th>\n",
       "      <th>Correlation</th>\n",
       "      <th>Significant Status</th>\n",
       "    </tr>\n",
       "  </thead>\n",
       "  <tbody>\n",
       "    <tr>\n",
       "      <th>0</th>\n",
       "      <td>customer_care_calls</td>\n",
       "      <td>-0.064116</td>\n",
       "      <td>statistically significant</td>\n",
       "    </tr>\n",
       "    <tr>\n",
       "      <th>1</th>\n",
       "      <td>prior_purchases</td>\n",
       "      <td>-0.068940</td>\n",
       "      <td>statistically significant</td>\n",
       "    </tr>\n",
       "    <tr>\n",
       "      <th>2</th>\n",
       "      <td>discount_offered</td>\n",
       "      <td>0.333725</td>\n",
       "      <td>statistically significant</td>\n",
       "    </tr>\n",
       "  </tbody>\n",
       "</table>\n",
       "</div>"
      ],
      "text/plain": [
       "           Column Name  Correlation         Significant Status\n",
       "0  customer_care_calls    -0.064116  statistically significant\n",
       "1      prior_purchases    -0.068940  statistically significant\n",
       "2     discount_offered     0.333725  statistically significant"
      ]
     },
     "execution_count": 32,
     "metadata": {},
     "output_type": "execute_result"
    }
   ],
   "source": [
    "# define list cols\n",
    "disc_cols = ['customer_care_calls', 'prior_purchases', 'discount_offered']\n",
    "\n",
    "# Test statistic\n",
    "result = []\n",
    "\n",
    "for col in disc_cols:\n",
    "  row = []\n",
    "  corr, p_value = stats.spearmanr(X_train[col], y_train)\n",
    "\n",
    "  # add column\n",
    "  row.append(col)\n",
    "\n",
    "  # add corr\n",
    "  row.append(corr)\n",
    "\n",
    "  # add p_value\n",
    "  if p_value < 0.05:\n",
    "    row.append('statistically significant')\n",
    "  else:\n",
    "    row.append('Not significant')\n",
    "\n",
    "  result.append(row)\n",
    "\n",
    "\n",
    "result = pd.DataFrame(result, columns=['Column Name', 'Correlation', 'Significant Status'])\n",
    "\n",
    "result\n"
   ]
  },
  {
   "cell_type": "markdown",
   "metadata": {},
   "source": [
    "##### Numerical Continuous"
   ]
  },
  {
   "cell_type": "code",
   "execution_count": 33,
   "metadata": {},
   "outputs": [
    {
     "data": {
      "text/html": [
       "<div>\n",
       "<style scoped>\n",
       "    .dataframe tbody tr th:only-of-type {\n",
       "        vertical-align: middle;\n",
       "    }\n",
       "\n",
       "    .dataframe tbody tr th {\n",
       "        vertical-align: top;\n",
       "    }\n",
       "\n",
       "    .dataframe thead th {\n",
       "        text-align: right;\n",
       "    }\n",
       "</style>\n",
       "<table border=\"1\" class=\"dataframe\">\n",
       "  <thead>\n",
       "    <tr style=\"text-align: right;\">\n",
       "      <th></th>\n",
       "      <th>Nama Kolom</th>\n",
       "      <th>Correlation</th>\n",
       "      <th>Status</th>\n",
       "    </tr>\n",
       "  </thead>\n",
       "  <tbody>\n",
       "    <tr>\n",
       "      <th>0</th>\n",
       "      <td>cost_of_the_product</td>\n",
       "      <td>-0.079041</td>\n",
       "      <td>Statistically Significant</td>\n",
       "    </tr>\n",
       "    <tr>\n",
       "      <th>1</th>\n",
       "      <td>weight_in_gms</td>\n",
       "      <td>-0.269603</td>\n",
       "      <td>Statistically Significant</td>\n",
       "    </tr>\n",
       "  </tbody>\n",
       "</table>\n",
       "</div>"
      ],
      "text/plain": [
       "            Nama Kolom  Correlation                     Status\n",
       "0  cost_of_the_product    -0.079041  Statistically Significant\n",
       "1        weight_in_gms    -0.269603  Statistically Significant"
      ]
     },
     "execution_count": 33,
     "metadata": {},
     "output_type": "execute_result"
    }
   ],
   "source": [
    "# define list cols\n",
    "conti_cols = ['cost_of_the_product', 'weight_in_gms']\n",
    "\n",
    "# Test statistic\n",
    "result = []\n",
    "\n",
    "for col in conti_cols:\n",
    "  row = []\n",
    "  corr, p_value = pearsonr(X_train[col], y_train)\n",
    "\n",
    "  # add column\n",
    "  row.append(col)\n",
    "\n",
    "  # add corr\n",
    "  row.append(corr)\n",
    "\n",
    "  # add p_value\n",
    "  if p_value < 0.05:\n",
    "    row.append('Statistically Significant')\n",
    "  else:\n",
    "    row.append('Not significant')\n",
    "\n",
    "  result.append(row)\n",
    "\n",
    "\n",
    "result = pd.DataFrame(result, columns=['Nama Kolom', 'Correlation', 'Status'])\n",
    "\n",
    "result\n"
   ]
  },
  {
   "cell_type": "markdown",
   "metadata": {},
   "source": [
    "##### Categorical Nominal"
   ]
  },
  {
   "cell_type": "code",
   "execution_count": 34,
   "metadata": {},
   "outputs": [],
   "source": [
    "# define list\n",
    "nom_cat_cals = ['warehouse_block', 'mode_of_shipment', 'gender']"
   ]
  },
  {
   "cell_type": "code",
   "execution_count": 35,
   "metadata": {},
   "outputs": [
    {
     "name": "stdout",
     "output_type": "stream",
     "text": [
      "P-value: ['Not Significant']\n"
     ]
    }
   ],
   "source": [
    "# warehouse_block\n",
    "A = y_train.loc[X_train[X_train['warehouse_block'].str.strip() =='A'].index]\n",
    "B = y_train.loc[X_train[X_train['warehouse_block'].str.strip() =='B'].index]\n",
    "C = y_train.loc[X_train[X_train['warehouse_block'].str.strip() =='C'].index]\n",
    "D = y_train.loc[X_train[X_train['warehouse_block'].str.strip() =='D'].index]\n",
    "F = y_train.loc[X_train[X_train['warehouse_block'].str.strip() =='F'].index]\n",
    "\n",
    "res_1 = stats.f_oneway(A, B, C, D, F)\n",
    "print('P-value:',[ 'Significant Related' if res_1.pvalue < 0.05 else 'Not Significant'])"
   ]
  },
  {
   "cell_type": "code",
   "execution_count": 36,
   "metadata": {},
   "outputs": [
    {
     "name": "stdout",
     "output_type": "stream",
     "text": [
      "P-value: ['Not Significant']\n"
     ]
    }
   ],
   "source": [
    "# mode_of_shipment\n",
    "ship = y_train.loc[X_train[X_train['mode_of_shipment'].str.strip() =='Ship'].index]\n",
    "flight = y_train.loc[X_train[X_train['mode_of_shipment'].str.strip() =='Flight'].index]\n",
    "road = y_train.loc[X_train[X_train['mode_of_shipment'].str.strip() =='Road'].index]\n",
    "\n",
    "res_2 = stats.f_oneway(ship, flight, road)\n",
    "print('P-value:',[ 'Significant Related' if res_2.pvalue < 0.05 else 'Not Significant'])"
   ]
  },
  {
   "cell_type": "code",
   "execution_count": 37,
   "metadata": {},
   "outputs": [
    {
     "name": "stdout",
     "output_type": "stream",
     "text": [
      "P-value: ['Not Significant']\n"
     ]
    }
   ],
   "source": [
    "# gender\n",
    "m = y_train.loc[X_train[X_train['gender'].str.strip() =='M'].index]\n",
    "f = y_train.loc[X_train[X_train['gender'].str.strip() =='F'].index]\n",
    "\n",
    "res_3 = stats.f_oneway(m, f)\n",
    "print('P-value:',[ 'Significant Related' if res_3.pvalue < 0.05 else 'Not Significant'])"
   ]
  },
  {
   "cell_type": "markdown",
   "metadata": {},
   "source": [
    "##### Categorical Ordinal\n"
   ]
  },
  {
   "cell_type": "code",
   "execution_count": 38,
   "metadata": {},
   "outputs": [
    {
     "name": "stdout",
     "output_type": "stream",
     "text": [
      "Product Importance:\n",
      "P-value: Significantly Related\n",
      "Kendall's Tau: 0.021\n",
      "\n",
      "Customer Rating:\n",
      "P-value: Not Significant\n",
      "Kendall's Tau: 0.013\n"
     ]
    }
   ],
   "source": [
    "# Kendall mapping for product_importance\n",
    "importance_map = X_train['product_importance'].map({\n",
    "    'low': 1,\n",
    "    'medium': 2,\n",
    "    'high': 3\n",
    "})\n",
    "\n",
    "# Kendall Tau correlation test for product_importance\n",
    "corr_tau_importance, pval_importance = stats.kendalltau(importance_map, y_train)\n",
    "print('Product Importance:')\n",
    "print('P-value:', 'Significantly Related' if pval_importance < 0.05 else 'Not Significant')\n",
    "print(f\"Kendall's Tau: {corr_tau_importance:.3f}\\n\")\n",
    "\n",
    "# Kendall Tau correlation test for customer_rating (already numeric, no mapping needed)\n",
    "corr_tau_rating, pval_rating = stats.kendalltau(X_train['customer_rating'], y_train)\n",
    "print('Customer Rating:')\n",
    "print('P-value:', 'Significantly Related' if pval_rating < 0.05 else 'Not Significant')\n",
    "print(f\"Kendall's Tau: {corr_tau_rating:.3f}\")"
   ]
  },
  {
   "cell_type": "markdown",
   "metadata": {},
   "source": [
    "##### Conclusion \n",
    "\n",
    "Since 'warehouse_block', 'mode_of_shipment', 'gender' and 'customer_rating' is not significant, We are not going to use it in our Pipeline"
   ]
  },
  {
   "cell_type": "markdown",
   "metadata": {},
   "source": [
    "### Pipeline Scaling & Encoding\n",
    "\n",
    "- Here We are going to make a pipeline for scaling and encoding"
   ]
  },
  {
   "cell_type": "code",
   "execution_count": 39,
   "metadata": {},
   "outputs": [
    {
     "name": "stdout",
     "output_type": "stream",
     "text": [
      "Numerical Columns :  ['customer_care_calls', 'prior_purchases', 'discount_offered', 'cost_of_the_product', 'weight_in_gms']\n",
      "Categorical Ordinal Columns :  ['product_importance']\n"
     ]
    }
   ],
   "source": [
    "# get Numerical Columns and Categorical Columns\n",
    "num_columns = ['customer_care_calls', 'prior_purchases', 'discount_offered', 'cost_of_the_product', 'weight_in_gms']\n",
    "ord_cat_columns = ['product_importance']\n",
    "\n",
    "print('Numerical Columns : ', num_columns)\n",
    "print('Categorical Ordinal Columns : ', ord_cat_columns)"
   ]
  },
  {
   "cell_type": "markdown",
   "metadata": {},
   "source": [
    "#### Create Pipeline"
   ]
  },
  {
   "cell_type": "code",
   "execution_count": 40,
   "metadata": {},
   "outputs": [
    {
     "data": {
      "text/html": [
       "<style>#sk-container-id-1 {\n",
       "  /* Definition of color scheme common for light and dark mode */\n",
       "  --sklearn-color-text: #000;\n",
       "  --sklearn-color-text-muted: #666;\n",
       "  --sklearn-color-line: gray;\n",
       "  /* Definition of color scheme for unfitted estimators */\n",
       "  --sklearn-color-unfitted-level-0: #fff5e6;\n",
       "  --sklearn-color-unfitted-level-1: #f6e4d2;\n",
       "  --sklearn-color-unfitted-level-2: #ffe0b3;\n",
       "  --sklearn-color-unfitted-level-3: chocolate;\n",
       "  /* Definition of color scheme for fitted estimators */\n",
       "  --sklearn-color-fitted-level-0: #f0f8ff;\n",
       "  --sklearn-color-fitted-level-1: #d4ebff;\n",
       "  --sklearn-color-fitted-level-2: #b3dbfd;\n",
       "  --sklearn-color-fitted-level-3: cornflowerblue;\n",
       "\n",
       "  /* Specific color for light theme */\n",
       "  --sklearn-color-text-on-default-background: var(--sg-text-color, var(--theme-code-foreground, var(--jp-content-font-color1, black)));\n",
       "  --sklearn-color-background: var(--sg-background-color, var(--theme-background, var(--jp-layout-color0, white)));\n",
       "  --sklearn-color-border-box: var(--sg-text-color, var(--theme-code-foreground, var(--jp-content-font-color1, black)));\n",
       "  --sklearn-color-icon: #696969;\n",
       "\n",
       "  @media (prefers-color-scheme: dark) {\n",
       "    /* Redefinition of color scheme for dark theme */\n",
       "    --sklearn-color-text-on-default-background: var(--sg-text-color, var(--theme-code-foreground, var(--jp-content-font-color1, white)));\n",
       "    --sklearn-color-background: var(--sg-background-color, var(--theme-background, var(--jp-layout-color0, #111)));\n",
       "    --sklearn-color-border-box: var(--sg-text-color, var(--theme-code-foreground, var(--jp-content-font-color1, white)));\n",
       "    --sklearn-color-icon: #878787;\n",
       "  }\n",
       "}\n",
       "\n",
       "#sk-container-id-1 {\n",
       "  color: var(--sklearn-color-text);\n",
       "}\n",
       "\n",
       "#sk-container-id-1 pre {\n",
       "  padding: 0;\n",
       "}\n",
       "\n",
       "#sk-container-id-1 input.sk-hidden--visually {\n",
       "  border: 0;\n",
       "  clip: rect(1px 1px 1px 1px);\n",
       "  clip: rect(1px, 1px, 1px, 1px);\n",
       "  height: 1px;\n",
       "  margin: -1px;\n",
       "  overflow: hidden;\n",
       "  padding: 0;\n",
       "  position: absolute;\n",
       "  width: 1px;\n",
       "}\n",
       "\n",
       "#sk-container-id-1 div.sk-dashed-wrapped {\n",
       "  border: 1px dashed var(--sklearn-color-line);\n",
       "  margin: 0 0.4em 0.5em 0.4em;\n",
       "  box-sizing: border-box;\n",
       "  padding-bottom: 0.4em;\n",
       "  background-color: var(--sklearn-color-background);\n",
       "}\n",
       "\n",
       "#sk-container-id-1 div.sk-container {\n",
       "  /* jupyter's `normalize.less` sets `[hidden] { display: none; }`\n",
       "     but bootstrap.min.css set `[hidden] { display: none !important; }`\n",
       "     so we also need the `!important` here to be able to override the\n",
       "     default hidden behavior on the sphinx rendered scikit-learn.org.\n",
       "     See: https://github.com/scikit-learn/scikit-learn/issues/21755 */\n",
       "  display: inline-block !important;\n",
       "  position: relative;\n",
       "}\n",
       "\n",
       "#sk-container-id-1 div.sk-text-repr-fallback {\n",
       "  display: none;\n",
       "}\n",
       "\n",
       "div.sk-parallel-item,\n",
       "div.sk-serial,\n",
       "div.sk-item {\n",
       "  /* draw centered vertical line to link estimators */\n",
       "  background-image: linear-gradient(var(--sklearn-color-text-on-default-background), var(--sklearn-color-text-on-default-background));\n",
       "  background-size: 2px 100%;\n",
       "  background-repeat: no-repeat;\n",
       "  background-position: center center;\n",
       "}\n",
       "\n",
       "/* Parallel-specific style estimator block */\n",
       "\n",
       "#sk-container-id-1 div.sk-parallel-item::after {\n",
       "  content: \"\";\n",
       "  width: 100%;\n",
       "  border-bottom: 2px solid var(--sklearn-color-text-on-default-background);\n",
       "  flex-grow: 1;\n",
       "}\n",
       "\n",
       "#sk-container-id-1 div.sk-parallel {\n",
       "  display: flex;\n",
       "  align-items: stretch;\n",
       "  justify-content: center;\n",
       "  background-color: var(--sklearn-color-background);\n",
       "  position: relative;\n",
       "}\n",
       "\n",
       "#sk-container-id-1 div.sk-parallel-item {\n",
       "  display: flex;\n",
       "  flex-direction: column;\n",
       "}\n",
       "\n",
       "#sk-container-id-1 div.sk-parallel-item:first-child::after {\n",
       "  align-self: flex-end;\n",
       "  width: 50%;\n",
       "}\n",
       "\n",
       "#sk-container-id-1 div.sk-parallel-item:last-child::after {\n",
       "  align-self: flex-start;\n",
       "  width: 50%;\n",
       "}\n",
       "\n",
       "#sk-container-id-1 div.sk-parallel-item:only-child::after {\n",
       "  width: 0;\n",
       "}\n",
       "\n",
       "/* Serial-specific style estimator block */\n",
       "\n",
       "#sk-container-id-1 div.sk-serial {\n",
       "  display: flex;\n",
       "  flex-direction: column;\n",
       "  align-items: center;\n",
       "  background-color: var(--sklearn-color-background);\n",
       "  padding-right: 1em;\n",
       "  padding-left: 1em;\n",
       "}\n",
       "\n",
       "\n",
       "/* Toggleable style: style used for estimator/Pipeline/ColumnTransformer box that is\n",
       "clickable and can be expanded/collapsed.\n",
       "- Pipeline and ColumnTransformer use this feature and define the default style\n",
       "- Estimators will overwrite some part of the style using the `sk-estimator` class\n",
       "*/\n",
       "\n",
       "/* Pipeline and ColumnTransformer style (default) */\n",
       "\n",
       "#sk-container-id-1 div.sk-toggleable {\n",
       "  /* Default theme specific background. It is overwritten whether we have a\n",
       "  specific estimator or a Pipeline/ColumnTransformer */\n",
       "  background-color: var(--sklearn-color-background);\n",
       "}\n",
       "\n",
       "/* Toggleable label */\n",
       "#sk-container-id-1 label.sk-toggleable__label {\n",
       "  cursor: pointer;\n",
       "  display: flex;\n",
       "  width: 100%;\n",
       "  margin-bottom: 0;\n",
       "  padding: 0.5em;\n",
       "  box-sizing: border-box;\n",
       "  text-align: center;\n",
       "  align-items: start;\n",
       "  justify-content: space-between;\n",
       "  gap: 0.5em;\n",
       "}\n",
       "\n",
       "#sk-container-id-1 label.sk-toggleable__label .caption {\n",
       "  font-size: 0.6rem;\n",
       "  font-weight: lighter;\n",
       "  color: var(--sklearn-color-text-muted);\n",
       "}\n",
       "\n",
       "#sk-container-id-1 label.sk-toggleable__label-arrow:before {\n",
       "  /* Arrow on the left of the label */\n",
       "  content: \"▸\";\n",
       "  float: left;\n",
       "  margin-right: 0.25em;\n",
       "  color: var(--sklearn-color-icon);\n",
       "}\n",
       "\n",
       "#sk-container-id-1 label.sk-toggleable__label-arrow:hover:before {\n",
       "  color: var(--sklearn-color-text);\n",
       "}\n",
       "\n",
       "/* Toggleable content - dropdown */\n",
       "\n",
       "#sk-container-id-1 div.sk-toggleable__content {\n",
       "  display: none;\n",
       "  text-align: left;\n",
       "  /* unfitted */\n",
       "  background-color: var(--sklearn-color-unfitted-level-0);\n",
       "}\n",
       "\n",
       "#sk-container-id-1 div.sk-toggleable__content.fitted {\n",
       "  /* fitted */\n",
       "  background-color: var(--sklearn-color-fitted-level-0);\n",
       "}\n",
       "\n",
       "#sk-container-id-1 div.sk-toggleable__content pre {\n",
       "  margin: 0.2em;\n",
       "  border-radius: 0.25em;\n",
       "  color: var(--sklearn-color-text);\n",
       "  /* unfitted */\n",
       "  background-color: var(--sklearn-color-unfitted-level-0);\n",
       "}\n",
       "\n",
       "#sk-container-id-1 div.sk-toggleable__content.fitted pre {\n",
       "  /* unfitted */\n",
       "  background-color: var(--sklearn-color-fitted-level-0);\n",
       "}\n",
       "\n",
       "#sk-container-id-1 input.sk-toggleable__control:checked~div.sk-toggleable__content {\n",
       "  /* Expand drop-down */\n",
       "  display: block;\n",
       "  width: 100%;\n",
       "  overflow: visible;\n",
       "}\n",
       "\n",
       "#sk-container-id-1 input.sk-toggleable__control:checked~label.sk-toggleable__label-arrow:before {\n",
       "  content: \"▾\";\n",
       "}\n",
       "\n",
       "/* Pipeline/ColumnTransformer-specific style */\n",
       "\n",
       "#sk-container-id-1 div.sk-label input.sk-toggleable__control:checked~label.sk-toggleable__label {\n",
       "  color: var(--sklearn-color-text);\n",
       "  background-color: var(--sklearn-color-unfitted-level-2);\n",
       "}\n",
       "\n",
       "#sk-container-id-1 div.sk-label.fitted input.sk-toggleable__control:checked~label.sk-toggleable__label {\n",
       "  background-color: var(--sklearn-color-fitted-level-2);\n",
       "}\n",
       "\n",
       "/* Estimator-specific style */\n",
       "\n",
       "/* Colorize estimator box */\n",
       "#sk-container-id-1 div.sk-estimator input.sk-toggleable__control:checked~label.sk-toggleable__label {\n",
       "  /* unfitted */\n",
       "  background-color: var(--sklearn-color-unfitted-level-2);\n",
       "}\n",
       "\n",
       "#sk-container-id-1 div.sk-estimator.fitted input.sk-toggleable__control:checked~label.sk-toggleable__label {\n",
       "  /* fitted */\n",
       "  background-color: var(--sklearn-color-fitted-level-2);\n",
       "}\n",
       "\n",
       "#sk-container-id-1 div.sk-label label.sk-toggleable__label,\n",
       "#sk-container-id-1 div.sk-label label {\n",
       "  /* The background is the default theme color */\n",
       "  color: var(--sklearn-color-text-on-default-background);\n",
       "}\n",
       "\n",
       "/* On hover, darken the color of the background */\n",
       "#sk-container-id-1 div.sk-label:hover label.sk-toggleable__label {\n",
       "  color: var(--sklearn-color-text);\n",
       "  background-color: var(--sklearn-color-unfitted-level-2);\n",
       "}\n",
       "\n",
       "/* Label box, darken color on hover, fitted */\n",
       "#sk-container-id-1 div.sk-label.fitted:hover label.sk-toggleable__label.fitted {\n",
       "  color: var(--sklearn-color-text);\n",
       "  background-color: var(--sklearn-color-fitted-level-2);\n",
       "}\n",
       "\n",
       "/* Estimator label */\n",
       "\n",
       "#sk-container-id-1 div.sk-label label {\n",
       "  font-family: monospace;\n",
       "  font-weight: bold;\n",
       "  display: inline-block;\n",
       "  line-height: 1.2em;\n",
       "}\n",
       "\n",
       "#sk-container-id-1 div.sk-label-container {\n",
       "  text-align: center;\n",
       "}\n",
       "\n",
       "/* Estimator-specific */\n",
       "#sk-container-id-1 div.sk-estimator {\n",
       "  font-family: monospace;\n",
       "  border: 1px dotted var(--sklearn-color-border-box);\n",
       "  border-radius: 0.25em;\n",
       "  box-sizing: border-box;\n",
       "  margin-bottom: 0.5em;\n",
       "  /* unfitted */\n",
       "  background-color: var(--sklearn-color-unfitted-level-0);\n",
       "}\n",
       "\n",
       "#sk-container-id-1 div.sk-estimator.fitted {\n",
       "  /* fitted */\n",
       "  background-color: var(--sklearn-color-fitted-level-0);\n",
       "}\n",
       "\n",
       "/* on hover */\n",
       "#sk-container-id-1 div.sk-estimator:hover {\n",
       "  /* unfitted */\n",
       "  background-color: var(--sklearn-color-unfitted-level-2);\n",
       "}\n",
       "\n",
       "#sk-container-id-1 div.sk-estimator.fitted:hover {\n",
       "  /* fitted */\n",
       "  background-color: var(--sklearn-color-fitted-level-2);\n",
       "}\n",
       "\n",
       "/* Specification for estimator info (e.g. \"i\" and \"?\") */\n",
       "\n",
       "/* Common style for \"i\" and \"?\" */\n",
       "\n",
       ".sk-estimator-doc-link,\n",
       "a:link.sk-estimator-doc-link,\n",
       "a:visited.sk-estimator-doc-link {\n",
       "  float: right;\n",
       "  font-size: smaller;\n",
       "  line-height: 1em;\n",
       "  font-family: monospace;\n",
       "  background-color: var(--sklearn-color-background);\n",
       "  border-radius: 1em;\n",
       "  height: 1em;\n",
       "  width: 1em;\n",
       "  text-decoration: none !important;\n",
       "  margin-left: 0.5em;\n",
       "  text-align: center;\n",
       "  /* unfitted */\n",
       "  border: var(--sklearn-color-unfitted-level-1) 1pt solid;\n",
       "  color: var(--sklearn-color-unfitted-level-1);\n",
       "}\n",
       "\n",
       ".sk-estimator-doc-link.fitted,\n",
       "a:link.sk-estimator-doc-link.fitted,\n",
       "a:visited.sk-estimator-doc-link.fitted {\n",
       "  /* fitted */\n",
       "  border: var(--sklearn-color-fitted-level-1) 1pt solid;\n",
       "  color: var(--sklearn-color-fitted-level-1);\n",
       "}\n",
       "\n",
       "/* On hover */\n",
       "div.sk-estimator:hover .sk-estimator-doc-link:hover,\n",
       ".sk-estimator-doc-link:hover,\n",
       "div.sk-label-container:hover .sk-estimator-doc-link:hover,\n",
       ".sk-estimator-doc-link:hover {\n",
       "  /* unfitted */\n",
       "  background-color: var(--sklearn-color-unfitted-level-3);\n",
       "  color: var(--sklearn-color-background);\n",
       "  text-decoration: none;\n",
       "}\n",
       "\n",
       "div.sk-estimator.fitted:hover .sk-estimator-doc-link.fitted:hover,\n",
       ".sk-estimator-doc-link.fitted:hover,\n",
       "div.sk-label-container:hover .sk-estimator-doc-link.fitted:hover,\n",
       ".sk-estimator-doc-link.fitted:hover {\n",
       "  /* fitted */\n",
       "  background-color: var(--sklearn-color-fitted-level-3);\n",
       "  color: var(--sklearn-color-background);\n",
       "  text-decoration: none;\n",
       "}\n",
       "\n",
       "/* Span, style for the box shown on hovering the info icon */\n",
       ".sk-estimator-doc-link span {\n",
       "  display: none;\n",
       "  z-index: 9999;\n",
       "  position: relative;\n",
       "  font-weight: normal;\n",
       "  right: .2ex;\n",
       "  padding: .5ex;\n",
       "  margin: .5ex;\n",
       "  width: min-content;\n",
       "  min-width: 20ex;\n",
       "  max-width: 50ex;\n",
       "  color: var(--sklearn-color-text);\n",
       "  box-shadow: 2pt 2pt 4pt #999;\n",
       "  /* unfitted */\n",
       "  background: var(--sklearn-color-unfitted-level-0);\n",
       "  border: .5pt solid var(--sklearn-color-unfitted-level-3);\n",
       "}\n",
       "\n",
       ".sk-estimator-doc-link.fitted span {\n",
       "  /* fitted */\n",
       "  background: var(--sklearn-color-fitted-level-0);\n",
       "  border: var(--sklearn-color-fitted-level-3);\n",
       "}\n",
       "\n",
       ".sk-estimator-doc-link:hover span {\n",
       "  display: block;\n",
       "}\n",
       "\n",
       "/* \"?\"-specific style due to the `<a>` HTML tag */\n",
       "\n",
       "#sk-container-id-1 a.estimator_doc_link {\n",
       "  float: right;\n",
       "  font-size: 1rem;\n",
       "  line-height: 1em;\n",
       "  font-family: monospace;\n",
       "  background-color: var(--sklearn-color-background);\n",
       "  border-radius: 1rem;\n",
       "  height: 1rem;\n",
       "  width: 1rem;\n",
       "  text-decoration: none;\n",
       "  /* unfitted */\n",
       "  color: var(--sklearn-color-unfitted-level-1);\n",
       "  border: var(--sklearn-color-unfitted-level-1) 1pt solid;\n",
       "}\n",
       "\n",
       "#sk-container-id-1 a.estimator_doc_link.fitted {\n",
       "  /* fitted */\n",
       "  border: var(--sklearn-color-fitted-level-1) 1pt solid;\n",
       "  color: var(--sklearn-color-fitted-level-1);\n",
       "}\n",
       "\n",
       "/* On hover */\n",
       "#sk-container-id-1 a.estimator_doc_link:hover {\n",
       "  /* unfitted */\n",
       "  background-color: var(--sklearn-color-unfitted-level-3);\n",
       "  color: var(--sklearn-color-background);\n",
       "  text-decoration: none;\n",
       "}\n",
       "\n",
       "#sk-container-id-1 a.estimator_doc_link.fitted:hover {\n",
       "  /* fitted */\n",
       "  background-color: var(--sklearn-color-fitted-level-3);\n",
       "}\n",
       "\n",
       ".estimator-table summary {\n",
       "    padding: .5rem;\n",
       "    font-family: monospace;\n",
       "    cursor: pointer;\n",
       "}\n",
       "\n",
       ".estimator-table details[open] {\n",
       "    padding-left: 0.1rem;\n",
       "    padding-right: 0.1rem;\n",
       "    padding-bottom: 0.3rem;\n",
       "}\n",
       "\n",
       ".estimator-table .parameters-table {\n",
       "    margin-left: auto !important;\n",
       "    margin-right: auto !important;\n",
       "}\n",
       "\n",
       ".estimator-table .parameters-table tr:nth-child(odd) {\n",
       "    background-color: #fff;\n",
       "}\n",
       "\n",
       ".estimator-table .parameters-table tr:nth-child(even) {\n",
       "    background-color: #f6f6f6;\n",
       "}\n",
       "\n",
       ".estimator-table .parameters-table tr:hover {\n",
       "    background-color: #e0e0e0;\n",
       "}\n",
       "\n",
       ".estimator-table table td {\n",
       "    border: 1px solid rgba(106, 105, 104, 0.232);\n",
       "}\n",
       "\n",
       ".user-set td {\n",
       "    color:rgb(255, 94, 0);\n",
       "    text-align: left;\n",
       "}\n",
       "\n",
       ".user-set td.value pre {\n",
       "    color:rgb(255, 94, 0) !important;\n",
       "    background-color: transparent !important;\n",
       "}\n",
       "\n",
       ".default td {\n",
       "    color: black;\n",
       "    text-align: left;\n",
       "}\n",
       "\n",
       ".user-set td i,\n",
       ".default td i {\n",
       "    color: black;\n",
       "}\n",
       "\n",
       ".copy-paste-icon {\n",
       "    background-image: url(data:image/svg+xml;base64,PHN2ZyB4bWxucz0iaHR0cDovL3d3dy53My5vcmcvMjAwMC9zdmciIHZpZXdCb3g9IjAgMCA0NDggNTEyIj48IS0tIUZvbnQgQXdlc29tZSBGcmVlIDYuNy4yIGJ5IEBmb250YXdlc29tZSAtIGh0dHBzOi8vZm9udGF3ZXNvbWUuY29tIExpY2Vuc2UgLSBodHRwczovL2ZvbnRhd2Vzb21lLmNvbS9saWNlbnNlL2ZyZWUgQ29weXJpZ2h0IDIwMjUgRm9udGljb25zLCBJbmMuLS0+PHBhdGggZD0iTTIwOCAwTDMzMi4xIDBjMTIuNyAwIDI0LjkgNS4xIDMzLjkgMTQuMWw2Ny45IDY3LjljOSA5IDE0LjEgMjEuMiAxNC4xIDMzLjlMNDQ4IDMzNmMwIDI2LjUtMjEuNSA0OC00OCA0OGwtMTkyIDBjLTI2LjUgMC00OC0yMS41LTQ4LTQ4bDAtMjg4YzAtMjYuNSAyMS41LTQ4IDQ4LTQ4ek00OCAxMjhsODAgMCAwIDY0LTY0IDAgMCAyNTYgMTkyIDAgMC0zMiA2NCAwIDAgNDhjMCAyNi41LTIxLjUgNDgtNDggNDhMNDggNTEyYy0yNi41IDAtNDgtMjEuNS00OC00OEwwIDE3NmMwLTI2LjUgMjEuNS00OCA0OC00OHoiLz48L3N2Zz4=);\n",
       "    background-repeat: no-repeat;\n",
       "    background-size: 14px 14px;\n",
       "    background-position: 0;\n",
       "    display: inline-block;\n",
       "    width: 14px;\n",
       "    height: 14px;\n",
       "    cursor: pointer;\n",
       "}\n",
       "</style><body><div id=\"sk-container-id-1\" class=\"sk-top-container\"><div class=\"sk-text-repr-fallback\"><pre>ColumnTransformer(transformers=[(&#x27;pipe_num&#x27;,\n",
       "                                 Pipeline(steps=[(&#x27;scaler&#x27;, StandardScaler())]),\n",
       "                                 [&#x27;customer_care_calls&#x27;, &#x27;prior_purchases&#x27;,\n",
       "                                  &#x27;discount_offered&#x27;, &#x27;cost_of_the_product&#x27;,\n",
       "                                  &#x27;weight_in_gms&#x27;]),\n",
       "                                (&#x27;pipe_cat_ord&#x27;,\n",
       "                                 Pipeline(steps=[(&#x27;Ordinal encoder&#x27;,\n",
       "                                                  OrdinalEncoder(categories=[[&#x27;low&#x27;,\n",
       "                                                                              &#x27;medium&#x27;,\n",
       "                                                                              &#x27;high&#x27;]]))]),\n",
       "                                 [&#x27;product_importance&#x27;])])</pre><b>In a Jupyter environment, please rerun this cell to show the HTML representation or trust the notebook. <br />On GitHub, the HTML representation is unable to render, please try loading this page with nbviewer.org.</b></div><div class=\"sk-container\" hidden><div class=\"sk-item sk-dashed-wrapped\"><div class=\"sk-label-container\"><div class=\"sk-label  sk-toggleable\"><input class=\"sk-toggleable__control sk-hidden--visually\" id=\"sk-estimator-id-1\" type=\"checkbox\" ><label for=\"sk-estimator-id-1\" class=\"sk-toggleable__label  sk-toggleable__label-arrow\"><div><div>ColumnTransformer</div></div><div><a class=\"sk-estimator-doc-link \" rel=\"noreferrer\" target=\"_blank\" href=\"https://scikit-learn.org/1.7/modules/generated/sklearn.compose.ColumnTransformer.html\">?<span>Documentation for ColumnTransformer</span></a><span class=\"sk-estimator-doc-link \">i<span>Not fitted</span></span></div></label><div class=\"sk-toggleable__content \" data-param-prefix=\"\">\n",
       "        <div class=\"estimator-table\">\n",
       "            <details>\n",
       "                <summary>Parameters</summary>\n",
       "                <table class=\"parameters-table\">\n",
       "                  <tbody>\n",
       "                    \n",
       "        <tr class=\"user-set\">\n",
       "            <td><i class=\"copy-paste-icon\"\n",
       "                 onclick=\"copyToClipboard('transformers',\n",
       "                          this.parentElement.nextElementSibling)\"\n",
       "            ></i></td>\n",
       "            <td class=\"param\">transformers&nbsp;</td>\n",
       "            <td class=\"value\">[(&#x27;pipe_num&#x27;, ...), (&#x27;pipe_cat_ord&#x27;, ...)]</td>\n",
       "        </tr>\n",
       "    \n",
       "\n",
       "        <tr class=\"default\">\n",
       "            <td><i class=\"copy-paste-icon\"\n",
       "                 onclick=\"copyToClipboard('remainder',\n",
       "                          this.parentElement.nextElementSibling)\"\n",
       "            ></i></td>\n",
       "            <td class=\"param\">remainder&nbsp;</td>\n",
       "            <td class=\"value\">&#x27;drop&#x27;</td>\n",
       "        </tr>\n",
       "    \n",
       "\n",
       "        <tr class=\"default\">\n",
       "            <td><i class=\"copy-paste-icon\"\n",
       "                 onclick=\"copyToClipboard('sparse_threshold',\n",
       "                          this.parentElement.nextElementSibling)\"\n",
       "            ></i></td>\n",
       "            <td class=\"param\">sparse_threshold&nbsp;</td>\n",
       "            <td class=\"value\">0.3</td>\n",
       "        </tr>\n",
       "    \n",
       "\n",
       "        <tr class=\"default\">\n",
       "            <td><i class=\"copy-paste-icon\"\n",
       "                 onclick=\"copyToClipboard('n_jobs',\n",
       "                          this.parentElement.nextElementSibling)\"\n",
       "            ></i></td>\n",
       "            <td class=\"param\">n_jobs&nbsp;</td>\n",
       "            <td class=\"value\">None</td>\n",
       "        </tr>\n",
       "    \n",
       "\n",
       "        <tr class=\"default\">\n",
       "            <td><i class=\"copy-paste-icon\"\n",
       "                 onclick=\"copyToClipboard('transformer_weights',\n",
       "                          this.parentElement.nextElementSibling)\"\n",
       "            ></i></td>\n",
       "            <td class=\"param\">transformer_weights&nbsp;</td>\n",
       "            <td class=\"value\">None</td>\n",
       "        </tr>\n",
       "    \n",
       "\n",
       "        <tr class=\"default\">\n",
       "            <td><i class=\"copy-paste-icon\"\n",
       "                 onclick=\"copyToClipboard('verbose',\n",
       "                          this.parentElement.nextElementSibling)\"\n",
       "            ></i></td>\n",
       "            <td class=\"param\">verbose&nbsp;</td>\n",
       "            <td class=\"value\">False</td>\n",
       "        </tr>\n",
       "    \n",
       "\n",
       "        <tr class=\"default\">\n",
       "            <td><i class=\"copy-paste-icon\"\n",
       "                 onclick=\"copyToClipboard('verbose_feature_names_out',\n",
       "                          this.parentElement.nextElementSibling)\"\n",
       "            ></i></td>\n",
       "            <td class=\"param\">verbose_feature_names_out&nbsp;</td>\n",
       "            <td class=\"value\">True</td>\n",
       "        </tr>\n",
       "    \n",
       "\n",
       "        <tr class=\"default\">\n",
       "            <td><i class=\"copy-paste-icon\"\n",
       "                 onclick=\"copyToClipboard('force_int_remainder_cols',\n",
       "                          this.parentElement.nextElementSibling)\"\n",
       "            ></i></td>\n",
       "            <td class=\"param\">force_int_remainder_cols&nbsp;</td>\n",
       "            <td class=\"value\">&#x27;deprecated&#x27;</td>\n",
       "        </tr>\n",
       "    \n",
       "                  </tbody>\n",
       "                </table>\n",
       "            </details>\n",
       "        </div>\n",
       "    </div></div></div><div class=\"sk-parallel\"><div class=\"sk-parallel-item\"><div class=\"sk-item\"><div class=\"sk-label-container\"><div class=\"sk-label  sk-toggleable\"><input class=\"sk-toggleable__control sk-hidden--visually\" id=\"sk-estimator-id-2\" type=\"checkbox\" ><label for=\"sk-estimator-id-2\" class=\"sk-toggleable__label  sk-toggleable__label-arrow\"><div><div>pipe_num</div></div></label><div class=\"sk-toggleable__content \" data-param-prefix=\"pipe_num__\"><pre>[&#x27;customer_care_calls&#x27;, &#x27;prior_purchases&#x27;, &#x27;discount_offered&#x27;, &#x27;cost_of_the_product&#x27;, &#x27;weight_in_gms&#x27;]</pre></div></div></div><div class=\"sk-serial\"><div class=\"sk-item\"><div class=\"sk-serial\"><div class=\"sk-item\"><div class=\"sk-estimator  sk-toggleable\"><input class=\"sk-toggleable__control sk-hidden--visually\" id=\"sk-estimator-id-3\" type=\"checkbox\" ><label for=\"sk-estimator-id-3\" class=\"sk-toggleable__label  sk-toggleable__label-arrow\"><div><div>StandardScaler</div></div><div><a class=\"sk-estimator-doc-link \" rel=\"noreferrer\" target=\"_blank\" href=\"https://scikit-learn.org/1.7/modules/generated/sklearn.preprocessing.StandardScaler.html\">?<span>Documentation for StandardScaler</span></a></div></label><div class=\"sk-toggleable__content \" data-param-prefix=\"pipe_num__scaler__\">\n",
       "        <div class=\"estimator-table\">\n",
       "            <details>\n",
       "                <summary>Parameters</summary>\n",
       "                <table class=\"parameters-table\">\n",
       "                  <tbody>\n",
       "                    \n",
       "        <tr class=\"default\">\n",
       "            <td><i class=\"copy-paste-icon\"\n",
       "                 onclick=\"copyToClipboard('copy',\n",
       "                          this.parentElement.nextElementSibling)\"\n",
       "            ></i></td>\n",
       "            <td class=\"param\">copy&nbsp;</td>\n",
       "            <td class=\"value\">True</td>\n",
       "        </tr>\n",
       "    \n",
       "\n",
       "        <tr class=\"default\">\n",
       "            <td><i class=\"copy-paste-icon\"\n",
       "                 onclick=\"copyToClipboard('with_mean',\n",
       "                          this.parentElement.nextElementSibling)\"\n",
       "            ></i></td>\n",
       "            <td class=\"param\">with_mean&nbsp;</td>\n",
       "            <td class=\"value\">True</td>\n",
       "        </tr>\n",
       "    \n",
       "\n",
       "        <tr class=\"default\">\n",
       "            <td><i class=\"copy-paste-icon\"\n",
       "                 onclick=\"copyToClipboard('with_std',\n",
       "                          this.parentElement.nextElementSibling)\"\n",
       "            ></i></td>\n",
       "            <td class=\"param\">with_std&nbsp;</td>\n",
       "            <td class=\"value\">True</td>\n",
       "        </tr>\n",
       "    \n",
       "                  </tbody>\n",
       "                </table>\n",
       "            </details>\n",
       "        </div>\n",
       "    </div></div></div></div></div></div></div></div><div class=\"sk-parallel-item\"><div class=\"sk-item\"><div class=\"sk-label-container\"><div class=\"sk-label  sk-toggleable\"><input class=\"sk-toggleable__control sk-hidden--visually\" id=\"sk-estimator-id-4\" type=\"checkbox\" ><label for=\"sk-estimator-id-4\" class=\"sk-toggleable__label  sk-toggleable__label-arrow\"><div><div>pipe_cat_ord</div></div></label><div class=\"sk-toggleable__content \" data-param-prefix=\"pipe_cat_ord__\"><pre>[&#x27;product_importance&#x27;]</pre></div></div></div><div class=\"sk-serial\"><div class=\"sk-item\"><div class=\"sk-serial\"><div class=\"sk-item\"><div class=\"sk-estimator  sk-toggleable\"><input class=\"sk-toggleable__control sk-hidden--visually\" id=\"sk-estimator-id-5\" type=\"checkbox\" ><label for=\"sk-estimator-id-5\" class=\"sk-toggleable__label  sk-toggleable__label-arrow\"><div><div>OrdinalEncoder</div></div><div><a class=\"sk-estimator-doc-link \" rel=\"noreferrer\" target=\"_blank\" href=\"https://scikit-learn.org/1.7/modules/generated/sklearn.preprocessing.OrdinalEncoder.html\">?<span>Documentation for OrdinalEncoder</span></a></div></label><div class=\"sk-toggleable__content \" data-param-prefix=\"pipe_cat_ord__Ordinal encoder__\">\n",
       "        <div class=\"estimator-table\">\n",
       "            <details>\n",
       "                <summary>Parameters</summary>\n",
       "                <table class=\"parameters-table\">\n",
       "                  <tbody>\n",
       "                    \n",
       "        <tr class=\"user-set\">\n",
       "            <td><i class=\"copy-paste-icon\"\n",
       "                 onclick=\"copyToClipboard('categories',\n",
       "                          this.parentElement.nextElementSibling)\"\n",
       "            ></i></td>\n",
       "            <td class=\"param\">categories&nbsp;</td>\n",
       "            <td class=\"value\">[[&#x27;low&#x27;, &#x27;medium&#x27;, ...]]</td>\n",
       "        </tr>\n",
       "    \n",
       "\n",
       "        <tr class=\"default\">\n",
       "            <td><i class=\"copy-paste-icon\"\n",
       "                 onclick=\"copyToClipboard('dtype',\n",
       "                          this.parentElement.nextElementSibling)\"\n",
       "            ></i></td>\n",
       "            <td class=\"param\">dtype&nbsp;</td>\n",
       "            <td class=\"value\">&lt;class &#x27;numpy.float64&#x27;&gt;</td>\n",
       "        </tr>\n",
       "    \n",
       "\n",
       "        <tr class=\"default\">\n",
       "            <td><i class=\"copy-paste-icon\"\n",
       "                 onclick=\"copyToClipboard('handle_unknown',\n",
       "                          this.parentElement.nextElementSibling)\"\n",
       "            ></i></td>\n",
       "            <td class=\"param\">handle_unknown&nbsp;</td>\n",
       "            <td class=\"value\">&#x27;error&#x27;</td>\n",
       "        </tr>\n",
       "    \n",
       "\n",
       "        <tr class=\"default\">\n",
       "            <td><i class=\"copy-paste-icon\"\n",
       "                 onclick=\"copyToClipboard('unknown_value',\n",
       "                          this.parentElement.nextElementSibling)\"\n",
       "            ></i></td>\n",
       "            <td class=\"param\">unknown_value&nbsp;</td>\n",
       "            <td class=\"value\">None</td>\n",
       "        </tr>\n",
       "    \n",
       "\n",
       "        <tr class=\"default\">\n",
       "            <td><i class=\"copy-paste-icon\"\n",
       "                 onclick=\"copyToClipboard('encoded_missing_value',\n",
       "                          this.parentElement.nextElementSibling)\"\n",
       "            ></i></td>\n",
       "            <td class=\"param\">encoded_missing_value&nbsp;</td>\n",
       "            <td class=\"value\">nan</td>\n",
       "        </tr>\n",
       "    \n",
       "\n",
       "        <tr class=\"default\">\n",
       "            <td><i class=\"copy-paste-icon\"\n",
       "                 onclick=\"copyToClipboard('min_frequency',\n",
       "                          this.parentElement.nextElementSibling)\"\n",
       "            ></i></td>\n",
       "            <td class=\"param\">min_frequency&nbsp;</td>\n",
       "            <td class=\"value\">None</td>\n",
       "        </tr>\n",
       "    \n",
       "\n",
       "        <tr class=\"default\">\n",
       "            <td><i class=\"copy-paste-icon\"\n",
       "                 onclick=\"copyToClipboard('max_categories',\n",
       "                          this.parentElement.nextElementSibling)\"\n",
       "            ></i></td>\n",
       "            <td class=\"param\">max_categories&nbsp;</td>\n",
       "            <td class=\"value\">None</td>\n",
       "        </tr>\n",
       "    \n",
       "                  </tbody>\n",
       "                </table>\n",
       "            </details>\n",
       "        </div>\n",
       "    </div></div></div></div></div></div></div></div></div></div></div></div><script>function copyToClipboard(text, element) {\n",
       "    // Get the parameter prefix from the closest toggleable content\n",
       "    const toggleableContent = element.closest('.sk-toggleable__content');\n",
       "    const paramPrefix = toggleableContent ? toggleableContent.dataset.paramPrefix : '';\n",
       "    const fullParamName = paramPrefix ? `${paramPrefix}${text}` : text;\n",
       "\n",
       "    const originalStyle = element.style;\n",
       "    const computedStyle = window.getComputedStyle(element);\n",
       "    const originalWidth = computedStyle.width;\n",
       "    const originalHTML = element.innerHTML.replace('Copied!', '');\n",
       "\n",
       "    navigator.clipboard.writeText(fullParamName)\n",
       "        .then(() => {\n",
       "            element.style.width = originalWidth;\n",
       "            element.style.color = 'green';\n",
       "            element.innerHTML = \"Copied!\";\n",
       "\n",
       "            setTimeout(() => {\n",
       "                element.innerHTML = originalHTML;\n",
       "                element.style = originalStyle;\n",
       "            }, 2000);\n",
       "        })\n",
       "        .catch(err => {\n",
       "            console.error('Failed to copy:', err);\n",
       "            element.style.color = 'red';\n",
       "            element.innerHTML = \"Failed!\";\n",
       "            setTimeout(() => {\n",
       "                element.innerHTML = originalHTML;\n",
       "                element.style = originalStyle;\n",
       "            }, 2000);\n",
       "        });\n",
       "    return false;\n",
       "}\n",
       "\n",
       "document.querySelectorAll('.fa-regular.fa-copy').forEach(function(element) {\n",
       "    const toggleableContent = element.closest('.sk-toggleable__content');\n",
       "    const paramPrefix = toggleableContent ? toggleableContent.dataset.paramPrefix : '';\n",
       "    const paramName = element.parentElement.nextElementSibling.textContent.trim();\n",
       "    const fullParamName = paramPrefix ? `${paramPrefix}${paramName}` : paramName;\n",
       "\n",
       "    element.setAttribute('title', fullParamName);\n",
       "});\n",
       "</script></body>"
      ],
      "text/plain": [
       "ColumnTransformer(transformers=[('pipe_num',\n",
       "                                 Pipeline(steps=[('scaler', StandardScaler())]),\n",
       "                                 ['customer_care_calls', 'prior_purchases',\n",
       "                                  'discount_offered', 'cost_of_the_product',\n",
       "                                  'weight_in_gms']),\n",
       "                                ('pipe_cat_ord',\n",
       "                                 Pipeline(steps=[('Ordinal encoder',\n",
       "                                                  OrdinalEncoder(categories=[['low',\n",
       "                                                                              'medium',\n",
       "                                                                              'high']]))]),\n",
       "                                 ['product_importance'])])"
      ]
     },
     "execution_count": 40,
     "metadata": {},
     "output_type": "execute_result"
    }
   ],
   "source": [
    "# pipeline numerical data\n",
    "num_pipeline = Pipeline([\n",
    "    ('scaler', StandardScaler())\n",
    "])\n",
    "\n",
    "cat_ord_pipeline = Pipeline([\n",
    "    ('Ordinal encoder', OrdinalEncoder(categories=[['low', 'medium', 'high']]))\n",
    "\n",
    "])\n",
    "\n",
    "preprocessing = ColumnTransformer([\n",
    "    ('pipe_num', num_pipeline, num_columns),\n",
    "    ('pipe_cat_ord', cat_ord_pipeline, ord_cat_columns)\n",
    "])\n",
    "\n",
    "preprocessing"
   ]
  },
  {
   "cell_type": "markdown",
   "metadata": {},
   "source": [
    "Model Definition\n",
    "==="
   ]
  },
  {
   "cell_type": "markdown",
   "metadata": {},
   "source": [
    "1 = Delayed (positive class)\n",
    "\n",
    "0 = On-time (negative class)"
   ]
  },
  {
   "cell_type": "markdown",
   "metadata": {},
   "source": [
    "## Sequential Model"
   ]
  },
  {
   "cell_type": "code",
   "execution_count": 41,
   "metadata": {},
   "outputs": [
    {
     "data": {
      "text/html": [
       "<pre style=\"white-space:pre;overflow-x:auto;line-height:normal;font-family:Menlo,'DejaVu Sans Mono',consolas,'Courier New',monospace\"><span style=\"font-weight: bold\">Model: \"sequential\"</span>\n",
       "</pre>\n"
      ],
      "text/plain": [
       "\u001b[1mModel: \"sequential\"\u001b[0m\n"
      ]
     },
     "metadata": {},
     "output_type": "display_data"
    },
    {
     "data": {
      "text/html": [
       "<pre style=\"white-space:pre;overflow-x:auto;line-height:normal;font-family:Menlo,'DejaVu Sans Mono',consolas,'Courier New',monospace\">┏━━━━━━━━━━━━━━━━━━━━━━━━━━━━━━━━━┳━━━━━━━━━━━━━━━━━━━━━━━━┳━━━━━━━━━━━━━━━┓\n",
       "┃<span style=\"font-weight: bold\"> Layer (type)                    </span>┃<span style=\"font-weight: bold\"> Output Shape           </span>┃<span style=\"font-weight: bold\">       Param # </span>┃\n",
       "┡━━━━━━━━━━━━━━━━━━━━━━━━━━━━━━━━━╇━━━━━━━━━━━━━━━━━━━━━━━━╇━━━━━━━━━━━━━━━┩\n",
       "│ dense (<span style=\"color: #0087ff; text-decoration-color: #0087ff\">Dense</span>)                   │ (<span style=\"color: #00d7ff; text-decoration-color: #00d7ff\">None</span>, <span style=\"color: #00af00; text-decoration-color: #00af00\">128</span>)            │           <span style=\"color: #00af00; text-decoration-color: #00af00\">896</span> │\n",
       "├─────────────────────────────────┼────────────────────────┼───────────────┤\n",
       "│ batch_normalization             │ (<span style=\"color: #00d7ff; text-decoration-color: #00d7ff\">None</span>, <span style=\"color: #00af00; text-decoration-color: #00af00\">128</span>)            │           <span style=\"color: #00af00; text-decoration-color: #00af00\">512</span> │\n",
       "│ (<span style=\"color: #0087ff; text-decoration-color: #0087ff\">BatchNormalization</span>)            │                        │               │\n",
       "├─────────────────────────────────┼────────────────────────┼───────────────┤\n",
       "│ dense_1 (<span style=\"color: #0087ff; text-decoration-color: #0087ff\">Dense</span>)                 │ (<span style=\"color: #00d7ff; text-decoration-color: #00d7ff\">None</span>, <span style=\"color: #00af00; text-decoration-color: #00af00\">64</span>)             │         <span style=\"color: #00af00; text-decoration-color: #00af00\">8,256</span> │\n",
       "├─────────────────────────────────┼────────────────────────┼───────────────┤\n",
       "│ batch_normalization_1           │ (<span style=\"color: #00d7ff; text-decoration-color: #00d7ff\">None</span>, <span style=\"color: #00af00; text-decoration-color: #00af00\">64</span>)             │           <span style=\"color: #00af00; text-decoration-color: #00af00\">256</span> │\n",
       "│ (<span style=\"color: #0087ff; text-decoration-color: #0087ff\">BatchNormalization</span>)            │                        │               │\n",
       "├─────────────────────────────────┼────────────────────────┼───────────────┤\n",
       "│ dense_2 (<span style=\"color: #0087ff; text-decoration-color: #0087ff\">Dense</span>)                 │ (<span style=\"color: #00d7ff; text-decoration-color: #00d7ff\">None</span>, <span style=\"color: #00af00; text-decoration-color: #00af00\">64</span>)             │         <span style=\"color: #00af00; text-decoration-color: #00af00\">4,160</span> │\n",
       "├─────────────────────────────────┼────────────────────────┼───────────────┤\n",
       "│ batch_normalization_2           │ (<span style=\"color: #00d7ff; text-decoration-color: #00d7ff\">None</span>, <span style=\"color: #00af00; text-decoration-color: #00af00\">64</span>)             │           <span style=\"color: #00af00; text-decoration-color: #00af00\">256</span> │\n",
       "│ (<span style=\"color: #0087ff; text-decoration-color: #0087ff\">BatchNormalization</span>)            │                        │               │\n",
       "├─────────────────────────────────┼────────────────────────┼───────────────┤\n",
       "│ dense_3 (<span style=\"color: #0087ff; text-decoration-color: #0087ff\">Dense</span>)                 │ (<span style=\"color: #00d7ff; text-decoration-color: #00d7ff\">None</span>, <span style=\"color: #00af00; text-decoration-color: #00af00\">32</span>)             │         <span style=\"color: #00af00; text-decoration-color: #00af00\">2,080</span> │\n",
       "├─────────────────────────────────┼────────────────────────┼───────────────┤\n",
       "│ batch_normalization_3           │ (<span style=\"color: #00d7ff; text-decoration-color: #00d7ff\">None</span>, <span style=\"color: #00af00; text-decoration-color: #00af00\">32</span>)             │           <span style=\"color: #00af00; text-decoration-color: #00af00\">128</span> │\n",
       "│ (<span style=\"color: #0087ff; text-decoration-color: #0087ff\">BatchNormalization</span>)            │                        │               │\n",
       "├─────────────────────────────────┼────────────────────────┼───────────────┤\n",
       "│ dense_4 (<span style=\"color: #0087ff; text-decoration-color: #0087ff\">Dense</span>)                 │ (<span style=\"color: #00d7ff; text-decoration-color: #00d7ff\">None</span>, <span style=\"color: #00af00; text-decoration-color: #00af00\">1</span>)              │            <span style=\"color: #00af00; text-decoration-color: #00af00\">33</span> │\n",
       "└─────────────────────────────────┴────────────────────────┴───────────────┘\n",
       "</pre>\n"
      ],
      "text/plain": [
       "┏━━━━━━━━━━━━━━━━━━━━━━━━━━━━━━━━━┳━━━━━━━━━━━━━━━━━━━━━━━━┳━━━━━━━━━━━━━━━┓\n",
       "┃\u001b[1m \u001b[0m\u001b[1mLayer (type)                   \u001b[0m\u001b[1m \u001b[0m┃\u001b[1m \u001b[0m\u001b[1mOutput Shape          \u001b[0m\u001b[1m \u001b[0m┃\u001b[1m \u001b[0m\u001b[1m      Param #\u001b[0m\u001b[1m \u001b[0m┃\n",
       "┡━━━━━━━━━━━━━━━━━━━━━━━━━━━━━━━━━╇━━━━━━━━━━━━━━━━━━━━━━━━╇━━━━━━━━━━━━━━━┩\n",
       "│ dense (\u001b[38;5;33mDense\u001b[0m)                   │ (\u001b[38;5;45mNone\u001b[0m, \u001b[38;5;34m128\u001b[0m)            │           \u001b[38;5;34m896\u001b[0m │\n",
       "├─────────────────────────────────┼────────────────────────┼───────────────┤\n",
       "│ batch_normalization             │ (\u001b[38;5;45mNone\u001b[0m, \u001b[38;5;34m128\u001b[0m)            │           \u001b[38;5;34m512\u001b[0m │\n",
       "│ (\u001b[38;5;33mBatchNormalization\u001b[0m)            │                        │               │\n",
       "├─────────────────────────────────┼────────────────────────┼───────────────┤\n",
       "│ dense_1 (\u001b[38;5;33mDense\u001b[0m)                 │ (\u001b[38;5;45mNone\u001b[0m, \u001b[38;5;34m64\u001b[0m)             │         \u001b[38;5;34m8,256\u001b[0m │\n",
       "├─────────────────────────────────┼────────────────────────┼───────────────┤\n",
       "│ batch_normalization_1           │ (\u001b[38;5;45mNone\u001b[0m, \u001b[38;5;34m64\u001b[0m)             │           \u001b[38;5;34m256\u001b[0m │\n",
       "│ (\u001b[38;5;33mBatchNormalization\u001b[0m)            │                        │               │\n",
       "├─────────────────────────────────┼────────────────────────┼───────────────┤\n",
       "│ dense_2 (\u001b[38;5;33mDense\u001b[0m)                 │ (\u001b[38;5;45mNone\u001b[0m, \u001b[38;5;34m64\u001b[0m)             │         \u001b[38;5;34m4,160\u001b[0m │\n",
       "├─────────────────────────────────┼────────────────────────┼───────────────┤\n",
       "│ batch_normalization_2           │ (\u001b[38;5;45mNone\u001b[0m, \u001b[38;5;34m64\u001b[0m)             │           \u001b[38;5;34m256\u001b[0m │\n",
       "│ (\u001b[38;5;33mBatchNormalization\u001b[0m)            │                        │               │\n",
       "├─────────────────────────────────┼────────────────────────┼───────────────┤\n",
       "│ dense_3 (\u001b[38;5;33mDense\u001b[0m)                 │ (\u001b[38;5;45mNone\u001b[0m, \u001b[38;5;34m32\u001b[0m)             │         \u001b[38;5;34m2,080\u001b[0m │\n",
       "├─────────────────────────────────┼────────────────────────┼───────────────┤\n",
       "│ batch_normalization_3           │ (\u001b[38;5;45mNone\u001b[0m, \u001b[38;5;34m32\u001b[0m)             │           \u001b[38;5;34m128\u001b[0m │\n",
       "│ (\u001b[38;5;33mBatchNormalization\u001b[0m)            │                        │               │\n",
       "├─────────────────────────────────┼────────────────────────┼───────────────┤\n",
       "│ dense_4 (\u001b[38;5;33mDense\u001b[0m)                 │ (\u001b[38;5;45mNone\u001b[0m, \u001b[38;5;34m1\u001b[0m)              │            \u001b[38;5;34m33\u001b[0m │\n",
       "└─────────────────────────────────┴────────────────────────┴───────────────┘\n"
      ]
     },
     "metadata": {},
     "output_type": "display_data"
    },
    {
     "data": {
      "text/html": [
       "<pre style=\"white-space:pre;overflow-x:auto;line-height:normal;font-family:Menlo,'DejaVu Sans Mono',consolas,'Courier New',monospace\"><span style=\"font-weight: bold\"> Total params: </span><span style=\"color: #00af00; text-decoration-color: #00af00\">16,577</span> (64.75 KB)\n",
       "</pre>\n"
      ],
      "text/plain": [
       "\u001b[1m Total params: \u001b[0m\u001b[38;5;34m16,577\u001b[0m (64.75 KB)\n"
      ]
     },
     "metadata": {},
     "output_type": "display_data"
    },
    {
     "data": {
      "text/html": [
       "<pre style=\"white-space:pre;overflow-x:auto;line-height:normal;font-family:Menlo,'DejaVu Sans Mono',consolas,'Courier New',monospace\"><span style=\"font-weight: bold\"> Trainable params: </span><span style=\"color: #00af00; text-decoration-color: #00af00\">16,001</span> (62.50 KB)\n",
       "</pre>\n"
      ],
      "text/plain": [
       "\u001b[1m Trainable params: \u001b[0m\u001b[38;5;34m16,001\u001b[0m (62.50 KB)\n"
      ]
     },
     "metadata": {},
     "output_type": "display_data"
    },
    {
     "data": {
      "text/html": [
       "<pre style=\"white-space:pre;overflow-x:auto;line-height:normal;font-family:Menlo,'DejaVu Sans Mono',consolas,'Courier New',monospace\"><span style=\"font-weight: bold\"> Non-trainable params: </span><span style=\"color: #00af00; text-decoration-color: #00af00\">576</span> (2.25 KB)\n",
       "</pre>\n"
      ],
      "text/plain": [
       "\u001b[1m Non-trainable params: \u001b[0m\u001b[38;5;34m576\u001b[0m (2.25 KB)\n"
      ]
     },
     "metadata": {},
     "output_type": "display_data"
    }
   ],
   "source": [
    "num_features = preprocessing.fit_transform(X_train).shape[1]\n",
    "\n",
    "# create Sequential model\n",
    "model = Sequential([\n",
    "    # input layer\n",
    "    Dense(128, activation='relu', input_shape=(num_features,),\n",
    "          kernel_regularizer=regularizers.l2(0.01),\n",
    "          kernel_initializer=tf.keras.initializers.HeNormal(20)),\n",
    "    BatchNormalization(),\n",
    "#     Dropout(0.3),\n",
    "    \n",
    "    # hidden layers\n",
    "    Dense(64, activation='relu',\n",
    "          kernel_regularizer=regularizers.l2(0.01),\n",
    "          kernel_initializer=tf.keras.initializers.HeNormal(20)),\n",
    "    BatchNormalization(),\n",
    "#     Dropout(0.3),\n",
    "    \n",
    "    # hidden layers\n",
    "    Dense(64, activation='relu',\n",
    "          kernel_regularizer=regularizers.l2(0.01),\n",
    "          kernel_initializer=tf.keras.initializers.HeNormal(20)),\n",
    "    BatchNormalization(),\n",
    "#     Dropout(0.3),\n",
    "    \n",
    "    Dense(32, activation='relu',\n",
    "          kernel_regularizer=regularizers.l2(0.01),\n",
    "          kernel_initializer=tf.keras.initializers.HeNormal(20)),\n",
    "    BatchNormalization(),\n",
    "#     Dropout(0.2),\n",
    "    \n",
    "    Dense(1, activation='sigmoid')\n",
    "])\n",
    "\n",
    "# compile the model\n",
    "optimizer = Adam(learning_rate=0.001)\n",
    "model.compile(optimizer=optimizer,\n",
    "              loss='binary_crossentropy',\n",
    "              metrics=['accuracy', \n",
    "                       tf.keras.metrics.AUC(name='auc'),\n",
    "                       tf.keras.metrics.Recall(name='recall')])\n",
    "\n",
    "# model summary\n",
    "model.summary()"
   ]
  },
  {
   "cell_type": "markdown",
   "metadata": {},
   "source": [
    "### Model Training & Predicting"
   ]
  },
  {
   "cell_type": "code",
   "execution_count": 42,
   "metadata": {},
   "outputs": [
    {
     "name": "stdout",
     "output_type": "stream",
     "text": [
      "Epoch 1/100\n",
      "\u001b[1m88/88\u001b[0m \u001b[32m━━━━━━━━━━━━━━━━━━━━\u001b[0m\u001b[37m\u001b[0m \u001b[1m1s\u001b[0m 3ms/step - accuracy: 0.6510 - auc: 0.7129 - loss: 5.5272 - recall: 0.4825 - val_accuracy: 0.6550 - val_auc: 0.7146 - val_loss: 4.7508 - val_recall: 0.5042\n",
      "Epoch 2/100\n",
      "\u001b[1m88/88\u001b[0m \u001b[32m━━━━━━━━━━━━━━━━━━━━\u001b[0m\u001b[37m\u001b[0m \u001b[1m0s\u001b[0m 1ms/step - accuracy: 0.6748 - auc: 0.7467 - loss: 3.9439 - recall: 0.5120 - val_accuracy: 0.6691 - val_auc: 0.7124 - val_loss: 3.4787 - val_recall: 0.4875\n",
      "Epoch 3/100\n",
      "\u001b[1m88/88\u001b[0m \u001b[32m━━━━━━━━━━━━━━━━━━━━\u001b[0m\u001b[37m\u001b[0m \u001b[1m0s\u001b[0m 1ms/step - accuracy: 0.6739 - auc: 0.7408 - loss: 2.8883 - recall: 0.5061 - val_accuracy: 0.6750 - val_auc: 0.7365 - val_loss: 2.6184 - val_recall: 0.4996\n",
      "Epoch 4/100\n",
      "\u001b[1m88/88\u001b[0m \u001b[32m━━━━━━━━━━━━━━━━━━━━\u001b[0m\u001b[37m\u001b[0m \u001b[1m0s\u001b[0m 1ms/step - accuracy: 0.6747 - auc: 0.7435 - loss: 2.1762 - recall: 0.4994 - val_accuracy: 0.6759 - val_auc: 0.7421 - val_loss: 2.0322 - val_recall: 0.4715\n",
      "Epoch 5/100\n",
      "\u001b[1m88/88\u001b[0m \u001b[32m━━━━━━━━━━━━━━━━━━━━\u001b[0m\u001b[37m\u001b[0m \u001b[1m0s\u001b[0m 1ms/step - accuracy: 0.6751 - auc: 0.7472 - loss: 1.6884 - recall: 0.5023 - val_accuracy: 0.6773 - val_auc: 0.7472 - val_loss: 1.6216 - val_recall: 0.4715\n",
      "Epoch 6/100\n",
      "\u001b[1m88/88\u001b[0m \u001b[32m━━━━━━━━━━━━━━━━━━━━\u001b[0m\u001b[37m\u001b[0m \u001b[1m0s\u001b[0m 1ms/step - accuracy: 0.6780 - auc: 0.7456 - loss: 1.3490 - recall: 0.4990 - val_accuracy: 0.6750 - val_auc: 0.7561 - val_loss: 1.3362 - val_recall: 0.4677\n",
      "Epoch 7/100\n",
      "\u001b[1m88/88\u001b[0m \u001b[32m━━━━━━━━━━━━━━━━━━━━\u001b[0m\u001b[37m\u001b[0m \u001b[1m0s\u001b[0m 957us/step - accuracy: 0.6801 - auc: 0.7337 - loss: 1.1091 - recall: 0.4960 - val_accuracy: 0.6759 - val_auc: 0.7319 - val_loss: 1.1323 - val_recall: 0.4707\n",
      "Epoch 8/100\n",
      "\u001b[1m88/88\u001b[0m \u001b[32m━━━━━━━━━━━━━━━━━━━━\u001b[0m\u001b[37m\u001b[0m \u001b[1m0s\u001b[0m 980us/step - accuracy: 0.6780 - auc: 0.7406 - loss: 0.9303 - recall: 0.4897 - val_accuracy: 0.6732 - val_auc: 0.7341 - val_loss: 0.9745 - val_recall: 0.4920\n",
      "Epoch 9/100\n",
      "\u001b[1m88/88\u001b[0m \u001b[32m━━━━━━━━━━━━━━━━━━━━\u001b[0m\u001b[37m\u001b[0m \u001b[1m0s\u001b[0m 1ms/step - accuracy: 0.6752 - auc: 0.7333 - loss: 0.8014 - recall: 0.4870 - val_accuracy: 0.6768 - val_auc: 0.7331 - val_loss: 0.8560 - val_recall: 0.4669\n",
      "Epoch 10/100\n",
      "\u001b[1m88/88\u001b[0m \u001b[32m━━━━━━━━━━━━━━━━━━━━\u001b[0m\u001b[37m\u001b[0m \u001b[1m0s\u001b[0m 1ms/step - accuracy: 0.6747 - auc: 0.7427 - loss: 0.7049 - recall: 0.4777 - val_accuracy: 0.6782 - val_auc: 0.7276 - val_loss: 0.7725 - val_recall: 0.4966\n",
      "Epoch 11/100\n",
      "\u001b[1m88/88\u001b[0m \u001b[32m━━━━━━━━━━━━━━━━━━━━\u001b[0m\u001b[37m\u001b[0m \u001b[1m0s\u001b[0m 992us/step - accuracy: 0.6719 - auc: 0.7415 - loss: 0.6351 - recall: 0.4827 - val_accuracy: 0.6745 - val_auc: 0.7240 - val_loss: 0.7166 - val_recall: 0.4631\n",
      "Epoch 12/100\n",
      "\u001b[1m88/88\u001b[0m \u001b[32m━━━━━━━━━━━━━━━━━━━━\u001b[0m\u001b[37m\u001b[0m \u001b[1m0s\u001b[0m 993us/step - accuracy: 0.6741 - auc: 0.7279 - loss: 0.5825 - recall: 0.4710 - val_accuracy: 0.6814 - val_auc: 0.7341 - val_loss: 0.6646 - val_recall: 0.5019\n",
      "Epoch 13/100\n",
      "\u001b[1m88/88\u001b[0m \u001b[32m━━━━━━━━━━━━━━━━━━━━\u001b[0m\u001b[37m\u001b[0m \u001b[1m0s\u001b[0m 1ms/step - accuracy: 0.6743 - auc: 0.7343 - loss: 0.5419 - recall: 0.4806 - val_accuracy: 0.6782 - val_auc: 0.7424 - val_loss: 0.6309 - val_recall: 0.5057\n",
      "Epoch 14/100\n",
      "\u001b[1m88/88\u001b[0m \u001b[32m━━━━━━━━━━━━━━━━━━━━\u001b[0m\u001b[37m\u001b[0m \u001b[1m0s\u001b[0m 1ms/step - accuracy: 0.6771 - auc: 0.7358 - loss: 0.5078 - recall: 0.4768 - val_accuracy: 0.6845 - val_auc: 0.7448 - val_loss: 0.6051 - val_recall: 0.4852\n",
      "Epoch 15/100\n",
      "\u001b[1m88/88\u001b[0m \u001b[32m━━━━━━━━━━━━━━━━━━━━\u001b[0m\u001b[37m\u001b[0m \u001b[1m0s\u001b[0m 1ms/step - accuracy: 0.6746 - auc: 0.7372 - loss: 0.4865 - recall: 0.4750 - val_accuracy: 0.6827 - val_auc: 0.7228 - val_loss: 0.5799 - val_recall: 0.5156\n",
      "Epoch 16/100\n",
      "\u001b[1m88/88\u001b[0m \u001b[32m━━━━━━━━━━━━━━━━━━━━\u001b[0m\u001b[37m\u001b[0m \u001b[1m0s\u001b[0m 1ms/step - accuracy: 0.6776 - auc: 0.7340 - loss: 0.4710 - recall: 0.4788 - val_accuracy: 0.6841 - val_auc: 0.7473 - val_loss: 0.5584 - val_recall: 0.4913\n",
      "Epoch 17/100\n",
      "\u001b[1m88/88\u001b[0m \u001b[32m━━━━━━━━━━━━━━━━━━━━\u001b[0m\u001b[37m\u001b[0m \u001b[1m0s\u001b[0m 1ms/step - accuracy: 0.6772 - auc: 0.7365 - loss: 0.4567 - recall: 0.4745 - val_accuracy: 0.6827 - val_auc: 0.7370 - val_loss: 0.5540 - val_recall: 0.4890\n",
      "Epoch 18/100\n",
      "\u001b[1m88/88\u001b[0m \u001b[32m━━━━━━━━━━━━━━━━━━━━\u001b[0m\u001b[37m\u001b[0m \u001b[1m0s\u001b[0m 1ms/step - accuracy: 0.6803 - auc: 0.7391 - loss: 0.4475 - recall: 0.4827 - val_accuracy: 0.6886 - val_auc: 0.7380 - val_loss: 0.5435 - val_recall: 0.4973\n",
      "Epoch 19/100\n",
      "\u001b[1m88/88\u001b[0m \u001b[32m━━━━━━━━━━━━━━━━━━━━\u001b[0m\u001b[37m\u001b[0m \u001b[1m0s\u001b[0m 1ms/step - accuracy: 0.6805 - auc: 0.7440 - loss: 0.4423 - recall: 0.4842 - val_accuracy: 0.6814 - val_auc: 0.7403 - val_loss: 0.5459 - val_recall: 0.5065\n",
      "Epoch 20/100\n",
      "\u001b[1m88/88\u001b[0m \u001b[32m━━━━━━━━━━━━━━━━━━━━\u001b[0m\u001b[37m\u001b[0m \u001b[1m0s\u001b[0m 1ms/step - accuracy: 0.6720 - auc: 0.7400 - loss: 0.4396 - recall: 0.4705 - val_accuracy: 0.6732 - val_auc: 0.7446 - val_loss: 0.5414 - val_recall: 0.4852\n",
      "Epoch 21/100\n",
      "\u001b[1m88/88\u001b[0m \u001b[32m━━━━━━━━━━━━━━━━━━━━\u001b[0m\u001b[37m\u001b[0m \u001b[1m0s\u001b[0m 1ms/step - accuracy: 0.6742 - auc: 0.7395 - loss: 0.4360 - recall: 0.4747 - val_accuracy: 0.6773 - val_auc: 0.7487 - val_loss: 0.5474 - val_recall: 0.4677\n",
      "Epoch 22/100\n",
      "\u001b[1m88/88\u001b[0m \u001b[32m━━━━━━━━━━━━━━━━━━━━\u001b[0m\u001b[37m\u001b[0m \u001b[1m0s\u001b[0m 1ms/step - accuracy: 0.6737 - auc: 0.7322 - loss: 0.4343 - recall: 0.4663 - val_accuracy: 0.6791 - val_auc: 0.7309 - val_loss: 0.5361 - val_recall: 0.4753\n",
      "Epoch 23/100\n",
      "\u001b[1m88/88\u001b[0m \u001b[32m━━━━━━━━━━━━━━━━━━━━\u001b[0m\u001b[37m\u001b[0m \u001b[1m0s\u001b[0m 1ms/step - accuracy: 0.6719 - auc: 0.7394 - loss: 0.4319 - recall: 0.4688 - val_accuracy: 0.6782 - val_auc: 0.7415 - val_loss: 0.5718 - val_recall: 0.4738\n",
      "Epoch 24/100\n",
      "\u001b[1m88/88\u001b[0m \u001b[32m━━━━━━━━━━━━━━━━━━━━\u001b[0m\u001b[37m\u001b[0m \u001b[1m0s\u001b[0m 1ms/step - accuracy: 0.6758 - auc: 0.7370 - loss: 0.4294 - recall: 0.4729 - val_accuracy: 0.6823 - val_auc: 0.7381 - val_loss: 0.5554 - val_recall: 0.4821\n",
      "Epoch 25/100\n",
      "\u001b[1m88/88\u001b[0m \u001b[32m━━━━━━━━━━━━━━━━━━━━\u001b[0m\u001b[37m\u001b[0m \u001b[1m0s\u001b[0m 1ms/step - accuracy: 0.6744 - auc: 0.7322 - loss: 0.4294 - recall: 0.4762 - val_accuracy: 0.6818 - val_auc: 0.7308 - val_loss: 0.5353 - val_recall: 0.4768\n",
      "Epoch 26/100\n",
      "\u001b[1m88/88\u001b[0m \u001b[32m━━━━━━━━━━━━━━━━━━━━\u001b[0m\u001b[37m\u001b[0m \u001b[1m0s\u001b[0m 1ms/step - accuracy: 0.6781 - auc: 0.7367 - loss: 0.4255 - recall: 0.4762 - val_accuracy: 0.6805 - val_auc: 0.7269 - val_loss: 0.5384 - val_recall: 0.4798\n",
      "Epoch 27/100\n",
      "\u001b[1m88/88\u001b[0m \u001b[32m━━━━━━━━━━━━━━━━━━━━\u001b[0m\u001b[37m\u001b[0m \u001b[1m0s\u001b[0m 1ms/step - accuracy: 0.6773 - auc: 0.7365 - loss: 0.4254 - recall: 0.4729 - val_accuracy: 0.6827 - val_auc: 0.7515 - val_loss: 0.5254 - val_recall: 0.4867\n",
      "Epoch 28/100\n",
      "\u001b[1m88/88\u001b[0m \u001b[32m━━━━━━━━━━━━━━━━━━━━\u001b[0m\u001b[37m\u001b[0m \u001b[1m0s\u001b[0m 1ms/step - accuracy: 0.6739 - auc: 0.7371 - loss: 0.4279 - recall: 0.4684 - val_accuracy: 0.6768 - val_auc: 0.7432 - val_loss: 0.5303 - val_recall: 0.4677\n",
      "Epoch 29/100\n",
      "\u001b[1m88/88\u001b[0m \u001b[32m━━━━━━━━━━━━━━━━━━━━\u001b[0m\u001b[37m\u001b[0m \u001b[1m0s\u001b[0m 1ms/step - accuracy: 0.6760 - auc: 0.7373 - loss: 0.4268 - recall: 0.4756 - val_accuracy: 0.6868 - val_auc: 0.7391 - val_loss: 0.5255 - val_recall: 0.4973\n",
      "Epoch 30/100\n",
      "\u001b[1m88/88\u001b[0m \u001b[32m━━━━━━━━━━━━━━━━━━━━\u001b[0m\u001b[37m\u001b[0m \u001b[1m0s\u001b[0m 1ms/step - accuracy: 0.6792 - auc: 0.7401 - loss: 0.4223 - recall: 0.4781 - val_accuracy: 0.6827 - val_auc: 0.7248 - val_loss: 0.5265 - val_recall: 0.4859\n",
      "Epoch 31/100\n",
      "\u001b[1m88/88\u001b[0m \u001b[32m━━━━━━━━━━━━━━━━━━━━\u001b[0m\u001b[37m\u001b[0m \u001b[1m0s\u001b[0m 1ms/step - accuracy: 0.6772 - auc: 0.7373 - loss: 0.4230 - recall: 0.4728 - val_accuracy: 0.6882 - val_auc: 0.7527 - val_loss: 0.5316 - val_recall: 0.4958\n",
      "Epoch 32/100\n",
      "\u001b[1m88/88\u001b[0m \u001b[32m━━━━━━━━━━━━━━━━━━━━\u001b[0m\u001b[37m\u001b[0m \u001b[1m0s\u001b[0m 1ms/step - accuracy: 0.6760 - auc: 0.7317 - loss: 0.4235 - recall: 0.4728 - val_accuracy: 0.6855 - val_auc: 0.7243 - val_loss: 0.5711 - val_recall: 0.4875\n",
      "Epoch 33/100\n",
      "\u001b[1m88/88\u001b[0m \u001b[32m━━━━━━━━━━━━━━━━━━━━\u001b[0m\u001b[37m\u001b[0m \u001b[1m0s\u001b[0m 1ms/step - accuracy: 0.6747 - auc: 0.7392 - loss: 0.4240 - recall: 0.4680 - val_accuracy: 0.6836 - val_auc: 0.7316 - val_loss: 0.5327 - val_recall: 0.4859\n",
      "Epoch 34/100\n",
      "\u001b[1m88/88\u001b[0m \u001b[32m━━━━━━━━━━━━━━━━━━━━\u001b[0m\u001b[37m\u001b[0m \u001b[1m0s\u001b[0m 1ms/step - accuracy: 0.6808 - auc: 0.7341 - loss: 0.4228 - recall: 0.4773 - val_accuracy: 0.6841 - val_auc: 0.7448 - val_loss: 0.5218 - val_recall: 0.4837\n",
      "Epoch 35/100\n",
      "\u001b[1m88/88\u001b[0m \u001b[32m━━━━━━━━━━━━━━━━━━━━\u001b[0m\u001b[37m\u001b[0m \u001b[1m0s\u001b[0m 1ms/step - accuracy: 0.6779 - auc: 0.7338 - loss: 0.4228 - recall: 0.4728 - val_accuracy: 0.6805 - val_auc: 0.7386 - val_loss: 0.5212 - val_recall: 0.4760\n",
      "Epoch 36/100\n",
      "\u001b[1m88/88\u001b[0m \u001b[32m━━━━━━━━━━━━━━━━━━━━\u001b[0m\u001b[37m\u001b[0m \u001b[1m0s\u001b[0m 1ms/step - accuracy: 0.6769 - auc: 0.7377 - loss: 0.4229 - recall: 0.4748 - val_accuracy: 0.6850 - val_auc: 0.7407 - val_loss: 0.5129 - val_recall: 0.4928\n",
      "Epoch 37/100\n",
      "\u001b[1m88/88\u001b[0m \u001b[32m━━━━━━━━━━━━━━━━━━━━\u001b[0m\u001b[37m\u001b[0m \u001b[1m0s\u001b[0m 1ms/step - accuracy: 0.6808 - auc: 0.7346 - loss: 0.4202 - recall: 0.4788 - val_accuracy: 0.6841 - val_auc: 0.7412 - val_loss: 0.5342 - val_recall: 0.5156\n",
      "Epoch 38/100\n",
      "\u001b[1m88/88\u001b[0m \u001b[32m━━━━━━━━━━━━━━━━━━━━\u001b[0m\u001b[37m\u001b[0m \u001b[1m0s\u001b[0m 1ms/step - accuracy: 0.6793 - auc: 0.7475 - loss: 0.4210 - recall: 0.4787 - val_accuracy: 0.6873 - val_auc: 0.7369 - val_loss: 0.5201 - val_recall: 0.4867\n",
      "Epoch 39/100\n",
      "\u001b[1m88/88\u001b[0m \u001b[32m━━━━━━━━━━━━━━━━━━━━\u001b[0m\u001b[37m\u001b[0m \u001b[1m0s\u001b[0m 978us/step - accuracy: 0.6786 - auc: 0.7374 - loss: 0.4218 - recall: 0.4764 - val_accuracy: 0.6864 - val_auc: 0.7498 - val_loss: 0.5240 - val_recall: 0.4859\n",
      "Epoch 40/100\n",
      "\u001b[1m88/88\u001b[0m \u001b[32m━━━━━━━━━━━━━━━━━━━━\u001b[0m\u001b[37m\u001b[0m \u001b[1m0s\u001b[0m 966us/step - accuracy: 0.6810 - auc: 0.7305 - loss: 0.4217 - recall: 0.4796 - val_accuracy: 0.6845 - val_auc: 0.7377 - val_loss: 0.5305 - val_recall: 0.4852\n",
      "Epoch 41/100\n",
      "\u001b[1m88/88\u001b[0m \u001b[32m━━━━━━━━━━━━━━━━━━━━\u001b[0m\u001b[37m\u001b[0m \u001b[1m0s\u001b[0m 1ms/step - accuracy: 0.6794 - auc: 0.7301 - loss: 0.4209 - recall: 0.4769 - val_accuracy: 0.6832 - val_auc: 0.7379 - val_loss: 0.5363 - val_recall: 0.4844\n",
      "Epoch 42/100\n",
      "\u001b[1m88/88\u001b[0m \u001b[32m━━━━━━━━━━━━━━━━━━━━\u001b[0m\u001b[37m\u001b[0m \u001b[1m0s\u001b[0m 1ms/step - accuracy: 0.6746 - auc: 0.7322 - loss: 0.4234 - recall: 0.4731 - val_accuracy: 0.6823 - val_auc: 0.7493 - val_loss: 0.5322 - val_recall: 0.5186\n",
      "Epoch 43/100\n",
      "\u001b[1m88/88\u001b[0m \u001b[32m━━━━━━━━━━━━━━━━━━━━\u001b[0m\u001b[37m\u001b[0m \u001b[1m0s\u001b[0m 1ms/step - accuracy: 0.6776 - auc: 0.7325 - loss: 0.4224 - recall: 0.4735 - val_accuracy: 0.6886 - val_auc: 0.7488 - val_loss: 0.5135 - val_recall: 0.5027\n",
      "Epoch 44/100\n",
      "\u001b[1m88/88\u001b[0m \u001b[32m━━━━━━━━━━━━━━━━━━━━\u001b[0m\u001b[37m\u001b[0m \u001b[1m0s\u001b[0m 1ms/step - accuracy: 0.6798 - auc: 0.7396 - loss: 0.4192 - recall: 0.4817 - val_accuracy: 0.6841 - val_auc: 0.7393 - val_loss: 0.5260 - val_recall: 0.4776\n",
      "Epoch 45/100\n",
      "\u001b[1m88/88\u001b[0m \u001b[32m━━━━━━━━━━━━━━━━━━━━\u001b[0m\u001b[37m\u001b[0m \u001b[1m0s\u001b[0m 1ms/step - accuracy: 0.6770 - auc: 0.7343 - loss: 0.4228 - recall: 0.4724 - val_accuracy: 0.6836 - val_auc: 0.7331 - val_loss: 0.5552 - val_recall: 0.4821\n",
      "Epoch 46/100\n",
      "\u001b[1m88/88\u001b[0m \u001b[32m━━━━━━━━━━━━━━━━━━━━\u001b[0m\u001b[37m\u001b[0m \u001b[1m0s\u001b[0m 2ms/step - accuracy: 0.6793 - auc: 0.7418 - loss: 0.4215 - recall: 0.4771 - val_accuracy: 0.6873 - val_auc: 0.7395 - val_loss: 0.5265 - val_recall: 0.4852\n",
      "Epoch 47/100\n",
      "\u001b[1m88/88\u001b[0m \u001b[32m━━━━━━━━━━━━━━━━━━━━\u001b[0m\u001b[37m\u001b[0m \u001b[1m0s\u001b[0m 1ms/step - accuracy: 0.6789 - auc: 0.7397 - loss: 0.4214 - recall: 0.4754 - val_accuracy: 0.6873 - val_auc: 0.7395 - val_loss: 0.5161 - val_recall: 0.4905\n",
      "Epoch 48/100\n",
      "\u001b[1m88/88\u001b[0m \u001b[32m━━━━━━━━━━━━━━━━━━━━\u001b[0m\u001b[37m\u001b[0m \u001b[1m0s\u001b[0m 1ms/step - accuracy: 0.6781 - auc: 0.7400 - loss: 0.4181 - recall: 0.4728 - val_accuracy: 0.6873 - val_auc: 0.7300 - val_loss: 0.5390 - val_recall: 0.4821\n",
      "Epoch 49/100\n",
      "\u001b[1m88/88\u001b[0m \u001b[32m━━━━━━━━━━━━━━━━━━━━\u001b[0m\u001b[37m\u001b[0m \u001b[1m0s\u001b[0m 1ms/step - accuracy: 0.6813 - auc: 0.7376 - loss: 0.4190 - recall: 0.4811 - val_accuracy: 0.6855 - val_auc: 0.7496 - val_loss: 0.5320 - val_recall: 0.4821\n",
      "Epoch 50/100\n",
      "\u001b[1m88/88\u001b[0m \u001b[32m━━━━━━━━━━━━━━━━━━━━\u001b[0m\u001b[37m\u001b[0m \u001b[1m0s\u001b[0m 1ms/step - accuracy: 0.6804 - auc: 0.7328 - loss: 0.4178 - recall: 0.4787 - val_accuracy: 0.6841 - val_auc: 0.7472 - val_loss: 0.5245 - val_recall: 0.4966\n",
      "Epoch 51/100\n",
      "\u001b[1m88/88\u001b[0m \u001b[32m━━━━━━━━━━━━━━━━━━━━\u001b[0m\u001b[37m\u001b[0m \u001b[1m0s\u001b[0m 1ms/step - accuracy: 0.6780 - auc: 0.7397 - loss: 0.4272 - recall: 0.4771 - val_accuracy: 0.6832 - val_auc: 0.7361 - val_loss: 0.5396 - val_recall: 0.4958\n",
      "Epoch 52/100\n",
      "\u001b[1m88/88\u001b[0m \u001b[32m━━━━━━━━━━━━━━━━━━━━\u001b[0m\u001b[37m\u001b[0m \u001b[1m0s\u001b[0m 1ms/step - accuracy: 0.6820 - auc: 0.7353 - loss: 0.4206 - recall: 0.4804 - val_accuracy: 0.6845 - val_auc: 0.7416 - val_loss: 0.5448 - val_recall: 0.4798\n",
      "Epoch 53/100\n",
      "\u001b[1m88/88\u001b[0m \u001b[32m━━━━━━━━━━━━━━━━━━━━\u001b[0m\u001b[37m\u001b[0m \u001b[1m0s\u001b[0m 1ms/step - accuracy: 0.6819 - auc: 0.7367 - loss: 0.4177 - recall: 0.4787 - val_accuracy: 0.6814 - val_auc: 0.7385 - val_loss: 0.5261 - val_recall: 0.4935\n",
      "Epoch 54/100\n",
      "\u001b[1m88/88\u001b[0m \u001b[32m━━━━━━━━━━━━━━━━━━━━\u001b[0m\u001b[37m\u001b[0m \u001b[1m0s\u001b[0m 1ms/step - accuracy: 0.6775 - auc: 0.7400 - loss: 0.4170 - recall: 0.4743 - val_accuracy: 0.6800 - val_auc: 0.7417 - val_loss: 0.5198 - val_recall: 0.4707\n",
      "Epoch 55/100\n",
      "\u001b[1m88/88\u001b[0m \u001b[32m━━━━━━━━━━━━━━━━━━━━\u001b[0m\u001b[37m\u001b[0m \u001b[1m0s\u001b[0m 1ms/step - accuracy: 0.6784 - auc: 0.7373 - loss: 0.4189 - recall: 0.4735 - val_accuracy: 0.6827 - val_auc: 0.7389 - val_loss: 0.5193 - val_recall: 0.4768\n",
      "Epoch 56/100\n",
      "\u001b[1m88/88\u001b[0m \u001b[32m━━━━━━━━━━━━━━━━━━━━\u001b[0m\u001b[37m\u001b[0m \u001b[1m0s\u001b[0m 1ms/step - accuracy: 0.6800 - auc: 0.7417 - loss: 0.4169 - recall: 0.4775 - val_accuracy: 0.6864 - val_auc: 0.7416 - val_loss: 0.5614 - val_recall: 0.4837\n",
      "Epoch 57/100\n",
      "\u001b[1m88/88\u001b[0m \u001b[32m━━━━━━━━━━━━━━━━━━━━\u001b[0m\u001b[37m\u001b[0m \u001b[1m0s\u001b[0m 1ms/step - accuracy: 0.6785 - auc: 0.7383 - loss: 0.4177 - recall: 0.4756 - val_accuracy: 0.6836 - val_auc: 0.7394 - val_loss: 0.5295 - val_recall: 0.4768\n",
      "Epoch 58/100\n",
      "\u001b[1m88/88\u001b[0m \u001b[32m━━━━━━━━━━━━━━━━━━━━\u001b[0m\u001b[37m\u001b[0m \u001b[1m0s\u001b[0m 1ms/step - accuracy: 0.6787 - auc: 0.7376 - loss: 0.4177 - recall: 0.4743 - val_accuracy: 0.6845 - val_auc: 0.7380 - val_loss: 0.5150 - val_recall: 0.4852\n",
      "Epoch 59/100\n",
      "\u001b[1m88/88\u001b[0m \u001b[32m━━━━━━━━━━━━━━━━━━━━\u001b[0m\u001b[37m\u001b[0m \u001b[1m0s\u001b[0m 1ms/step - accuracy: 0.6780 - auc: 0.7371 - loss: 0.4161 - recall: 0.4758 - val_accuracy: 0.6855 - val_auc: 0.7405 - val_loss: 0.5581 - val_recall: 0.4783\n",
      "Epoch 60/100\n",
      "\u001b[1m88/88\u001b[0m \u001b[32m━━━━━━━━━━━━━━━━━━━━\u001b[0m\u001b[37m\u001b[0m \u001b[1m0s\u001b[0m 1ms/step - accuracy: 0.6784 - auc: 0.7372 - loss: 0.4219 - recall: 0.4748 - val_accuracy: 0.6850 - val_auc: 0.7424 - val_loss: 0.5145 - val_recall: 0.4890\n",
      "Epoch 61/100\n",
      "\u001b[1m88/88\u001b[0m \u001b[32m━━━━━━━━━━━━━━━━━━━━\u001b[0m\u001b[37m\u001b[0m \u001b[1m0s\u001b[0m 1ms/step - accuracy: 0.6801 - auc: 0.7411 - loss: 0.4173 - recall: 0.4766 - val_accuracy: 0.6845 - val_auc: 0.7437 - val_loss: 0.5143 - val_recall: 0.4798\n",
      "Epoch 62/100\n",
      "\u001b[1m88/88\u001b[0m \u001b[32m━━━━━━━━━━━━━━━━━━━━\u001b[0m\u001b[37m\u001b[0m \u001b[1m0s\u001b[0m 1ms/step - accuracy: 0.6787 - auc: 0.7341 - loss: 0.4192 - recall: 0.4710 - val_accuracy: 0.6845 - val_auc: 0.7388 - val_loss: 0.5181 - val_recall: 0.4806\n",
      "Epoch 63/100\n",
      "\u001b[1m88/88\u001b[0m \u001b[32m━━━━━━━━━━━━━━━━━━━━\u001b[0m\u001b[37m\u001b[0m \u001b[1m0s\u001b[0m 1ms/step - accuracy: 0.6805 - auc: 0.7351 - loss: 0.4180 - recall: 0.4771 - val_accuracy: 0.6864 - val_auc: 0.7415 - val_loss: 0.5381 - val_recall: 0.4890\n",
      "Epoch 64/100\n",
      "\u001b[1m88/88\u001b[0m \u001b[32m━━━━━━━━━━━━━━━━━━━━\u001b[0m\u001b[37m\u001b[0m \u001b[1m0s\u001b[0m 1ms/step - accuracy: 0.6791 - auc: 0.7360 - loss: 0.4170 - recall: 0.4762 - val_accuracy: 0.6859 - val_auc: 0.7373 - val_loss: 0.5158 - val_recall: 0.4890\n",
      "Epoch 65/100\n",
      "\u001b[1m88/88\u001b[0m \u001b[32m━━━━━━━━━━━━━━━━━━━━\u001b[0m\u001b[37m\u001b[0m \u001b[1m0s\u001b[0m 1ms/step - accuracy: 0.6816 - auc: 0.7387 - loss: 0.4163 - recall: 0.4775 - val_accuracy: 0.6859 - val_auc: 0.7443 - val_loss: 0.5210 - val_recall: 0.4798\n",
      "Epoch 66/100\n",
      "\u001b[1m88/88\u001b[0m \u001b[32m━━━━━━━━━━━━━━━━━━━━\u001b[0m\u001b[37m\u001b[0m \u001b[1m0s\u001b[0m 1ms/step - accuracy: 0.6806 - auc: 0.7423 - loss: 0.4174 - recall: 0.4819 - val_accuracy: 0.6886 - val_auc: 0.7468 - val_loss: 0.5152 - val_recall: 0.4852\n",
      "Epoch 67/100\n",
      "\u001b[1m88/88\u001b[0m \u001b[32m━━━━━━━━━━━━━━━━━━━━\u001b[0m\u001b[37m\u001b[0m \u001b[1m0s\u001b[0m 1ms/step - accuracy: 0.6812 - auc: 0.7391 - loss: 0.4151 - recall: 0.4762 - val_accuracy: 0.6868 - val_auc: 0.7418 - val_loss: 0.5307 - val_recall: 0.5087\n",
      "Epoch 68/100\n",
      "\u001b[1m88/88\u001b[0m \u001b[32m━━━━━━━━━━━━━━━━━━━━\u001b[0m\u001b[37m\u001b[0m \u001b[1m0s\u001b[0m 1ms/step - accuracy: 0.6794 - auc: 0.7373 - loss: 0.4198 - recall: 0.4808 - val_accuracy: 0.6818 - val_auc: 0.7365 - val_loss: 0.5503 - val_recall: 0.4730\n",
      "Epoch 69/100\n",
      "\u001b[1m88/88\u001b[0m \u001b[32m━━━━━━━━━━━━━━━━━━━━\u001b[0m\u001b[37m\u001b[0m \u001b[1m0s\u001b[0m 1ms/step - accuracy: 0.6789 - auc: 0.7371 - loss: 0.4187 - recall: 0.4756 - val_accuracy: 0.6864 - val_auc: 0.7412 - val_loss: 0.5258 - val_recall: 0.4852\n",
      "Epoch 70/100\n",
      "\u001b[1m88/88\u001b[0m \u001b[32m━━━━━━━━━━━━━━━━━━━━\u001b[0m\u001b[37m\u001b[0m \u001b[1m0s\u001b[0m 1ms/step - accuracy: 0.6810 - auc: 0.7376 - loss: 0.4166 - recall: 0.4798 - val_accuracy: 0.6864 - val_auc: 0.7355 - val_loss: 0.5227 - val_recall: 0.5042\n",
      "Epoch 71/100\n",
      "\u001b[1m88/88\u001b[0m \u001b[32m━━━━━━━━━━━━━━━━━━━━\u001b[0m\u001b[37m\u001b[0m \u001b[1m0s\u001b[0m 1ms/step - accuracy: 0.6817 - auc: 0.7437 - loss: 0.4118 - recall: 0.4735 - val_accuracy: 0.6859 - val_auc: 0.7406 - val_loss: 0.5216 - val_recall: 0.4844\n",
      "Epoch 72/100\n",
      "\u001b[1m88/88\u001b[0m \u001b[32m━━━━━━━━━━━━━━━━━━━━\u001b[0m\u001b[37m\u001b[0m \u001b[1m0s\u001b[0m 1ms/step - accuracy: 0.6752 - auc: 0.7459 - loss: 0.4186 - recall: 0.4701 - val_accuracy: 0.6800 - val_auc: 0.7385 - val_loss: 0.5257 - val_recall: 0.4707\n",
      "Epoch 73/100\n",
      "\u001b[1m88/88\u001b[0m \u001b[32m━━━━━━━━━━━━━━━━━━━━\u001b[0m\u001b[37m\u001b[0m \u001b[1m0s\u001b[0m 1ms/step - accuracy: 0.6769 - auc: 0.7405 - loss: 0.4152 - recall: 0.4689 - val_accuracy: 0.6877 - val_auc: 0.7474 - val_loss: 0.5058 - val_recall: 0.5065\n",
      "Epoch 74/100\n",
      "\u001b[1m88/88\u001b[0m \u001b[32m━━━━━━━━━━━━━━━━━━━━\u001b[0m\u001b[37m\u001b[0m \u001b[1m0s\u001b[0m 1ms/step - accuracy: 0.6792 - auc: 0.7397 - loss: 0.4155 - recall: 0.4779 - val_accuracy: 0.6823 - val_auc: 0.7436 - val_loss: 0.5155 - val_recall: 0.4829\n",
      "Epoch 75/100\n",
      "\u001b[1m88/88\u001b[0m \u001b[32m━━━━━━━━━━━━━━━━━━━━\u001b[0m\u001b[37m\u001b[0m \u001b[1m0s\u001b[0m 1ms/step - accuracy: 0.6784 - auc: 0.7432 - loss: 0.4164 - recall: 0.4724 - val_accuracy: 0.6841 - val_auc: 0.7354 - val_loss: 0.5324 - val_recall: 0.4852\n",
      "Epoch 76/100\n",
      "\u001b[1m88/88\u001b[0m \u001b[32m━━━━━━━━━━━━━━━━━━━━\u001b[0m\u001b[37m\u001b[0m \u001b[1m0s\u001b[0m 987us/step - accuracy: 0.6780 - auc: 0.7445 - loss: 0.4184 - recall: 0.4729 - val_accuracy: 0.6859 - val_auc: 0.7336 - val_loss: 0.5243 - val_recall: 0.4859\n",
      "Epoch 77/100\n",
      "\u001b[1m88/88\u001b[0m \u001b[32m━━━━━━━━━━━━━━━━━━━━\u001b[0m\u001b[37m\u001b[0m \u001b[1m0s\u001b[0m 1ms/step - accuracy: 0.6805 - auc: 0.7351 - loss: 0.4183 - recall: 0.4766 - val_accuracy: 0.6855 - val_auc: 0.7456 - val_loss: 0.5088 - val_recall: 0.4928\n",
      "Epoch 78/100\n",
      "\u001b[1m88/88\u001b[0m \u001b[32m━━━━━━━━━━━━━━━━━━━━\u001b[0m\u001b[37m\u001b[0m \u001b[1m0s\u001b[0m 1ms/step - accuracy: 0.6778 - auc: 0.7388 - loss: 0.4173 - recall: 0.4705 - val_accuracy: 0.6850 - val_auc: 0.7396 - val_loss: 0.5246 - val_recall: 0.4821\n",
      "Epoch 79/100\n",
      "\u001b[1m88/88\u001b[0m \u001b[32m━━━━━━━━━━━━━━━━━━━━\u001b[0m\u001b[37m\u001b[0m \u001b[1m0s\u001b[0m 1ms/step - accuracy: 0.6824 - auc: 0.7393 - loss: 0.4138 - recall: 0.4796 - val_accuracy: 0.6855 - val_auc: 0.7426 - val_loss: 0.5170 - val_recall: 0.4837\n",
      "Epoch 80/100\n",
      "\u001b[1m88/88\u001b[0m \u001b[32m━━━━━━━━━━━━━━━━━━━━\u001b[0m\u001b[37m\u001b[0m \u001b[1m0s\u001b[0m 1ms/step - accuracy: 0.6776 - auc: 0.7366 - loss: 0.4160 - recall: 0.4710 - val_accuracy: 0.6836 - val_auc: 0.7417 - val_loss: 0.5481 - val_recall: 0.4821\n",
      "Epoch 81/100\n",
      "\u001b[1m88/88\u001b[0m \u001b[32m━━━━━━━━━━━━━━━━━━━━\u001b[0m\u001b[37m\u001b[0m \u001b[1m0s\u001b[0m 1ms/step - accuracy: 0.6806 - auc: 0.7488 - loss: 0.4129 - recall: 0.4758 - val_accuracy: 0.6864 - val_auc: 0.7465 - val_loss: 0.5215 - val_recall: 0.4973\n",
      "Epoch 82/100\n",
      "\u001b[1m88/88\u001b[0m \u001b[32m━━━━━━━━━━━━━━━━━━━━\u001b[0m\u001b[37m\u001b[0m \u001b[1m0s\u001b[0m 1ms/step - accuracy: 0.6803 - auc: 0.7423 - loss: 0.4147 - recall: 0.4787 - val_accuracy: 0.6805 - val_auc: 0.7486 - val_loss: 0.5150 - val_recall: 0.5202\n",
      "Epoch 83/100\n",
      "\u001b[1m88/88\u001b[0m \u001b[32m━━━━━━━━━━━━━━━━━━━━\u001b[0m\u001b[37m\u001b[0m \u001b[1m0s\u001b[0m 1ms/step - accuracy: 0.6788 - auc: 0.7339 - loss: 0.4162 - recall: 0.4762 - val_accuracy: 0.6918 - val_auc: 0.7387 - val_loss: 0.5152 - val_recall: 0.5095\n",
      "Epoch 84/100\n",
      "\u001b[1m88/88\u001b[0m \u001b[32m━━━━━━━━━━━━━━━━━━━━\u001b[0m\u001b[37m\u001b[0m \u001b[1m0s\u001b[0m 1ms/step - accuracy: 0.6819 - auc: 0.7405 - loss: 0.4139 - recall: 0.4796 - val_accuracy: 0.6891 - val_auc: 0.7485 - val_loss: 0.5072 - val_recall: 0.5087\n",
      "Epoch 85/100\n",
      "\u001b[1m88/88\u001b[0m \u001b[32m━━━━━━━━━━━━━━━━━━━━\u001b[0m\u001b[37m\u001b[0m \u001b[1m0s\u001b[0m 1ms/step - accuracy: 0.6810 - auc: 0.7421 - loss: 0.4153 - recall: 0.4821 - val_accuracy: 0.6859 - val_auc: 0.7467 - val_loss: 0.5144 - val_recall: 0.4821\n",
      "Epoch 86/100\n",
      "\u001b[1m88/88\u001b[0m \u001b[32m━━━━━━━━━━━━━━━━━━━━\u001b[0m\u001b[37m\u001b[0m \u001b[1m0s\u001b[0m 1ms/step - accuracy: 0.6797 - auc: 0.7382 - loss: 0.4155 - recall: 0.4729 - val_accuracy: 0.6886 - val_auc: 0.7393 - val_loss: 0.5240 - val_recall: 0.4897\n",
      "Epoch 87/100\n",
      "\u001b[1m88/88\u001b[0m \u001b[32m━━━━━━━━━━━━━━━━━━━━\u001b[0m\u001b[37m\u001b[0m \u001b[1m0s\u001b[0m 1ms/step - accuracy: 0.6812 - auc: 0.7447 - loss: 0.4138 - recall: 0.4788 - val_accuracy: 0.6864 - val_auc: 0.7452 - val_loss: 0.5375 - val_recall: 0.4859\n",
      "Epoch 88/100\n",
      "\u001b[1m88/88\u001b[0m \u001b[32m━━━━━━━━━━━━━━━━━━━━\u001b[0m\u001b[37m\u001b[0m \u001b[1m0s\u001b[0m 1ms/step - accuracy: 0.6821 - auc: 0.7346 - loss: 0.4146 - recall: 0.4794 - val_accuracy: 0.6891 - val_auc: 0.7348 - val_loss: 0.5185 - val_recall: 0.4905\n",
      "Epoch 89/100\n",
      "\u001b[1m88/88\u001b[0m \u001b[32m━━━━━━━━━━━━━━━━━━━━\u001b[0m\u001b[37m\u001b[0m \u001b[1m0s\u001b[0m 1ms/step - accuracy: 0.6810 - auc: 0.7389 - loss: 0.4145 - recall: 0.4766 - val_accuracy: 0.6882 - val_auc: 0.7390 - val_loss: 0.5066 - val_recall: 0.4867\n",
      "Epoch 90/100\n",
      "\u001b[1m88/88\u001b[0m \u001b[32m━━━━━━━━━━━━━━━━━━━━\u001b[0m\u001b[37m\u001b[0m \u001b[1m0s\u001b[0m 1ms/step - accuracy: 0.6801 - auc: 0.7400 - loss: 0.4147 - recall: 0.4743 - val_accuracy: 0.6841 - val_auc: 0.7343 - val_loss: 0.5254 - val_recall: 0.4806\n",
      "Epoch 91/100\n",
      "\u001b[1m88/88\u001b[0m \u001b[32m━━━━━━━━━━━━━━━━━━━━\u001b[0m\u001b[37m\u001b[0m \u001b[1m0s\u001b[0m 1ms/step - accuracy: 0.6802 - auc: 0.7384 - loss: 0.4142 - recall: 0.4754 - val_accuracy: 0.6895 - val_auc: 0.7380 - val_loss: 0.5086 - val_recall: 0.5027\n",
      "Epoch 92/100\n",
      "\u001b[1m88/88\u001b[0m \u001b[32m━━━━━━━━━━━━━━━━━━━━\u001b[0m\u001b[37m\u001b[0m \u001b[1m0s\u001b[0m 1ms/step - accuracy: 0.6820 - auc: 0.7388 - loss: 0.4130 - recall: 0.4783 - val_accuracy: 0.6805 - val_auc: 0.7411 - val_loss: 0.5315 - val_recall: 0.4677\n",
      "Epoch 93/100\n",
      "\u001b[1m88/88\u001b[0m \u001b[32m━━━━━━━━━━━━━━━━━━━━\u001b[0m\u001b[37m\u001b[0m \u001b[1m0s\u001b[0m 1ms/step - accuracy: 0.6802 - auc: 0.7369 - loss: 0.4155 - recall: 0.4718 - val_accuracy: 0.6868 - val_auc: 0.7375 - val_loss: 0.5204 - val_recall: 0.4837\n",
      "Epoch 94/100\n",
      "\u001b[1m88/88\u001b[0m \u001b[32m━━━━━━━━━━━━━━━━━━━━\u001b[0m\u001b[37m\u001b[0m \u001b[1m0s\u001b[0m 1ms/step - accuracy: 0.6802 - auc: 0.7418 - loss: 0.4149 - recall: 0.4756 - val_accuracy: 0.6859 - val_auc: 0.7397 - val_loss: 0.5185 - val_recall: 0.4837\n",
      "Epoch 95/100\n",
      "\u001b[1m88/88\u001b[0m \u001b[32m━━━━━━━━━━━━━━━━━━━━\u001b[0m\u001b[37m\u001b[0m \u001b[1m0s\u001b[0m 1ms/step - accuracy: 0.6796 - auc: 0.7308 - loss: 0.4154 - recall: 0.4716 - val_accuracy: 0.6886 - val_auc: 0.7405 - val_loss: 0.5192 - val_recall: 0.4943\n",
      "Epoch 96/100\n",
      "\u001b[1m88/88\u001b[0m \u001b[32m━━━━━━━━━━━━━━━━━━━━\u001b[0m\u001b[37m\u001b[0m \u001b[1m0s\u001b[0m 1ms/step - accuracy: 0.6833 - auc: 0.7431 - loss: 0.4132 - recall: 0.4811 - val_accuracy: 0.6886 - val_auc: 0.7404 - val_loss: 0.5144 - val_recall: 0.4905\n",
      "Epoch 97/100\n",
      "\u001b[1m88/88\u001b[0m \u001b[32m━━━━━━━━━━━━━━━━━━━━\u001b[0m\u001b[37m\u001b[0m \u001b[1m0s\u001b[0m 1ms/step - accuracy: 0.6845 - auc: 0.7411 - loss: 0.4122 - recall: 0.4832 - val_accuracy: 0.6909 - val_auc: 0.7386 - val_loss: 0.5128 - val_recall: 0.5004\n",
      "Epoch 98/100\n",
      "\u001b[1m88/88\u001b[0m \u001b[32m━━━━━━━━━━━━━━━━━━━━\u001b[0m\u001b[37m\u001b[0m \u001b[1m0s\u001b[0m 1ms/step - accuracy: 0.6804 - auc: 0.7386 - loss: 0.4149 - recall: 0.4748 - val_accuracy: 0.6814 - val_auc: 0.7338 - val_loss: 0.5285 - val_recall: 0.4707\n",
      "Epoch 99/100\n",
      "\u001b[1m88/88\u001b[0m \u001b[32m━━━━━━━━━━━━━━━━━━━━\u001b[0m\u001b[37m\u001b[0m \u001b[1m0s\u001b[0m 1ms/step - accuracy: 0.6793 - auc: 0.7491 - loss: 0.4154 - recall: 0.4737 - val_accuracy: 0.6845 - val_auc: 0.7367 - val_loss: 0.5192 - val_recall: 0.4837\n",
      "Epoch 100/100\n",
      "\u001b[1m88/88\u001b[0m \u001b[32m━━━━━━━━━━━━━━━━━━━━\u001b[0m\u001b[37m\u001b[0m \u001b[1m0s\u001b[0m 1ms/step - accuracy: 0.6824 - auc: 0.7434 - loss: 0.4138 - recall: 0.4754 - val_accuracy: 0.6909 - val_auc: 0.7426 - val_loss: 0.5152 - val_recall: 0.4913\n"
     ]
    }
   ],
   "source": [
    "history = model.fit(\n",
    "    preprocessing.transform(X_train), y_train,\n",
    "    validation_data=(preprocessing.transform(X_test), y_test),\n",
    "    epochs=100,\n",
    "    batch_size=100,\n",
    "    class_weight={0: 1, 1: len(y_train[y_train==0])/len(y_train[y_train==1])},\n",
    "    verbose=1\n",
    ")"
   ]
  },
  {
   "cell_type": "markdown",
   "metadata": {},
   "source": [
    "### Model Evaluation"
   ]
  },
  {
   "cell_type": "code",
   "execution_count": 43,
   "metadata": {},
   "outputs": [
    {
     "data": {
      "image/png": "[encoded data removed]",
      "text/plain": [
       "<Figure size 1800x1200 with 2 Axes>"
      ]
     },
     "metadata": {},
     "output_type": "display_data"
    }
   ],
   "source": [
    "# plot training results\n",
    "history_df = pd.DataFrame(history.history)\n",
    "\n",
    "plt.figure(figsize=(18, 12))\n",
    "\n",
    "# loss\n",
    "plt.subplot(2, 2, 1)\n",
    "sns.lineplot(data=history_df[['loss', 'val_loss']])\n",
    "plt.title('Model Loss')\n",
    "plt.ylabel('Loss')\n",
    "plt.xlabel('Epoch')\n",
    "plt.legend(['Train', 'Validation'])\n",
    "plt.grid()\n",
    "\n",
    "# accuracy\n",
    "plt.subplot(2, 2, 2)\n",
    "sns.lineplot(data=history_df[['accuracy', 'val_accuracy']])\n",
    "plt.title('Model Accuracy')\n",
    "plt.ylabel('Accuracy')\n",
    "plt.xlabel('Epoch')\n",
    "plt.legend(['Train', 'Validation'])\n",
    "plt.grid()\n",
    "\n",
    "plt.tight_layout()\n",
    "plt.show()"
   ]
  },
  {
   "cell_type": "code",
   "execution_count": 44,
   "metadata": {},
   "outputs": [
    {
     "name": "stdout",
     "output_type": "stream",
     "text": [
      "\n",
      "Deep Learning Model Evaluation:\n",
      "===============================\n",
      "\u001b[1m275/275\u001b[0m \u001b[32m━━━━━━━━━━━━━━━━━━━━\u001b[0m\u001b[37m\u001b[0m \u001b[1m0s\u001b[0m 388us/step\n",
      "\n",
      "TRAINING SET PERFORMANCE:\n",
      "Classification Report:\n",
      "              precision    recall  f1-score   support\n",
      "\n",
      "           0       0.60      0.25      0.35      3551\n",
      "           1       0.64      0.89      0.74      5248\n",
      "\n",
      "    accuracy                           0.63      8799\n",
      "   macro avg       0.62      0.57      0.55      8799\n",
      "weighted avg       0.62      0.63      0.58      8799\n",
      "\n",
      "ROC-AUC: 0.7518\n",
      "\u001b[1m69/69\u001b[0m \u001b[32m━━━━━━━━━━━━━━━━━━━━\u001b[0m\u001b[37m\u001b[0m \u001b[1m0s\u001b[0m 332us/step\n",
      "\n",
      "TEST SET PERFORMANCE:\n",
      "Classification Report:\n",
      "              precision    recall  f1-score   support\n",
      "\n",
      "           0       0.56      0.24      0.34       885\n",
      "           1       0.63      0.87      0.73      1315\n",
      "\n",
      "    accuracy                           0.62      2200\n",
      "   macro avg       0.60      0.56      0.54      2200\n",
      "weighted avg       0.60      0.62      0.57      2200\n",
      "\n",
      "ROC-AUC: 0.7393\n",
      "Recall for Delays (1): 87.22%\n"
     ]
    }
   ],
   "source": [
    "# evaluate the model\n",
    "print(\"\\nDeep Learning Model Evaluation:\")\n",
    "print(\"===============================\")\n",
    "\n",
    "# training set evaluation\n",
    "train_pred_probs = model.predict(preprocessing.transform(X_train))\n",
    "train_pred = (train_pred_probs > 0.35).astype(int)\n",
    "print(\"\\nTRAINING SET PERFORMANCE:\")\n",
    "print(\"Classification Report:\")\n",
    "print(classification_report(y_train, train_pred))\n",
    "print(f\"ROC-AUC: {roc_auc_score(y_train, train_pred_probs):.4f}\")\n",
    "\n",
    "# test set evaluation\n",
    "test_pred_probs = model.predict(preprocessing.transform(X_test))\n",
    "test_pred = (test_pred_probs > 0.35).astype(int)\n",
    "print(\"\\nTEST SET PERFORMANCE:\")\n",
    "print(\"Classification Report:\")\n",
    "print(classification_report(y_test, test_pred))\n",
    "print(f\"ROC-AUC: {roc_auc_score(y_test, test_pred_probs):.4f}\")\n",
    "print(f\"Recall for Delays (1): {recall_score(y_test, test_pred, pos_label=1):.2%}\")"
   ]
  },
  {
   "cell_type": "markdown",
   "metadata": {},
   "source": [
    "- High delay recall on test (87.6%), this meets a high-recall objective: the model catches ~1,152 of 1,315 actual delays (~163 missed). That’s a big lift vs. classical baselines and aligns with an SLA “safety-net” strategy.\n",
    "\n",
    "- But recall is extremely asymmetric across classes, class-0 (on-time) recall = 0.22 on test, meaning 78% of on-time shipments are flagged as delayed (false alarms). This explains overall accuracy (0.61) and signals a very low operating threshold.\n",
    "\n",
    "- ROC-AUC is only moderate (0.74 test, 0.75 train), ranking/separability is comparable to XGBoost/Random Forest and not dramatically better. The small train-test AUC drop (0.749 - 0.740) suggests limited overfitting, but also that deep learning has not improved intrinsic separability, gains are mostly from threshold choice favoring recall.\n",
    "\n",
    "- Train vs. test recall is consistent for the delay class (0.89 - 0.876), which is good for stability. However, the probability calibration/threshold is clearly tuned to maximize delay catch, sacrificing on-time recognition.\n",
    "\n",
    "- It has achieved a strong delay safety net (very few late orders slip through), at the cost of many false positives (operations/CS workload). Given precision for delays  (0.63), roughly 2 in 3 “delayed” alerts are correct—the rest will need triage.\n",
    "\n",
    "- The DL model hits a high recall target on delays (great for SLA risk capture), but ROC-AUC remains moderate, indicating no superior separability vs. tree models. Preserve the high-recall operating point, then add calibration + a second-stage reranker to curb false positives and keep ops load sustainable."
   ]
  },
  {
   "cell_type": "markdown",
   "metadata": {},
   "source": [
    "Model Saving\n",
    "==="
   ]
  },
  {
   "cell_type": "code",
   "execution_count": 45,
   "metadata": {},
   "outputs": [],
   "source": [
    "model.save('my_sequential_model.keras', include_optimizer=True)"
   ]
  }
 ],
 "metadata": {
  "kernelspec": {
   "display_name": "phase_2",
   "language": "python",
   "name": "python3"
  },
  "language_info": {
   "codemirror_mode": {
    "name": "ipython",
    "version": 3
   },
   "file_extension": ".py",
   "mimetype": "text/x-python",
   "name": "python",
   "nbconvert_exporter": "python",
   "pygments_lexer": "ipython3",
   "version": "3.10.18"
  }
 },
 "nbformat": 4,
 "nbformat_minor": 2
}
